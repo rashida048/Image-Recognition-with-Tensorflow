{
 "cells": [
  {
   "cell_type": "code",
   "execution_count": 1,
   "metadata": {},
   "outputs": [],
   "source": [
    "import tensorflow as tf\n",
    "from tensorflow import keras"
   ]
  },
  {
   "cell_type": "code",
   "execution_count": 3,
   "metadata": {},
   "outputs": [],
   "source": [
    "from tensorflow.keras.datasets import cifar10"
   ]
  },
  {
   "cell_type": "code",
   "execution_count": 4,
   "metadata": {},
   "outputs": [
    {
     "name": "stdout",
     "output_type": "stream",
     "text": [
      "Downloading data from https://www.cs.toronto.edu/~kriz/cifar-10-python.tar.gz\n",
      "170500096/170498071 [==============================] - 7s 0us/step\n"
     ]
    }
   ],
   "source": [
    "(x_train, y_train), (x_test, y_test) = cifar10.load_data()"
   ]
  },
  {
   "cell_type": "code",
   "execution_count": 7,
   "metadata": {},
   "outputs": [],
   "source": [
    "import numpy as np\n",
    "keras.backend.clear_session()\n",
    "tf.random.set_seed(42)\n",
    "np.random.seed(42)"
   ]
  },
  {
   "cell_type": "code",
   "execution_count": 9,
   "metadata": {},
   "outputs": [],
   "source": [
    "x_train, x_test = x_train/255.0, x_test/255.0"
   ]
  },
  {
   "cell_type": "code",
   "execution_count": 13,
   "metadata": {},
   "outputs": [
    {
     "data": {
      "text/plain": [
       "<matplotlib.image.AxesImage at 0x20343d20cd0>"
      ]
     },
     "execution_count": 13,
     "metadata": {},
     "output_type": "execute_result"
    },
    {
     "data": {
      "image/png": "[encoded data removed]",
      "text/plain": [
       "<Figure size 432x288 with 1 Axes>"
      ]
     },
     "metadata": {
      "needs_background": "light"
     },
     "output_type": "display_data"
    }
   ],
   "source": [
    "import matplotlib.pyplot as plt\n",
    "plt.imshow(x_train[9])"
   ]
  },
  {
   "cell_type": "code",
   "execution_count": 17,
   "metadata": {},
   "outputs": [
    {
     "data": {
      "text/plain": [
       "(50000, 32, 32, 3)"
      ]
     },
     "execution_count": 17,
     "metadata": {},
     "output_type": "execute_result"
    }
   ],
   "source": [
    "x_train.shape"
   ]
  },
  {
   "cell_type": "code",
   "execution_count": 27,
   "metadata": {},
   "outputs": [],
   "source": [
    "xtest = []\n",
    "for i in range(len(x_test)):\n",
    "    xtest.append(np.reshape(x_test[i], (64, -1)))"
   ]
  },
  {
   "cell_type": "code",
   "execution_count": 28,
   "metadata": {},
   "outputs": [],
   "source": [
    "xtrain = []\n",
    "for i in range(len(x_train)):\n",
    "    xtrain.append(np.reshape(x_train[i], (64, -1)))"
   ]
  },
  {
   "cell_type": "code",
   "execution_count": 30,
   "metadata": {},
   "outputs": [
    {
     "data": {
      "text/plain": [
       "(50000,)"
      ]
     },
     "execution_count": 30,
     "metadata": {},
     "output_type": "execute_result"
    }
   ],
   "source": [
    "y_train = y_train.reshape(len(y_train),)\n",
    "y_train.shape"
   ]
  },
  {
   "cell_type": "code",
   "execution_count": 31,
   "metadata": {},
   "outputs": [
    {
     "data": {
      "text/plain": [
       "(10000,)"
      ]
     },
     "execution_count": 31,
     "metadata": {},
     "output_type": "execute_result"
    }
   ],
   "source": [
    "y_test = y_test.reshape(len(y_test),)\n",
    "y_test.shape"
   ]
  },
  {
   "cell_type": "code",
   "execution_count": 39,
   "metadata": {},
   "outputs": [],
   "source": [
    "xtrain = np.array(xtrain)\n",
    "xtest = np.array(xtest)\n",
    "y_train = np.array(y_train)\n",
    "y_test = np.array(y_test)"
   ]
  },
  {
   "cell_type": "code",
   "execution_count": 40,
   "metadata": {},
   "outputs": [],
   "source": [
    "model = tf.keras.Sequential([\n",
    "    tf.keras.layers.Flatten(input_shape=(64, 48)),\n",
    "    tf.keras.layers.Dense(300, activation='relu'),\n",
    "    tf.keras.layers.Dense(100, activation='relu'),\n",
    "    tf.keras.layers.Dense(50, activation='relu'),\n",
    "    tf.keras.layers.Dense(10, activation='softmax')\n",
    "])"
   ]
  },
  {
   "cell_type": "code",
   "execution_count": 41,
   "metadata": {},
   "outputs": [],
   "source": [
    "model.compile(optimizer='adam',\n",
    "             loss = tf.keras.losses.SparseCategoricalCrossentropy(from_logits=True),\n",
    "             metrics=['accuracy'])"
   ]
  },
  {
   "cell_type": "code",
   "execution_count": 43,
   "metadata": {},
   "outputs": [
    {
     "name": "stdout",
     "output_type": "stream",
     "text": [
      "Epoch 1/15\n"
     ]
    },
    {
     "name": "stderr",
     "output_type": "stream",
     "text": [
      "C:\\Users\\rashi\\anaconda3\\lib\\site-packages\\tensorflow\\python\\keras\\backend.py:4929: UserWarning: \"`sparse_categorical_crossentropy` received `from_logits=True`, but the `output` argument was produced by a sigmoid or softmax activation and thus does not represent logits. Was this intended?\"\n",
      "  warnings.warn(\n"
     ]
    },
    {
     "name": "stdout",
     "output_type": "stream",
     "text": [
      "1563/1563 [==============================] - 8s 5ms/step - loss: 1.8985 - accuracy: 0.3140 - val_loss: 1.7449 - val_accuracy: 0.3752\n",
      "Epoch 2/15\n",
      "1563/1563 [==============================] - 7s 4ms/step - loss: 1.7040 - accuracy: 0.3894 - val_loss: 1.6552 - val_accuracy: 0.4044\n",
      "Epoch 3/15\n",
      "1563/1563 [==============================] - 6s 4ms/step - loss: 1.6210 - accuracy: 0.4176 - val_loss: 1.5893 - val_accuracy: 0.4395\n",
      "Epoch 4/15\n",
      "1563/1563 [==============================] - 6s 4ms/step - loss: 1.5641 - accuracy: 0.4412 - val_loss: 1.5775 - val_accuracy: 0.4380\n",
      "Epoch 5/15\n",
      "1563/1563 [==============================] - 6s 4ms/step - loss: 1.5297 - accuracy: 0.4520 - val_loss: 1.5289 - val_accuracy: 0.4584\n",
      "Epoch 6/15\n",
      "1563/1563 [==============================] - 6s 4ms/step - loss: 1.4973 - accuracy: 0.4652 - val_loss: 1.4987 - val_accuracy: 0.4691\n",
      "Epoch 7/15\n",
      "1563/1563 [==============================] - 6s 4ms/step - loss: 1.4690 - accuracy: 0.4751 - val_loss: 1.5321 - val_accuracy: 0.4566\n",
      "Epoch 8/15\n",
      "1563/1563 [==============================] - 6s 4ms/step - loss: 1.4495 - accuracy: 0.4832 - val_loss: 1.5026 - val_accuracy: 0.4694\n",
      "Epoch 9/15\n",
      "1563/1563 [==============================] - 6s 4ms/step - loss: 1.4318 - accuracy: 0.4893 - val_loss: 1.4796 - val_accuracy: 0.4723\n",
      "Epoch 10/15\n",
      "1563/1563 [==============================] - 6s 4ms/step - loss: 1.4106 - accuracy: 0.4982 - val_loss: 1.4650 - val_accuracy: 0.4784\n",
      "Epoch 11/15\n",
      "1563/1563 [==============================] - 6s 4ms/step - loss: 1.3949 - accuracy: 0.5001 - val_loss: 1.4623 - val_accuracy: 0.4802\n",
      "Epoch 12/15\n",
      "1563/1563 [==============================] - 6s 4ms/step - loss: 1.3849 - accuracy: 0.5067 - val_loss: 1.4390 - val_accuracy: 0.4867\n",
      "Epoch 13/15\n",
      "1563/1563 [==============================] - 7s 4ms/step - loss: 1.3692 - accuracy: 0.5125 - val_loss: 1.4265 - val_accuracy: 0.4928\n",
      "Epoch 14/15\n",
      "1563/1563 [==============================] - 6s 4ms/step - loss: 1.3554 - accuracy: 0.5159 - val_loss: 1.4760 - val_accuracy: 0.4777\n",
      "Epoch 15/15\n",
      "1563/1563 [==============================] - 6s 4ms/step - loss: 1.3436 - accuracy: 0.5186 - val_loss: 1.4526 - val_accuracy: 0.4831\n"
     ]
    },
    {
     "data": {
      "text/plain": [
       "<tensorflow.python.keras.callbacks.History at 0x203acdfc8b0>"
      ]
     },
     "execution_count": 43,
     "metadata": {},
     "output_type": "execute_result"
    }
   ],
   "source": [
    "model.fit(xtrain, y_train, epochs = 15, validation_data = (xtest, y_test))"
   ]
  },
  {
   "cell_type": "code",
   "execution_count": 23,
   "metadata": {},
   "outputs": [
    {
     "data": {
      "text/plain": [
       "(64, 48)"
      ]
     },
     "execution_count": 23,
     "metadata": {},
     "output_type": "execute_result"
    }
   ],
   "source": [
    "np.reshape(x_train[0], (64, -1)).shape"
   ]
  },
  {
   "cell_type": "code",
   "execution_count": 38,
   "metadata": {},
   "outputs": [
    {
     "data": {
      "text/plain": [
       "(50000, 64, 48)"
      ]
     },
     "execution_count": 38,
     "metadata": {},
     "output_type": "execute_result"
    }
   ],
   "source": [
    "np.array(xtrain).shape"
   ]
  },
  {
   "cell_type": "code",
   "execution_count": 45,
   "metadata": {},
   "outputs": [],
   "source": [
    "model1 = tf.keras.Sequential([\n",
    "    tf.keras.layers.Flatten(input_shape=(64, 48)),\n",
    "    tf.keras.layers.Dense(300, activation='elu'),\n",
    "    tf.keras.layers.Dense(100, activation='elu'),\n",
    "    tf.keras.layers.Dense(50, activation='elu'),\n",
    "    tf.keras.layers.Dense(10, activation='softmax')\n",
    "])"
   ]
  },
  {
   "cell_type": "code",
   "execution_count": 48,
   "metadata": {},
   "outputs": [],
   "source": [
    "model1.compile(optimizer='adam',\n",
    "             loss = tf.keras.losses.SparseCategoricalCrossentropy(from_logits=True),\n",
    "             metrics=['accuracy'])"
   ]
  },
  {
   "cell_type": "code",
   "execution_count": 49,
   "metadata": {
    "scrolled": true
   },
   "outputs": [
    {
     "name": "stdout",
     "output_type": "stream",
     "text": [
      "Epoch 1/15\n",
      "1563/1563 [==============================] - 8s 5ms/step - loss: 1.8816 - accuracy: 0.3251 - val_loss: 1.7110 - val_accuracy: 0.3865\n",
      "Epoch 2/15\n",
      "1563/1563 [==============================] - 7s 4ms/step - loss: 1.6679 - accuracy: 0.4007 - val_loss: 1.6413 - val_accuracy: 0.4209\n",
      "Epoch 3/15\n",
      "1563/1563 [==============================] - 7s 5ms/step - loss: 1.5897 - accuracy: 0.4311 - val_loss: 1.5553 - val_accuracy: 0.4498\n",
      "Epoch 4/15\n",
      "1563/1563 [==============================] - 7s 5ms/step - loss: 1.5341 - accuracy: 0.4502 - val_loss: 1.5333 - val_accuracy: 0.4606\n",
      "Epoch 5/15\n",
      "1563/1563 [==============================] - 7s 4ms/step - loss: 1.4922 - accuracy: 0.4650 - val_loss: 1.4739 - val_accuracy: 0.4714\n",
      "Epoch 6/15\n",
      "1563/1563 [==============================] - 6s 4ms/step - loss: 1.4540 - accuracy: 0.4811 - val_loss: 1.4551 - val_accuracy: 0.4800\n",
      "Epoch 7/15\n",
      "1563/1563 [==============================] - 6s 4ms/step - loss: 1.4246 - accuracy: 0.4890 - val_loss: 1.5016 - val_accuracy: 0.4635\n",
      "Epoch 8/15\n",
      "1563/1563 [==============================] - 7s 4ms/step - loss: 1.3965 - accuracy: 0.4998 - val_loss: 1.4380 - val_accuracy: 0.4889\n",
      "Epoch 9/15\n",
      "1563/1563 [==============================] - 7s 4ms/step - loss: 1.3722 - accuracy: 0.5077 - val_loss: 1.4213 - val_accuracy: 0.4978\n",
      "Epoch 10/15\n",
      "1563/1563 [==============================] - 7s 4ms/step - loss: 1.3491 - accuracy: 0.5174 - val_loss: 1.4131 - val_accuracy: 0.4909\n",
      "Epoch 11/15\n",
      "1563/1563 [==============================] - 9s 6ms/step - loss: 1.3223 - accuracy: 0.5263 - val_loss: 1.4026 - val_accuracy: 0.5020\n",
      "Epoch 12/15\n",
      "1563/1563 [==============================] - 8s 5ms/step - loss: 1.3039 - accuracy: 0.5321 - val_loss: 1.4240 - val_accuracy: 0.4960\n",
      "Epoch 13/15\n",
      "1563/1563 [==============================] - 7s 5ms/step - loss: 1.2821 - accuracy: 0.5376 - val_loss: 1.4324 - val_accuracy: 0.4939\n",
      "Epoch 14/15\n",
      "1563/1563 [==============================] - 8s 5ms/step - loss: 1.2671 - accuracy: 0.5455 - val_loss: 1.4325 - val_accuracy: 0.4928\n",
      "Epoch 15/15\n",
      "1563/1563 [==============================] - 7s 5ms/step - loss: 1.2481 - accuracy: 0.5542 - val_loss: 1.4156 - val_accuracy: 0.4928\n"
     ]
    },
    {
     "data": {
      "text/plain": [
       "<tensorflow.python.keras.callbacks.History at 0x203ad182310>"
      ]
     },
     "execution_count": 49,
     "metadata": {},
     "output_type": "execute_result"
    }
   ],
   "source": [
    "model1.fit(xtrain, y_train, epochs = 15, validation_data = (xtest, y_test))"
   ]
  },
  {
   "cell_type": "code",
   "execution_count": 50,
   "metadata": {},
   "outputs": [],
   "source": [
    "model2 = tf.keras.Sequential([\n",
    "    tf.keras.layers.Flatten(input_shape=(64, 48)),\n",
    "    tf.keras.layers.Dense(300, activation='elu'),\n",
    "    tf.keras.layers.Dense(100, activation='elu'),\n",
    "    tf.keras.layers.Dense(100, activation='elu'),\n",
    "    tf.keras.layers.Dense(50, activation='elu'),\n",
    "    tf.keras.layers.Dense(10, activation='softmax')\n",
    "])"
   ]
  },
  {
   "cell_type": "code",
   "execution_count": 51,
   "metadata": {},
   "outputs": [],
   "source": [
    "model2.compile(optimizer='adam',\n",
    "             loss = tf.keras.losses.SparseCategoricalCrossentropy(from_logits=True),\n",
    "             metrics=['accuracy'])"
   ]
  },
  {
   "cell_type": "code",
   "execution_count": 53,
   "metadata": {
    "scrolled": true
   },
   "outputs": [
    {
     "name": "stdout",
     "output_type": "stream",
     "text": [
      "Epoch 1/15\n",
      "1563/1563 [==============================] - 34s 7ms/step - loss: 1.8711 - accuracy: 0.3202 - val_loss: 1.7225 - val_accuracy: 0.3814\n",
      "Epoch 2/15\n",
      "1563/1563 [==============================] - 7s 4ms/step - loss: 1.6796 - accuracy: 0.3983 - val_loss: 1.6422 - val_accuracy: 0.4145\n",
      "Epoch 3/15\n",
      "1563/1563 [==============================] - 7s 5ms/step - loss: 1.5921 - accuracy: 0.4281 - val_loss: 1.6056 - val_accuracy: 0.4314\n",
      "Epoch 4/15\n",
      "1563/1563 [==============================] - 7s 4ms/step - loss: 1.5382 - accuracy: 0.4489 - val_loss: 1.5619 - val_accuracy: 0.4411\n",
      "Epoch 5/15\n",
      "1563/1563 [==============================] - 7s 5ms/step - loss: 1.4984 - accuracy: 0.4633 - val_loss: 1.5273 - val_accuracy: 0.4573\n",
      "Epoch 6/15\n",
      "1563/1563 [==============================] - 7s 5ms/step - loss: 1.4655 - accuracy: 0.4766 - val_loss: 1.4750 - val_accuracy: 0.4800\n",
      "Epoch 7/15\n",
      "1563/1563 [==============================] - 8s 5ms/step - loss: 1.4360 - accuracy: 0.4855 - val_loss: 1.4325 - val_accuracy: 0.4950\n",
      "Epoch 8/15\n",
      "1563/1563 [==============================] - 7s 4ms/step - loss: 1.4056 - accuracy: 0.4986 - val_loss: 1.4805 - val_accuracy: 0.4710\n",
      "Epoch 9/15\n",
      "1563/1563 [==============================] - 7s 5ms/step - loss: 1.3865 - accuracy: 0.5022 - val_loss: 1.4449 - val_accuracy: 0.4797\n",
      "Epoch 10/15\n",
      "1563/1563 [==============================] - 6s 4ms/step - loss: 1.3572 - accuracy: 0.5127 - val_loss: 1.4420 - val_accuracy: 0.4863\n",
      "Epoch 11/15\n",
      "1563/1563 [==============================] - 7s 4ms/step - loss: 1.3335 - accuracy: 0.5217 - val_loss: 1.4062 - val_accuracy: 0.5057\n",
      "Epoch 12/15\n",
      "1563/1563 [==============================] - 6s 4ms/step - loss: 1.3163 - accuracy: 0.5276 - val_loss: 1.4124 - val_accuracy: 0.5064\n",
      "Epoch 13/15\n",
      "1563/1563 [==============================] - 6s 4ms/step - loss: 1.2934 - accuracy: 0.5366 - val_loss: 1.3990 - val_accuracy: 0.5059\n",
      "Epoch 14/15\n",
      "1563/1563 [==============================] - 7s 4ms/step - loss: 1.2714 - accuracy: 0.5437 - val_loss: 1.4544 - val_accuracy: 0.4939\n",
      "Epoch 15/15\n",
      "1563/1563 [==============================] - 7s 4ms/step - loss: 1.2616 - accuracy: 0.5458 - val_loss: 1.4649 - val_accuracy: 0.4888\n"
     ]
    },
    {
     "data": {
      "text/plain": [
       "<tensorflow.python.keras.callbacks.History at 0x203bdec8d90>"
      ]
     },
     "execution_count": 53,
     "metadata": {},
     "output_type": "execute_result"
    }
   ],
   "source": [
    "model2.fit(xtrain, y_train, epochs = 15, validation_data = (xtest, y_test))"
   ]
  },
  {
   "cell_type": "code",
   "execution_count": 64,
   "metadata": {},
   "outputs": [],
   "source": [
    "from keras import regularizers\n",
    "model3 = tf.keras.Sequential([\n",
    "    tf.keras.layers.Flatten(input_shape=(64, 48)),\n",
    "    tf.keras.layers.Dense(300, activation='elu', kernel_regularizer = regularizers.l2(0.01)),\n",
    "    tf.keras.layers.Dense(100, activation='elu', kernel_regularizer = regularizers.l2(0.01)),\n",
    "    tf.keras.layers.Dense(100, activation='elu', kernel_regularizer = regularizers.l2(0.01)),\n",
    "    tf.keras.layers.Dense(50, activation='elu', kernel_regularizer = regularizers.l2(0.01)),\n",
    "    tf.keras.layers.Dense(10, activation='softmax')\n",
    "])"
   ]
  },
  {
   "cell_type": "code",
   "execution_count": 65,
   "metadata": {},
   "outputs": [],
   "source": [
    "#regularizer = tf.contrib.layers.l2_regularizer(scale=0.01)\n",
    "model3.compile(optimizer='adam',\n",
    "             loss = tf.keras.losses.SparseCategoricalCrossentropy(from_logits=True),\n",
    "             metrics=['accuracy'])"
   ]
  },
  {
   "cell_type": "code",
   "execution_count": 66,
   "metadata": {
    "scrolled": true
   },
   "outputs": [
    {
     "name": "stdout",
     "output_type": "stream",
     "text": [
      "Epoch 1/15\n",
      "1563/1563 [==============================] - 14s 9ms/step - loss: 3.0573 - accuracy: 0.2583 - val_loss: 2.1400 - val_accuracy: 0.2927\n",
      "Epoch 2/15\n",
      "1563/1563 [==============================] - 11s 7ms/step - loss: 2.0908 - accuracy: 0.2913 - val_loss: 2.0109 - val_accuracy: 0.3026\n",
      "Epoch 3/15\n",
      "1563/1563 [==============================] - 11s 7ms/step - loss: 2.0530 - accuracy: 0.2925 - val_loss: 2.0019 - val_accuracy: 0.3156\n",
      "Epoch 4/15\n",
      "1563/1563 [==============================] - 12s 8ms/step - loss: 2.0306 - accuracy: 0.3028 - val_loss: 1.9690 - val_accuracy: 0.3286\n",
      "Epoch 5/15\n",
      "1563/1563 [==============================] - 12s 8ms/step - loss: 2.0155 - accuracy: 0.3113 - val_loss: 1.9484 - val_accuracy: 0.3351\n",
      "Epoch 6/15\n",
      "1563/1563 [==============================] - 12s 8ms/step - loss: 2.0044 - accuracy: 0.3135 - val_loss: 1.9770 - val_accuracy: 0.3106\n",
      "Epoch 7/15\n",
      "1563/1563 [==============================] - 12s 7ms/step - loss: 1.9924 - accuracy: 0.3153 - val_loss: 2.0031 - val_accuracy: 0.3144\n",
      "Epoch 8/15\n",
      "1563/1563 [==============================] - 12s 7ms/step - loss: 1.9822 - accuracy: 0.3202 - val_loss: 1.9531 - val_accuracy: 0.3381\n",
      "Epoch 9/15\n",
      "1563/1563 [==============================] - 11s 7ms/step - loss: 1.9838 - accuracy: 0.3207 - val_loss: 1.9545 - val_accuracy: 0.3345\n",
      "Epoch 10/15\n",
      "1563/1563 [==============================] - 12s 7ms/step - loss: 1.9826 - accuracy: 0.3233 - val_loss: 1.9459 - val_accuracy: 0.3288\n",
      "Epoch 11/15\n",
      "1563/1563 [==============================] - 12s 7ms/step - loss: 1.9798 - accuracy: 0.3229 - val_loss: 2.1060 - val_accuracy: 0.2920\n",
      "Epoch 12/15\n",
      "1563/1563 [==============================] - 12s 7ms/step - loss: 1.9712 - accuracy: 0.3227 - val_loss: 1.9279 - val_accuracy: 0.3393\n",
      "Epoch 13/15\n",
      "1563/1563 [==============================] - 11s 7ms/step - loss: 1.9774 - accuracy: 0.3215 - val_loss: 1.9363 - val_accuracy: 0.3305\n",
      "Epoch 14/15\n",
      "1563/1563 [==============================] - 12s 8ms/step - loss: 1.9761 - accuracy: 0.3213 - val_loss: 1.9763 - val_accuracy: 0.3151\n",
      "Epoch 15/15\n",
      "1563/1563 [==============================] - 12s 8ms/step - loss: 1.9799 - accuracy: 0.3219 - val_loss: 2.0255 - val_accuracy: 0.2937\n"
     ]
    },
    {
     "data": {
      "text/plain": [
       "<tensorflow.python.keras.callbacks.History at 0x203d18b4ca0>"
      ]
     },
     "execution_count": 66,
     "metadata": {},
     "output_type": "execute_result"
    }
   ],
   "source": [
    "model3.fit(xtrain, y_train, epochs = 15, validation_data = (xtest, y_test))"
   ]
  },
  {
   "cell_type": "code",
   "execution_count": 67,
   "metadata": {},
   "outputs": [],
   "source": [
    "model4 = tf.keras.Sequential([\n",
    "    tf.keras.layers.Flatten(input_shape=(64, 48)),\n",
    "    tf.keras.layers.Dense(600, activation='selu'),\n",
    "    tf.keras.layers.Dense(300, activation='selu'),\n",
    "    tf.keras.layers.Dense(300, activation='selu'),\n",
    "    tf.keras.layers.Dense(100, activation='selu'),\n",
    "    tf.keras.layers.Dense(100, activation='selu'),\n",
    "    tf.keras.layers.Dense(50, activation='selu'),\n",
    "    tf.keras.layers.Dense(10, activation='softmax')\n",
    "])"
   ]
  },
  {
   "cell_type": "code",
   "execution_count": 68,
   "metadata": {},
   "outputs": [],
   "source": [
    "model4.compile(optimizer='adam',\n",
    "             loss = tf.keras.losses.SparseCategoricalCrossentropy(from_logits=True),\n",
    "             metrics=['accuracy'])"
   ]
  },
  {
   "cell_type": "code",
   "execution_count": 69,
   "metadata": {
    "scrolled": true
   },
   "outputs": [
    {
     "name": "stdout",
     "output_type": "stream",
     "text": [
      "Epoch 1/15\n",
      "1563/1563 [==============================] - 16s 10ms/step - loss: 1.9919 - accuracy: 0.2860 - val_loss: 1.7986 - val_accuracy: 0.3358\n",
      "Epoch 2/15\n",
      "1563/1563 [==============================] - 16s 10ms/step - loss: 1.7718 - accuracy: 0.3593 - val_loss: 1.7014 - val_accuracy: 0.3892\n",
      "Epoch 3/15\n",
      "1563/1563 [==============================] - 16s 11ms/step - loss: 1.6829 - accuracy: 0.3925 - val_loss: 1.6458 - val_accuracy: 0.4204\n",
      "Epoch 4/15\n",
      "1563/1563 [==============================] - 16s 10ms/step - loss: 1.6124 - accuracy: 0.4199 - val_loss: 1.6061 - val_accuracy: 0.4295\n",
      "Epoch 5/15\n",
      "1563/1563 [==============================] - 16s 10ms/step - loss: 1.5608 - accuracy: 0.4422 - val_loss: 1.5721 - val_accuracy: 0.4359\n",
      "Epoch 6/15\n",
      "1563/1563 [==============================] - 17s 11ms/step - loss: 1.5235 - accuracy: 0.4574 - val_loss: 1.5063 - val_accuracy: 0.4593\n",
      "Epoch 7/15\n",
      "1563/1563 [==============================] - 18s 11ms/step - loss: 1.4881 - accuracy: 0.4694 - val_loss: 1.5166 - val_accuracy: 0.4654\n",
      "Epoch 8/15\n",
      "1563/1563 [==============================] - 15s 10ms/step - loss: 1.4527 - accuracy: 0.4839 - val_loss: 1.5121 - val_accuracy: 0.4623\n",
      "Epoch 9/15\n",
      "1563/1563 [==============================] - 15s 10ms/step - loss: 1.4211 - accuracy: 0.4941 - val_loss: 1.4669 - val_accuracy: 0.4801\n",
      "Epoch 10/15\n",
      "1563/1563 [==============================] - 16s 10ms/step - loss: 1.4049 - accuracy: 0.4995 - val_loss: 1.4640 - val_accuracy: 0.4828\n",
      "Epoch 11/15\n",
      "1563/1563 [==============================] - 16s 10ms/step - loss: 1.4026 - accuracy: 0.5034 - val_loss: 1.4304 - val_accuracy: 0.5013\n",
      "Epoch 12/15\n",
      "1563/1563 [==============================] - 15s 10ms/step - loss: 1.3503 - accuracy: 0.5209 - val_loss: 1.4405 - val_accuracy: 0.5088\n",
      "Epoch 13/15\n",
      "1563/1563 [==============================] - 15s 10ms/step - loss: 1.3669 - accuracy: 0.5141 - val_loss: 1.4542 - val_accuracy: 0.4932\n",
      "Epoch 14/15\n",
      "1563/1563 [==============================] - 16s 10ms/step - loss: 1.4397 - accuracy: 0.5198 - val_loss: 1.6955 - val_accuracy: 0.4824\n",
      "Epoch 15/15\n",
      "1563/1563 [==============================] - 17s 11ms/step - loss: 1.3945 - accuracy: 0.5042 - val_loss: 1.4075 - val_accuracy: 0.5004\n"
     ]
    },
    {
     "data": {
      "text/plain": [
       "<tensorflow.python.keras.callbacks.History at 0x2032c095910>"
      ]
     },
     "execution_count": 69,
     "metadata": {},
     "output_type": "execute_result"
    }
   ],
   "source": [
    "model4.fit(xtrain, y_train, epochs = 15, validation_data = (xtest, y_test))"
   ]
  },
  {
   "cell_type": "code",
   "execution_count": 70,
   "metadata": {},
   "outputs": [
    {
     "name": "stdout",
     "output_type": "stream",
     "text": [
      "Epoch 1/35\n",
      "1563/1563 [==============================] - 19s 12ms/step - loss: 1.4489 - accuracy: 0.4862 - val_loss: 1.4091 - val_accuracy: 0.4980\n",
      "Epoch 2/35\n",
      "1563/1563 [==============================] - 17s 11ms/step - loss: 1.3581 - accuracy: 0.5144 - val_loss: 1.3912 - val_accuracy: 0.5104\n",
      "Epoch 3/35\n",
      "1563/1563 [==============================] - 16s 10ms/step - loss: 2.1877 - accuracy: 0.4825 - val_loss: 1.5965 - val_accuracy: 0.4384\n",
      "Epoch 4/35\n",
      "1563/1563 [==============================] - 16s 10ms/step - loss: 2.1119 - accuracy: 0.4662 - val_loss: 1.5405 - val_accuracy: 0.4532\n",
      "Epoch 5/35\n",
      "1563/1563 [==============================] - 16s 10ms/step - loss: 1.4138 - accuracy: 0.4959 - val_loss: 1.4650 - val_accuracy: 0.4851\n",
      "Epoch 6/35\n",
      "1563/1563 [==============================] - 17s 11ms/step - loss: 1.3687 - accuracy: 0.5147 - val_loss: 1.4517 - val_accuracy: 0.4866\n",
      "Epoch 7/35\n",
      "1563/1563 [==============================] - 16s 10ms/step - loss: 1.3403 - accuracy: 0.5204 - val_loss: 1.4271 - val_accuracy: 0.4983\n",
      "Epoch 8/35\n",
      "1563/1563 [==============================] - 16s 10ms/step - loss: 1.3836 - accuracy: 0.5080 - val_loss: 1.4466 - val_accuracy: 0.4828\n",
      "Epoch 9/35\n",
      "1563/1563 [==============================] - 16s 10ms/step - loss: 1.3201 - accuracy: 0.5318 - val_loss: 1.4000 - val_accuracy: 0.5078\n",
      "Epoch 10/35\n",
      "1563/1563 [==============================] - 16s 10ms/step - loss: 1.2886 - accuracy: 0.5419 - val_loss: 1.3710 - val_accuracy: 0.5218\n",
      "Epoch 11/35\n",
      "1563/1563 [==============================] - 16s 10ms/step - loss: 1.3075 - accuracy: 0.5405 - val_loss: 1.4073 - val_accuracy: 0.5030\n",
      "Epoch 12/35\n",
      "1563/1563 [==============================] - 16s 10ms/step - loss: 1.2714 - accuracy: 0.5484 - val_loss: 1.4212 - val_accuracy: 0.5067\n",
      "Epoch 13/35\n",
      "1563/1563 [==============================] - 16s 10ms/step - loss: 1.2666 - accuracy: 0.5506 - val_loss: 1.4001 - val_accuracy: 0.5146\n",
      "Epoch 14/35\n",
      "1563/1563 [==============================] - 17s 11ms/step - loss: 1.2439 - accuracy: 0.5580 - val_loss: 1.4050 - val_accuracy: 0.5134\n",
      "Epoch 15/35\n",
      "1563/1563 [==============================] - 16s 10ms/step - loss: 1.3399 - accuracy: 0.5262 - val_loss: 1.4296 - val_accuracy: 0.4917\n",
      "Epoch 16/35\n",
      "1563/1563 [==============================] - 16s 10ms/step - loss: 1.2470 - accuracy: 0.5570 - val_loss: 1.4010 - val_accuracy: 0.5126\n",
      "Epoch 17/35\n",
      "1563/1563 [==============================] - 16s 10ms/step - loss: 1.2073 - accuracy: 0.5701 - val_loss: 1.3679 - val_accuracy: 0.5225\n",
      "Epoch 18/35\n",
      "1563/1563 [==============================] - 17s 11ms/step - loss: 1.1915 - accuracy: 0.5768 - val_loss: 1.3635 - val_accuracy: 0.5304\n",
      "Epoch 19/35\n",
      "1563/1563 [==============================] - 16s 10ms/step - loss: 1.1785 - accuracy: 0.5814 - val_loss: 1.3761 - val_accuracy: 0.5185\n",
      "Epoch 20/35\n",
      "1563/1563 [==============================] - 16s 10ms/step - loss: 1.1707 - accuracy: 0.5838 - val_loss: 1.3994 - val_accuracy: 0.5098\n",
      "Epoch 21/35\n",
      "1563/1563 [==============================] - 16s 10ms/step - loss: 1.2704 - accuracy: 0.5833 - val_loss: 1.4023 - val_accuracy: 0.5142\n",
      "Epoch 22/35\n",
      "1563/1563 [==============================] - 16s 10ms/step - loss: 1.5178 - accuracy: 0.5573 - val_loss: 1.4311 - val_accuracy: 0.5037\n",
      "Epoch 23/35\n",
      "1563/1563 [==============================] - 17s 11ms/step - loss: 1.1971 - accuracy: 0.5782 - val_loss: 1.3657 - val_accuracy: 0.5245\n",
      "Epoch 24/35\n",
      "1563/1563 [==============================] - 18s 12ms/step - loss: 1.1355 - accuracy: 0.5967 - val_loss: 1.4339 - val_accuracy: 0.5092\n",
      "Epoch 25/35\n",
      "1563/1563 [==============================] - 17s 11ms/step - loss: 1.2125 - accuracy: 0.5750 - val_loss: 1.3600 - val_accuracy: 0.5337\n",
      "Epoch 26/35\n",
      "1563/1563 [==============================] - 18s 11ms/step - loss: 1.1265 - accuracy: 0.6006 - val_loss: 1.4116 - val_accuracy: 0.5222\n",
      "Epoch 27/35\n",
      "1563/1563 [==============================] - 17s 11ms/step - loss: 1.1064 - accuracy: 0.6065 - val_loss: 1.3939 - val_accuracy: 0.5358\n",
      "Epoch 28/35\n",
      "1563/1563 [==============================] - 16s 10ms/step - loss: 1.1110 - accuracy: 0.6052 - val_loss: 1.4073 - val_accuracy: 0.5220\n",
      "Epoch 29/35\n",
      "1563/1563 [==============================] - 17s 11ms/step - loss: 1.1083 - accuracy: 0.6076 - val_loss: 1.3955 - val_accuracy: 0.5186\n",
      "Epoch 30/35\n",
      "1563/1563 [==============================] - 16s 10ms/step - loss: 1.0800 - accuracy: 0.6182 - val_loss: 1.4468 - val_accuracy: 0.5332\n",
      "Epoch 31/35\n",
      "1563/1563 [==============================] - 16s 10ms/step - loss: 1.2390 - accuracy: 0.6106 - val_loss: 1.6465 - val_accuracy: 0.4514\n",
      "Epoch 32/35\n",
      "1563/1563 [==============================] - 17s 11ms/step - loss: 1.2096 - accuracy: 0.5705 - val_loss: 1.3699 - val_accuracy: 0.5275\n",
      "Epoch 33/35\n",
      "1563/1563 [==============================] - 16s 10ms/step - loss: 1.3558 - accuracy: 0.5836 - val_loss: 1.4453 - val_accuracy: 0.4984\n",
      "Epoch 34/35\n",
      "1563/1563 [==============================] - 16s 10ms/step - loss: 1.1479 - accuracy: 0.5937 - val_loss: 1.3827 - val_accuracy: 0.5237\n",
      "Epoch 35/35\n",
      "1563/1563 [==============================] - 16s 10ms/step - loss: 1.0676 - accuracy: 0.6229 - val_loss: 1.4195 - val_accuracy: 0.5262\n"
     ]
    },
    {
     "data": {
      "text/plain": [
       "<tensorflow.python.keras.callbacks.History at 0x2039e1ec430>"
      ]
     },
     "execution_count": 70,
     "metadata": {},
     "output_type": "execute_result"
    }
   ],
   "source": [
    "model4.fit(xtrain, y_train, epochs = 35, validation_data = (xtest, y_test))"
   ]
  },
  {
   "cell_type": "code",
   "execution_count": 73,
   "metadata": {},
   "outputs": [],
   "source": [
    "model5 = tf.keras.Sequential([\n",
    "    tf.keras.layers.Flatten(input_shape=(64, 48)),\n",
    "    tf.keras.layers.Dense(600, activation='selu', use_bias = False,\n",
    "                         kernel_regularizer = regularizers.l2(0.01)),\n",
    "    tf.keras.layers.Dense(300, activation='selu', use_bias = False,\n",
    "                         kernel_regularizer = regularizers.l2(0.01)),\n",
    "    tf.keras.layers.Dense(300, activation='selu', use_bias = False,\n",
    "                         kernel_regularizer = regularizers.l2(0.01)),\n",
    "    tf.keras.layers.Dense(100, activation='selu', use_bias = False,\n",
    "                         kernel_regularizer = regularizers.l2(0.01)),\n",
    "    tf.keras.layers.Dense(100, activation='selu', use_bias = False,\n",
    "                         kernel_regularizer = regularizers.l2(0.01)),\n",
    "    tf.keras.layers.Dense(50, activation='selu', use_bias = False,\n",
    "                         kernel_regularizer = regularizers.l2(0.01)),\n",
    "    tf.keras.layers.Dense(10, activation='softmax')\n",
    "])"
   ]
  },
  {
   "cell_type": "code",
   "execution_count": 74,
   "metadata": {},
   "outputs": [],
   "source": [
    "model5.compile(optimizer='adam',\n",
    "             loss = 'sparse_categorical_crossentropy',\n",
    "             metrics=['accuracy'])"
   ]
  },
  {
   "cell_type": "code",
   "execution_count": 75,
   "metadata": {
    "scrolled": true
   },
   "outputs": [
    {
     "name": "stdout",
     "output_type": "stream",
     "text": [
      "Epoch 1/35\n",
      "1563/1563 [==============================] - 30s 19ms/step - loss: 5.1516 - accuracy: 0.2144 - val_loss: 2.4649 - val_accuracy: 0.2636\n",
      "Epoch 2/35\n",
      "1563/1563 [==============================] - 27s 17ms/step - loss: 2.2688 - accuracy: 0.2558 - val_loss: 2.1043 - val_accuracy: 0.2907\n",
      "Epoch 3/35\n",
      "1563/1563 [==============================] - 27s 17ms/step - loss: 2.1350 - accuracy: 0.2624 - val_loss: 2.1351 - val_accuracy: 0.2722\n",
      "Epoch 4/35\n",
      "1563/1563 [==============================] - 26s 17ms/step - loss: 2.1166 - accuracy: 0.2629 - val_loss: 2.0905 - val_accuracy: 0.2609\n",
      "Epoch 5/35\n",
      "1563/1563 [==============================] - 27s 17ms/step - loss: 2.1075 - accuracy: 0.2710 - val_loss: 2.1508 - val_accuracy: 0.2439\n",
      "Epoch 6/35\n",
      "1563/1563 [==============================] - 27s 17ms/step - loss: 2.1029 - accuracy: 0.2768 - val_loss: 2.1133 - val_accuracy: 0.2745\n",
      "Epoch 7/35\n",
      "1563/1563 [==============================] - 28s 18ms/step - loss: 2.0823 - accuracy: 0.2851 - val_loss: 2.0850 - val_accuracy: 0.2849\n",
      "Epoch 8/35\n",
      "1563/1563 [==============================] - 28s 18ms/step - loss: 2.0832 - accuracy: 0.2832 - val_loss: 2.1140 - val_accuracy: 0.2563\n",
      "Epoch 9/35\n",
      "1563/1563 [==============================] - 28s 18ms/step - loss: 2.3392 - accuracy: 0.2567 - val_loss: 2.0751 - val_accuracy: 0.2969\n",
      "Epoch 10/35\n",
      "1563/1563 [==============================] - 28s 18ms/step - loss: 2.0695 - accuracy: 0.2888 - val_loss: 2.0192 - val_accuracy: 0.3067\n",
      "Epoch 11/35\n",
      "1563/1563 [==============================] - 28s 18ms/step - loss: 2.0711 - accuracy: 0.2869 - val_loss: 2.1428 - val_accuracy: 0.2890\n",
      "Epoch 12/35\n",
      "1563/1563 [==============================] - 28s 18ms/step - loss: 2.0726 - accuracy: 0.2898 - val_loss: 2.0903 - val_accuracy: 0.2559\n",
      "Epoch 13/35\n",
      "1563/1563 [==============================] - 29s 18ms/step - loss: 2.0692 - accuracy: 0.2867 - val_loss: 2.0318 - val_accuracy: 0.2853\n",
      "Epoch 14/35\n",
      "1563/1563 [==============================] - 28s 18ms/step - loss: 2.0673 - accuracy: 0.2871 - val_loss: 2.0425 - val_accuracy: 0.3014\n",
      "Epoch 15/35\n",
      "1563/1563 [==============================] - 28s 18ms/step - loss: 2.1039 - accuracy: 0.2891 - val_loss: 2.0880 - val_accuracy: 0.2882\n",
      "Epoch 16/35\n",
      "1563/1563 [==============================] - 28s 18ms/step - loss: 2.0551 - accuracy: 0.2962 - val_loss: 2.0437 - val_accuracy: 0.3006\n",
      "Epoch 17/35\n",
      "1563/1563 [==============================] - 28s 18ms/step - loss: 2.1631 - accuracy: 0.2835 - val_loss: 2.0493 - val_accuracy: 0.3110\n",
      "Epoch 18/35\n",
      "1563/1563 [==============================] - 28s 18ms/step - loss: 2.0420 - accuracy: 0.2983 - val_loss: 2.0671 - val_accuracy: 0.2819\n",
      "Epoch 19/35\n",
      "1563/1563 [==============================] - 28s 18ms/step - loss: 2.0531 - accuracy: 0.2948 - val_loss: 2.3023 - val_accuracy: 0.2134\n",
      "Epoch 20/35\n",
      "1563/1563 [==============================] - 28s 18ms/step - loss: 2.0612 - accuracy: 0.2931 - val_loss: 2.0819 - val_accuracy: 0.2678\n",
      "Epoch 21/35\n",
      "1563/1563 [==============================] - 29s 18ms/step - loss: 2.0532 - accuracy: 0.2943 - val_loss: 2.0214 - val_accuracy: 0.3031\n",
      "Epoch 22/35\n",
      "1563/1563 [==============================] - 29s 19ms/step - loss: 2.0504 - accuracy: 0.2975 - val_loss: 2.0205 - val_accuracy: 0.3117\n",
      "Epoch 23/35\n",
      "1563/1563 [==============================] - 31s 20ms/step - loss: 2.2594 - accuracy: 0.2844 - val_loss: 2.0036 - val_accuracy: 0.3085\n",
      "Epoch 24/35\n",
      "1563/1563 [==============================] - 30s 19ms/step - loss: 2.0388 - accuracy: 0.2967 - val_loss: 2.0356 - val_accuracy: 0.2881\n",
      "Epoch 25/35\n",
      "1563/1563 [==============================] - 31s 20ms/step - loss: 2.0422 - accuracy: 0.2975 - val_loss: 2.1368 - val_accuracy: 0.2516\n",
      "Epoch 26/35\n",
      "1563/1563 [==============================] - 31s 20ms/step - loss: 2.0717 - accuracy: 0.2916 - val_loss: 2.0117 - val_accuracy: 0.3008\n",
      "Epoch 27/35\n",
      "1563/1563 [==============================] - 29s 19ms/step - loss: 2.0486 - accuracy: 0.2958 - val_loss: 2.0116 - val_accuracy: 0.3061\n",
      "Epoch 28/35\n",
      "1563/1563 [==============================] - 28s 18ms/step - loss: 2.1932 - accuracy: 0.2824 - val_loss: 2.0443 - val_accuracy: 0.3011\n",
      "Epoch 29/35\n",
      "1563/1563 [==============================] - 28s 18ms/step - loss: 2.0347 - accuracy: 0.2970 - val_loss: 2.0547 - val_accuracy: 0.2751\n",
      "Epoch 30/35\n",
      "1563/1563 [==============================] - 29s 19ms/step - loss: 2.0454 - accuracy: 0.2952 - val_loss: 2.0391 - val_accuracy: 0.3054\n",
      "Epoch 31/35\n",
      "1563/1563 [==============================] - 31s 20ms/step - loss: 2.0586 - accuracy: 0.2957 - val_loss: 1.9961 - val_accuracy: 0.3048\n",
      "Epoch 32/35\n",
      "1563/1563 [==============================] - 31s 20ms/step - loss: 2.0368 - accuracy: 0.3009 - val_loss: 2.0444 - val_accuracy: 0.3072\n",
      "Epoch 33/35\n",
      "1563/1563 [==============================] - 31s 20ms/step - loss: 2.1645 - accuracy: 0.2908 - val_loss: 2.0662 - val_accuracy: 0.2756\n",
      "Epoch 34/35\n",
      "1563/1563 [==============================] - 31s 20ms/step - loss: 2.0357 - accuracy: 0.3007 - val_loss: 2.0274 - val_accuracy: 0.3114\n",
      "Epoch 35/35\n",
      "1563/1563 [==============================] - 30s 19ms/step - loss: 2.0480 - accuracy: 0.2986 - val_loss: 2.0349 - val_accuracy: 0.2927\n"
     ]
    },
    {
     "data": {
      "text/plain": [
       "<tensorflow.python.keras.callbacks.History at 0x203c0e41310>"
      ]
     },
     "execution_count": 75,
     "metadata": {},
     "output_type": "execute_result"
    }
   ],
   "source": [
    "model5.fit(xtrain, y_train, epochs = 35, validation_data = (xtest, y_test))"
   ]
  },
  {
   "cell_type": "code",
   "execution_count": 76,
   "metadata": {},
   "outputs": [],
   "source": [
    "model6 = tf.keras.Sequential([\n",
    "    tf.keras.layers.Flatten(input_shape=(64, 48)),\n",
    "    tf.keras.layers.Dense(800, activation='selu'),\n",
    "    tf.keras.layers.Dense(600, activation='selu'),\n",
    "    tf.keras.layers.Dense(600, activation='selu'),\n",
    "    tf.keras.layers.Dense(600, activation='selu'),\n",
    "    tf.keras.layers.Dense(300, activation='selu'),\n",
    "    tf.keras.layers.Dense(300, activation='selu'),\n",
    "    tf.keras.layers.Dense(100, activation='selu'),\n",
    "    tf.keras.layers.Dense(100, activation='selu'),\n",
    "    tf.keras.layers.Dense(50, activation='selu'),\n",
    "    tf.keras.layers.Dense(50, activation='selu'),\n",
    "    tf.keras.layers.Dense(10, activation='softmax')\n",
    "])"
   ]
  },
  {
   "cell_type": "code",
   "execution_count": 77,
   "metadata": {},
   "outputs": [],
   "source": [
    "model6.compile(optimizer='adam',\n",
    "             loss = 'sparse_categorical_crossentropy',\n",
    "             metrics=['accuracy'])"
   ]
  },
  {
   "cell_type": "code",
   "execution_count": 78,
   "metadata": {
    "scrolled": true
   },
   "outputs": [
    {
     "name": "stdout",
     "output_type": "stream",
     "text": [
      "Epoch 1/80\n",
      "1563/1563 [==============================] - 38s 23ms/step - loss: 2.0941 - accuracy: 0.2124 - val_loss: 1.9061 - val_accuracy: 0.2732\n",
      "Epoch 2/80\n",
      "1563/1563 [==============================] - 35s 22ms/step - loss: 1.8899 - accuracy: 0.3004 - val_loss: 1.7955 - val_accuracy: 0.3441\n",
      "Epoch 3/80\n",
      "1563/1563 [==============================] - 35s 22ms/step - loss: 1.8081 - accuracy: 0.3373 - val_loss: 1.7447 - val_accuracy: 0.3633\n",
      "Epoch 4/80\n",
      "1563/1563 [==============================] - 35s 22ms/step - loss: 1.7442 - accuracy: 0.3619 - val_loss: 1.7278 - val_accuracy: 0.3902\n",
      "Epoch 5/80\n",
      "1563/1563 [==============================] - 35s 22ms/step - loss: 1.7573 - accuracy: 0.3614 - val_loss: 1.7189 - val_accuracy: 0.3830\n",
      "Epoch 6/80\n",
      "1563/1563 [==============================] - 34s 22ms/step - loss: 1.7488 - accuracy: 0.3663 - val_loss: 1.7135 - val_accuracy: 0.3703\n",
      "Epoch 7/80\n",
      "1563/1563 [==============================] - 35s 23ms/step - loss: 1.6473 - accuracy: 0.4040 - val_loss: 1.6474 - val_accuracy: 0.4213\n",
      "Epoch 8/80\n",
      "1563/1563 [==============================] - 36s 23ms/step - loss: 1.9375 - accuracy: 0.3206 - val_loss: 1.8245 - val_accuracy: 0.3195\n",
      "Epoch 9/80\n",
      "1563/1563 [==============================] - 34s 22ms/step - loss: 1.7423 - accuracy: 0.3508 - val_loss: 1.6548 - val_accuracy: 0.3900\n",
      "Epoch 10/80\n",
      "1563/1563 [==============================] - 34s 22ms/step - loss: 1.6542 - accuracy: 0.3914 - val_loss: 1.6266 - val_accuracy: 0.4059\n",
      "Epoch 11/80\n",
      "1563/1563 [==============================] - 33s 21ms/step - loss: 1.6790 - accuracy: 0.3878 - val_loss: 1.6104 - val_accuracy: 0.4109\n",
      "Epoch 12/80\n",
      "1563/1563 [==============================] - 33s 21ms/step - loss: 1.6085 - accuracy: 0.4133 - val_loss: 1.5546 - val_accuracy: 0.4364\n",
      "Epoch 13/80\n",
      "1563/1563 [==============================] - 34s 21ms/step - loss: 1.5718 - accuracy: 0.4278 - val_loss: 1.5766 - val_accuracy: 0.4252\n",
      "Epoch 14/80\n",
      "1563/1563 [==============================] - 33s 21ms/step - loss: 1.7021 - accuracy: 0.4228 - val_loss: 1.7376 - val_accuracy: 0.3458\n",
      "Epoch 15/80\n",
      "1563/1563 [==============================] - 35s 22ms/step - loss: 1.5973 - accuracy: 0.4163 - val_loss: 1.6179 - val_accuracy: 0.4096\n",
      "Epoch 16/80\n",
      "1563/1563 [==============================] - 34s 22ms/step - loss: 1.5477 - accuracy: 0.4387 - val_loss: 1.5219 - val_accuracy: 0.4551\n",
      "Epoch 17/80\n",
      "1563/1563 [==============================] - 34s 22ms/step - loss: 1.6375 - accuracy: 0.4184 - val_loss: 1.6372 - val_accuracy: 0.4168\n",
      "Epoch 18/80\n",
      "1563/1563 [==============================] - 33s 21ms/step - loss: 1.5486 - accuracy: 0.4376 - val_loss: 1.5609 - val_accuracy: 0.4334\n",
      "Epoch 19/80\n",
      "1563/1563 [==============================] - 34s 22ms/step - loss: 24.9127 - accuracy: 0.4175 - val_loss: 1.6833 - val_accuracy: 0.3948\n",
      "Epoch 20/80\n",
      "1563/1563 [==============================] - 34s 22ms/step - loss: 1.6006 - accuracy: 0.4222 - val_loss: 1.6409 - val_accuracy: 0.4067\n",
      "Epoch 21/80\n",
      "1563/1563 [==============================] - 33s 21ms/step - loss: 1.5441 - accuracy: 0.4413 - val_loss: 1.5856 - val_accuracy: 0.4301\n",
      "Epoch 22/80\n",
      "1563/1563 [==============================] - 34s 22ms/step - loss: 1.5150 - accuracy: 0.4508 - val_loss: 1.5663 - val_accuracy: 0.4440\n",
      "Epoch 23/80\n",
      "1563/1563 [==============================] - 33s 21ms/step - loss: 1.5078 - accuracy: 0.4544 - val_loss: 1.5826 - val_accuracy: 0.4173\n",
      "Epoch 24/80\n",
      "1563/1563 [==============================] - 34s 21ms/step - loss: 1.4873 - accuracy: 0.4614 - val_loss: 1.5394 - val_accuracy: 0.4316\n",
      "Epoch 25/80\n",
      "1563/1563 [==============================] - 34s 22ms/step - loss: 1.4758 - accuracy: 0.4671 - val_loss: 1.5178 - val_accuracy: 0.4530\n",
      "Epoch 26/80\n",
      "1563/1563 [==============================] - 33s 21ms/step - loss: 1.4634 - accuracy: 0.4700 - val_loss: 1.5266 - val_accuracy: 0.4485\n",
      "Epoch 27/80\n",
      "1563/1563 [==============================] - 34s 21ms/step - loss: 1.4468 - accuracy: 0.4768 - val_loss: 1.5464 - val_accuracy: 0.4419\n",
      "Epoch 28/80\n",
      "1563/1563 [==============================] - 706s 452ms/step - loss: 1.4376 - accuracy: 0.4828 - val_loss: 1.5210 - val_accuracy: 0.4567\n",
      "Epoch 29/80\n",
      "1563/1563 [==============================] - 32s 21ms/step - loss: 1.4258 - accuracy: 0.4863 - val_loss: 1.4475 - val_accuracy: 0.4782\n",
      "Epoch 30/80\n",
      "1563/1563 [==============================] - 31s 20ms/step - loss: 1.4817 - accuracy: 0.4638 - val_loss: 1.4835 - val_accuracy: 0.4682\n",
      "Epoch 31/80\n",
      "1563/1563 [==============================] - 32s 20ms/step - loss: 1.4134 - accuracy: 0.4895 - val_loss: 1.4891 - val_accuracy: 0.4646\n",
      "Epoch 32/80\n",
      "1563/1563 [==============================] - 32s 20ms/step - loss: 1.3872 - accuracy: 0.4998 - val_loss: 1.4490 - val_accuracy: 0.4859\n",
      "Epoch 33/80\n",
      "1563/1563 [==============================] - 32s 20ms/step - loss: 1.3747 - accuracy: 0.5052 - val_loss: 1.4376 - val_accuracy: 0.4873\n",
      "Epoch 34/80\n",
      "1563/1563 [==============================] - 32s 21ms/step - loss: 1.5267 - accuracy: 0.4763 - val_loss: 1.5742 - val_accuracy: 0.4279\n",
      "Epoch 35/80\n",
      "1563/1563 [==============================] - 33s 21ms/step - loss: 1.4572 - accuracy: 0.4750 - val_loss: 1.4565 - val_accuracy: 0.4788\n",
      "Epoch 36/80\n",
      "1563/1563 [==============================] - 33s 21ms/step - loss: 1.3949 - accuracy: 0.5015 - val_loss: 1.5638 - val_accuracy: 0.4368\n",
      "Epoch 37/80\n",
      "1563/1563 [==============================] - 34s 21ms/step - loss: 1.3834 - accuracy: 0.5018 - val_loss: 1.4331 - val_accuracy: 0.4865\n",
      "Epoch 38/80\n",
      "1563/1563 [==============================] - 33s 21ms/step - loss: 1.3499 - accuracy: 0.5141 - val_loss: 1.3985 - val_accuracy: 0.5039\n",
      "Epoch 39/80\n",
      "1563/1563 [==============================] - 33s 21ms/step - loss: 1.3339 - accuracy: 0.5196 - val_loss: 1.4680 - val_accuracy: 0.4823\n",
      "Epoch 40/80\n",
      "1563/1563 [==============================] - 33s 21ms/step - loss: 1.3912 - accuracy: 0.5108 - val_loss: 1.6098 - val_accuracy: 0.4138\n",
      "Epoch 41/80\n",
      "1563/1563 [==============================] - 33s 21ms/step - loss: 1.6536 - accuracy: 0.4381 - val_loss: 1.6727 - val_accuracy: 0.3784\n",
      "Epoch 42/80\n",
      "1563/1563 [==============================] - 34s 21ms/step - loss: 1.5335 - accuracy: 0.4423 - val_loss: 1.5251 - val_accuracy: 0.4603\n",
      "Epoch 43/80\n",
      "1563/1563 [==============================] - 33s 21ms/step - loss: 1.4348 - accuracy: 0.4824 - val_loss: 1.4698 - val_accuracy: 0.4785\n",
      "Epoch 44/80\n",
      "1563/1563 [==============================] - 34s 22ms/step - loss: 1.4043 - accuracy: 0.4933 - val_loss: 1.4602 - val_accuracy: 0.4827\n",
      "Epoch 45/80\n",
      "1563/1563 [==============================] - 38s 24ms/step - loss: 1.7827 - accuracy: 0.3997 - val_loss: 1.6560 - val_accuracy: 0.4028\n",
      "Epoch 46/80\n",
      "1563/1563 [==============================] - 36s 23ms/step - loss: 1.4958 - accuracy: 0.4527 - val_loss: 1.4842 - val_accuracy: 0.4785\n",
      "Epoch 47/80\n",
      "1563/1563 [==============================] - 35s 22ms/step - loss: 1.4169 - accuracy: 0.4889 - val_loss: 1.4696 - val_accuracy: 0.4752\n",
      "Epoch 48/80\n",
      "1563/1563 [==============================] - 35s 22ms/step - loss: 1.4008 - accuracy: 0.4960 - val_loss: 1.4247 - val_accuracy: 0.4923\n",
      "Epoch 49/80\n",
      "1563/1563 [==============================] - 38s 24ms/step - loss: 1.3650 - accuracy: 0.5070 - val_loss: 1.4291 - val_accuracy: 0.4934\n",
      "Epoch 50/80\n",
      "1563/1563 [==============================] - 36s 23ms/step - loss: 1.3440 - accuracy: 0.5149 - val_loss: 1.4358 - val_accuracy: 0.4892\n",
      "Epoch 51/80\n",
      "1563/1563 [==============================] - 33s 21ms/step - loss: 1.3321 - accuracy: 0.5219 - val_loss: 1.4739 - val_accuracy: 0.4897\n",
      "Epoch 52/80\n",
      "1563/1563 [==============================] - 33s 21ms/step - loss: 1.3267 - accuracy: 0.5221 - val_loss: 1.4749 - val_accuracy: 0.4807\n",
      "Epoch 53/80\n",
      "1563/1563 [==============================] - 34s 22ms/step - loss: 1.3063 - accuracy: 0.5323 - val_loss: 1.4482 - val_accuracy: 0.4950\n",
      "Epoch 54/80\n",
      "1563/1563 [==============================] - 34s 22ms/step - loss: 1.2901 - accuracy: 0.5366 - val_loss: 1.4389 - val_accuracy: 0.4919\n",
      "Epoch 55/80\n",
      "1563/1563 [==============================] - 34s 22ms/step - loss: 1.4061 - accuracy: 0.5080 - val_loss: 1.4753 - val_accuracy: 0.4891\n",
      "Epoch 56/80\n",
      "1563/1563 [==============================] - 33s 21ms/step - loss: 1.2804 - accuracy: 0.5397 - val_loss: 1.4859 - val_accuracy: 0.4863\n",
      "Epoch 57/80\n",
      "1563/1563 [==============================] - 32s 21ms/step - loss: 1.3314 - accuracy: 0.5214 - val_loss: 1.5591 - val_accuracy: 0.4435\n",
      "Epoch 58/80\n",
      "1563/1563 [==============================] - 33s 21ms/step - loss: 1.3337 - accuracy: 0.5191 - val_loss: 1.4486 - val_accuracy: 0.4857\n",
      "Epoch 59/80\n",
      "1563/1563 [==============================] - 33s 21ms/step - loss: 1.2498 - accuracy: 0.5520 - val_loss: 1.4488 - val_accuracy: 0.4981\n",
      "Epoch 60/80\n",
      "1563/1563 [==============================] - 33s 21ms/step - loss: 1.3428 - accuracy: 0.5299 - val_loss: 1.4886 - val_accuracy: 0.4797\n",
      "Epoch 61/80\n",
      "1563/1563 [==============================] - 33s 21ms/step - loss: 1.3945 - accuracy: 0.5209 - val_loss: 1.4191 - val_accuracy: 0.4952\n",
      "Epoch 62/80\n",
      "1563/1563 [==============================] - 33s 21ms/step - loss: 1.2593 - accuracy: 0.5472 - val_loss: 1.4242 - val_accuracy: 0.4997\n",
      "Epoch 63/80\n",
      "1563/1563 [==============================] - 33s 21ms/step - loss: 877.1705 - accuracy: 0.3787 - val_loss: 1.7303 - val_accuracy: 0.3665\n",
      "Epoch 64/80\n",
      "1563/1563 [==============================] - 33s 21ms/step - loss: 1.6004 - accuracy: 0.4143 - val_loss: 1.6020 - val_accuracy: 0.4183\n",
      "Epoch 65/80\n",
      "1563/1563 [==============================] - 33s 21ms/step - loss: 1.4630 - accuracy: 0.4695 - val_loss: 1.5007 - val_accuracy: 0.4623\n",
      "Epoch 66/80\n",
      "1563/1563 [==============================] - 33s 21ms/step - loss: 1.3831 - accuracy: 0.4989 - val_loss: 1.4780 - val_accuracy: 0.4784\n",
      "Epoch 67/80\n",
      "1563/1563 [==============================] - 33s 21ms/step - loss: 1.3378 - accuracy: 0.5172 - val_loss: 1.4582 - val_accuracy: 0.4837\n",
      "Epoch 68/80\n",
      "1563/1563 [==============================] - 33s 21ms/step - loss: 1.3058 - accuracy: 0.5288 - val_loss: 1.4587 - val_accuracy: 0.4843\n",
      "Epoch 69/80\n",
      "1563/1563 [==============================] - 200s 128ms/step - loss: 1.2801 - accuracy: 0.5389 - val_loss: 1.4249 - val_accuracy: 0.5058\n",
      "Epoch 70/80\n",
      "1563/1563 [==============================] - 39s 25ms/step - loss: 1.2577 - accuracy: 0.5482 - val_loss: 1.4616 - val_accuracy: 0.4968\n",
      "Epoch 71/80\n",
      "1563/1563 [==============================] - 37s 23ms/step - loss: 1.5067 - accuracy: 0.5202 - val_loss: 1.4800 - val_accuracy: 0.4781\n",
      "Epoch 72/80\n",
      "1563/1563 [==============================] - 36s 23ms/step - loss: 3.0415 - accuracy: 0.4287 - val_loss: 1.5215 - val_accuracy: 0.4647\n",
      "Epoch 73/80\n",
      "1563/1563 [==============================] - 34s 22ms/step - loss: 1.3725 - accuracy: 0.5057 - val_loss: 1.4580 - val_accuracy: 0.4878\n",
      "Epoch 74/80\n",
      "1563/1563 [==============================] - 35s 23ms/step - loss: 1.3300 - accuracy: 0.5207 - val_loss: 1.4807 - val_accuracy: 0.4832\n",
      "Epoch 75/80\n",
      "1563/1563 [==============================] - 35s 22ms/step - loss: 1.3031 - accuracy: 0.5317 - val_loss: 1.4419 - val_accuracy: 0.4907\n",
      "Epoch 76/80\n",
      "1563/1563 [==============================] - 37s 24ms/step - loss: 1.2857 - accuracy: 0.5376 - val_loss: 1.4127 - val_accuracy: 0.5071\n",
      "Epoch 77/80\n",
      "1563/1563 [==============================] - 36s 23ms/step - loss: 1.2629 - accuracy: 0.5454 - val_loss: 1.3930 - val_accuracy: 0.5117\n",
      "Epoch 78/80\n",
      "1563/1563 [==============================] - 35s 22ms/step - loss: 1.3792 - accuracy: 0.5102 - val_loss: 1.4346 - val_accuracy: 0.4980\n",
      "Epoch 79/80\n",
      "1563/1563 [==============================] - 34s 22ms/step - loss: 1.2645 - accuracy: 0.5476 - val_loss: 1.4988 - val_accuracy: 0.4818\n",
      "Epoch 80/80\n",
      "1563/1563 [==============================] - 34s 22ms/step - loss: 1.2425 - accuracy: 0.5533 - val_loss: 1.4433 - val_accuracy: 0.5047\n"
     ]
    },
    {
     "data": {
      "text/plain": [
       "<tensorflow.python.keras.callbacks.History at 0x203dc7dcbb0>"
      ]
     },
     "execution_count": 78,
     "metadata": {},
     "output_type": "execute_result"
    }
   ],
   "source": [
    "model6.fit(xtrain, y_train, epochs = 80, validation_data = (xtest, y_test))"
   ]
  },
  {
   "cell_type": "code",
   "execution_count": 93,
   "metadata": {},
   "outputs": [],
   "source": [
    "model9 = tf.keras.Sequential([\n",
    "    tf.keras.layers.Flatten(input_shape=(32, 32, 3)),\n",
    "    tf.keras.layers.Dense(600, activation='tanh', kernel_regularizer = regularizers.l2(0.01)),\n",
    "    keras.layers.Dropout(0.2),\n",
    "    tf.keras.layers.Dense(600, activation='tanh', kernel_regularizer = regularizers.l2(0.01)),\n",
    "    tf.keras.layers.Dense(300, activation='tanh', kernel_regularizer = regularizers.l2(0.01)),\n",
    "    tf.keras.layers.Dense(300, activation='tanh', kernel_regularizer = regularizers.l2(0.01)),\n",
    "    tf.keras.layers.Dense(100, activation='tanh', kernel_regularizer = regularizers.l2(0.01)),\n",
    "    tf.keras.layers.Dense(100, activation='tanh', kernel_regularizer = regularizers.l2(0.01)),\n",
    "    tf.keras.layers.Dense(50, activation='tanh', kernel_regularizer = regularizers.l2(0.01)),\n",
    "    tf.keras.layers.Dense(50, activation='tanh', kernel_regularizer = regularizers.l2(0.01)),\n",
    "    tf.keras.layers.Dense(10, activation='softmax')\n",
    "])"
   ]
  },
  {
   "cell_type": "code",
   "execution_count": 94,
   "metadata": {},
   "outputs": [],
   "source": [
    "model9.compile(optimizer=keras.optimizers.Adam(learning_rate=1e-3),\n",
    "                loss=keras.losses.SparseCategoricalCrossentropy(from_logits=True),\n",
    "                metrics=['accuracy'])"
   ]
  },
  {
   "cell_type": "code",
   "execution_count": 95,
   "metadata": {
    "scrolled": true
   },
   "outputs": [
    {
     "name": "stdout",
     "output_type": "stream",
     "text": [
      "Epoch 1/30\n",
      "1563/1563 [==============================] - 34s 21ms/step - loss: 3.0449 - accuracy: 0.1604 - val_loss: 2.2231 - val_accuracy: 0.1702\n",
      "Epoch 2/30\n",
      "1563/1563 [==============================] - 33s 21ms/step - loss: 2.2536 - accuracy: 0.1705 - val_loss: 2.1920 - val_accuracy: 0.1865\n",
      "Epoch 3/30\n",
      "1563/1563 [==============================] - 33s 21ms/step - loss: 2.2408 - accuracy: 0.1712 - val_loss: 2.2612 - val_accuracy: 0.1713\n",
      "Epoch 4/30\n",
      "1563/1563 [==============================] - 33s 21ms/step - loss: 2.2361 - accuracy: 0.1742 - val_loss: 2.2494 - val_accuracy: 0.1695\n",
      "Epoch 5/30\n",
      "1563/1563 [==============================] - 33s 21ms/step - loss: 2.2226 - accuracy: 0.1751 - val_loss: 2.1770 - val_accuracy: 0.1812\n",
      "Epoch 6/30\n",
      "1563/1563 [==============================] - 33s 21ms/step - loss: 2.2167 - accuracy: 0.1786 - val_loss: 2.2411 - val_accuracy: 0.1682\n",
      "Epoch 7/30\n",
      "1563/1563 [==============================] - 34s 21ms/step - loss: 2.2231 - accuracy: 0.1766 - val_loss: 2.2319 - val_accuracy: 0.1780\n",
      "Epoch 8/30\n",
      "1563/1563 [==============================] - 34s 22ms/step - loss: 2.2217 - accuracy: 0.1761 - val_loss: 2.1945 - val_accuracy: 0.1855\n",
      "Epoch 9/30\n",
      "1563/1563 [==============================] - 33s 21ms/step - loss: 2.2100 - accuracy: 0.1769 - val_loss: 2.1817 - val_accuracy: 0.1809\n",
      "Epoch 10/30\n",
      "1563/1563 [==============================] - 33s 21ms/step - loss: 2.2151 - accuracy: 0.1757 - val_loss: 2.2431 - val_accuracy: 0.1747\n",
      "Epoch 11/30\n",
      "1563/1563 [==============================] - 33s 21ms/step - loss: 2.2186 - accuracy: 0.1776 - val_loss: 2.2036 - val_accuracy: 0.1753\n",
      "Epoch 12/30\n",
      "1563/1563 [==============================] - 33s 21ms/step - loss: 2.2152 - accuracy: 0.1744 - val_loss: 2.3305 - val_accuracy: 0.1752\n",
      "Epoch 13/30\n",
      "1563/1563 [==============================] - 33s 21ms/step - loss: 2.2473 - accuracy: 0.1742 - val_loss: 2.2269 - val_accuracy: 0.1753\n",
      "Epoch 14/30\n",
      "1563/1563 [==============================] - 33s 21ms/step - loss: 2.2120 - accuracy: 0.1762 - val_loss: 2.1784 - val_accuracy: 0.1859\n",
      "Epoch 15/30\n",
      "1563/1563 [==============================] - 33s 21ms/step - loss: 2.2143 - accuracy: 0.1750 - val_loss: 2.2759 - val_accuracy: 0.1802\n",
      "Epoch 16/30\n",
      "1563/1563 [==============================] - 33s 21ms/step - loss: 2.2195 - accuracy: 0.1769 - val_loss: 2.2957 - val_accuracy: 0.1658\n",
      "Epoch 17/30\n",
      "1563/1563 [==============================] - 33s 21ms/step - loss: 2.2129 - accuracy: 0.1767 - val_loss: 2.1924 - val_accuracy: 0.1828\n",
      "Epoch 18/30\n",
      "1563/1563 [==============================] - 33s 21ms/step - loss: 2.2027 - accuracy: 0.1767 - val_loss: 2.1877 - val_accuracy: 0.1849\n",
      "Epoch 19/30\n",
      "1563/1563 [==============================] - 32s 21ms/step - loss: 2.2206 - accuracy: 0.1772 - val_loss: 2.2816 - val_accuracy: 0.1577\n",
      "Epoch 20/30\n",
      "1563/1563 [==============================] - 31s 20ms/step - loss: 2.2072 - accuracy: 0.1762 - val_loss: 2.3351 - val_accuracy: 0.1590\n",
      "Epoch 21/30\n",
      "1563/1563 [==============================] - 32s 20ms/step - loss: 2.2032 - accuracy: 0.1779 - val_loss: 2.1564 - val_accuracy: 0.1826\n",
      "Epoch 22/30\n",
      "1563/1563 [==============================] - 32s 20ms/step - loss: 2.2048 - accuracy: 0.1788 - val_loss: 2.1677 - val_accuracy: 0.1762\n",
      "Epoch 23/30\n",
      "1563/1563 [==============================] - 32s 20ms/step - loss: 2.2241 - accuracy: 0.1763 - val_loss: 2.2382 - val_accuracy: 0.1755\n",
      "Epoch 24/30\n",
      "1563/1563 [==============================] - 32s 21ms/step - loss: 2.2052 - accuracy: 0.1787 - val_loss: 2.2451 - val_accuracy: 0.1841\n",
      "Epoch 25/30\n",
      "1563/1563 [==============================] - 32s 20ms/step - loss: 2.2030 - accuracy: 0.1777 - val_loss: 2.1511 - val_accuracy: 0.1821\n",
      "Epoch 26/30\n",
      "1563/1563 [==============================] - 31s 20ms/step - loss: 2.1999 - accuracy: 0.1795 - val_loss: 2.2640 - val_accuracy: 0.1710\n",
      "Epoch 27/30\n",
      "1563/1563 [==============================] - 32s 20ms/step - loss: 2.2062 - accuracy: 0.1791 - val_loss: 2.1836 - val_accuracy: 0.1772\n",
      "Epoch 28/30\n",
      "1563/1563 [==============================] - 31s 20ms/step - loss: 2.2185 - accuracy: 0.1779 - val_loss: 2.1549 - val_accuracy: 0.1832\n",
      "Epoch 29/30\n",
      "1563/1563 [==============================] - 31s 20ms/step - loss: 2.2029 - accuracy: 0.1772 - val_loss: 2.1652 - val_accuracy: 0.1820\n",
      "Epoch 30/30\n",
      "1563/1563 [==============================] - 32s 20ms/step - loss: 2.2077 - accuracy: 0.1776 - val_loss: 2.1959 - val_accuracy: 0.1842\n"
     ]
    },
    {
     "data": {
      "text/plain": [
       "<tensorflow.python.keras.callbacks.History at 0x20486688ac0>"
      ]
     },
     "execution_count": 95,
     "metadata": {},
     "output_type": "execute_result"
    }
   ],
   "source": [
    "model9.fit(x_train, y_train, epochs = 30, validation_data = (x_test, y_test))"
   ]
  },
  {
   "cell_type": "code",
   "execution_count": 96,
   "metadata": {},
   "outputs": [],
   "source": [
    "model10 = tf.keras.Sequential([\n",
    "    tf.keras.layers.Flatten(input_shape=(32, 32, 3)),\n",
    "    tf.keras.layers.Dense(300, activation='elu'),\n",
    "    tf.keras.layers.Dense(100, activation='elu'),\n",
    "    tf.keras.layers.Dense(50, activation='elu'),\n",
    "    tf.keras.layers.Dense(10, activation='softmax')\n",
    "])"
   ]
  },
  {
   "cell_type": "code",
   "execution_count": 97,
   "metadata": {},
   "outputs": [],
   "source": [
    "model10.compile(optimizer=keras.optimizers.Adam(learning_rate=1e-2),\n",
    "                loss=keras.losses.SparseCategoricalCrossentropy(from_logits=True),\n",
    "                metrics=['accuracy'])"
   ]
  },
  {
   "cell_type": "code",
   "execution_count": 98,
   "metadata": {
    "scrolled": true
   },
   "outputs": [
    {
     "name": "stdout",
     "output_type": "stream",
     "text": [
      "Epoch 1/30\n",
      "1563/1563 [==============================] - 12s 7ms/step - loss: 2.2470 - accuracy: 0.2496 - val_loss: 2.0329 - val_accuracy: 0.2460\n",
      "Epoch 2/30\n",
      "1563/1563 [==============================] - 7s 5ms/step - loss: 1.8907 - accuracy: 0.3060 - val_loss: 1.8018 - val_accuracy: 0.3337\n",
      "Epoch 3/30\n",
      "1563/1563 [==============================] - 7s 5ms/step - loss: 2.0100 - accuracy: 0.2853 - val_loss: 2.3212 - val_accuracy: 0.1000\n",
      "Epoch 4/30\n",
      "1563/1563 [==============================] - 7s 4ms/step - loss: 2.3490 - accuracy: 0.0997 - val_loss: 2.3223 - val_accuracy: 0.1000\n",
      "Epoch 5/30\n",
      "1563/1563 [==============================] - 7s 4ms/step - loss: 2.3557 - accuracy: 0.0982 - val_loss: 2.3649 - val_accuracy: 0.1000\n",
      "Epoch 6/30\n",
      "1563/1563 [==============================] - 8s 5ms/step - loss: 2.3565 - accuracy: 0.1014 - val_loss: 2.3704 - val_accuracy: 0.1000\n",
      "Epoch 7/30\n",
      "1563/1563 [==============================] - 8s 5ms/step - loss: 2.3621 - accuracy: 0.1005 - val_loss: 2.3516 - val_accuracy: 0.1000\n",
      "Epoch 8/30\n",
      "1563/1563 [==============================] - 7s 5ms/step - loss: 2.3599 - accuracy: 0.1012 - val_loss: 2.3407 - val_accuracy: 0.1000\n",
      "Epoch 9/30\n",
      "1563/1563 [==============================] - 7s 5ms/step - loss: 2.3612 - accuracy: 0.1016 - val_loss: 2.3887 - val_accuracy: 0.1000\n",
      "Epoch 10/30\n",
      "1563/1563 [==============================] - 7s 5ms/step - loss: 2.3607 - accuracy: 0.1015 - val_loss: 2.3424 - val_accuracy: 0.1000\n",
      "Epoch 11/30\n",
      "1563/1563 [==============================] - 8s 5ms/step - loss: 2.3658 - accuracy: 0.1003 - val_loss: 2.3318 - val_accuracy: 0.1000\n",
      "Epoch 12/30\n",
      "1563/1563 [==============================] - 7s 4ms/step - loss: 2.3608 - accuracy: 0.1009 - val_loss: 2.3429 - val_accuracy: 0.1000\n",
      "Epoch 13/30\n",
      "1563/1563 [==============================] - 6s 4ms/step - loss: 2.3615 - accuracy: 0.0988 - val_loss: 2.3360 - val_accuracy: 0.1000\n",
      "Epoch 14/30\n",
      "1563/1563 [==============================] - 7s 4ms/step - loss: 2.3604 - accuracy: 0.0986 - val_loss: 2.3786 - val_accuracy: 0.1000\n",
      "Epoch 15/30\n",
      "1563/1563 [==============================] - 6s 4ms/step - loss: 2.3680 - accuracy: 0.0996 - val_loss: 2.3665 - val_accuracy: 0.1000\n",
      "Epoch 16/30\n",
      "1563/1563 [==============================] - 7s 4ms/step - loss: 2.3662 - accuracy: 0.0988 - val_loss: 2.3550 - val_accuracy: 0.1000\n",
      "Epoch 17/30\n",
      "1563/1563 [==============================] - 7s 4ms/step - loss: 2.3602 - accuracy: 0.0999 - val_loss: 2.3477 - val_accuracy: 0.1000\n",
      "Epoch 18/30\n",
      "1563/1563 [==============================] - 7s 4ms/step - loss: 2.3636 - accuracy: 0.1003 - val_loss: 2.3640 - val_accuracy: 0.1000\n",
      "Epoch 19/30\n",
      "1563/1563 [==============================] - 6s 4ms/step - loss: 2.3623 - accuracy: 0.0992 - val_loss: 2.3721 - val_accuracy: 0.1000\n",
      "Epoch 20/30\n",
      "1563/1563 [==============================] - 6s 4ms/step - loss: 2.3619 - accuracy: 0.0981 - val_loss: 2.3486 - val_accuracy: 0.1000\n",
      "Epoch 21/30\n",
      "1563/1563 [==============================] - 6s 4ms/step - loss: 2.3622 - accuracy: 0.0996 - val_loss: 2.4058 - val_accuracy: 0.1000\n",
      "Epoch 22/30\n",
      "1563/1563 [==============================] - 6s 4ms/step - loss: 2.3584 - accuracy: 0.0994 - val_loss: 2.3699 - val_accuracy: 0.1000\n",
      "Epoch 23/30\n",
      "1563/1563 [==============================] - 7s 4ms/step - loss: 2.3666 - accuracy: 0.1009 - val_loss: 2.4053 - val_accuracy: 0.1000\n",
      "Epoch 24/30\n",
      "1563/1563 [==============================] - 7s 4ms/step - loss: 2.3663 - accuracy: 0.0964 - val_loss: 2.3711 - val_accuracy: 0.1000\n",
      "Epoch 25/30\n",
      "1563/1563 [==============================] - 6s 4ms/step - loss: 2.3595 - accuracy: 0.0992 - val_loss: 2.3509 - val_accuracy: 0.1000\n",
      "Epoch 26/30\n",
      "1563/1563 [==============================] - 7s 4ms/step - loss: 2.3627 - accuracy: 0.1002 - val_loss: 2.3417 - val_accuracy: 0.1000\n",
      "Epoch 27/30\n",
      "1563/1563 [==============================] - 7s 4ms/step - loss: 2.3603 - accuracy: 0.0989 - val_loss: 2.3790 - val_accuracy: 0.1000\n",
      "Epoch 28/30\n",
      "1563/1563 [==============================] - 6s 4ms/step - loss: 2.3637 - accuracy: 0.1001 - val_loss: 2.3529 - val_accuracy: 0.1000\n",
      "Epoch 29/30\n",
      "1563/1563 [==============================] - 6s 4ms/step - loss: 2.3645 - accuracy: 0.0988 - val_loss: 2.3502 - val_accuracy: 0.1000\n",
      "Epoch 30/30\n",
      "1563/1563 [==============================] - 7s 4ms/step - loss: 2.3613 - accuracy: 0.0984 - val_loss: 2.3276 - val_accuracy: 0.1000\n"
     ]
    },
    {
     "data": {
      "text/plain": [
       "<tensorflow.python.keras.callbacks.History at 0x2048bc09070>"
      ]
     },
     "execution_count": 98,
     "metadata": {},
     "output_type": "execute_result"
    }
   ],
   "source": [
    "model10.fit(x_train, y_train, epochs = 30, validation_data = (x_test, y_test))"
   ]
  },
  {
   "cell_type": "code",
   "execution_count": 99,
   "metadata": {},
   "outputs": [],
   "source": [
    "model10.compile(optimizer=keras.optimizers.Adam(learning_rate=1e-3),\n",
    "                loss=keras.losses.SparseCategoricalCrossentropy(from_logits=True),\n",
    "                metrics=['accuracy'])"
   ]
  },
  {
   "cell_type": "code",
   "execution_count": 100,
   "metadata": {
    "scrolled": true
   },
   "outputs": [
    {
     "name": "stdout",
     "output_type": "stream",
     "text": [
      "Epoch 1/30\n",
      "1563/1563 [==============================] - 9s 5ms/step - loss: 2.3096 - accuracy: 0.1005 - val_loss: 2.3042 - val_accuracy: 0.1000\n",
      "Epoch 2/30\n",
      "1563/1563 [==============================] - 6s 4ms/step - loss: 2.3095 - accuracy: 0.0995 - val_loss: 2.3126 - val_accuracy: 0.1000\n",
      "Epoch 3/30\n",
      "1563/1563 [==============================] - 6s 4ms/step - loss: 2.3088 - accuracy: 0.1007 - val_loss: 2.3092 - val_accuracy: 0.1000\n",
      "Epoch 4/30\n",
      "1563/1563 [==============================] - 7s 4ms/step - loss: 2.3097 - accuracy: 0.0989 - val_loss: 2.3131 - val_accuracy: 0.1000\n",
      "Epoch 5/30\n",
      "1563/1563 [==============================] - 6s 4ms/step - loss: 2.3089 - accuracy: 0.1010 - val_loss: 2.3101 - val_accuracy: 0.1000\n",
      "Epoch 6/30\n",
      "1563/1563 [==============================] - 6s 4ms/step - loss: 2.3093 - accuracy: 0.0984 - val_loss: 2.3115 - val_accuracy: 0.1000\n",
      "Epoch 7/30\n",
      "1563/1563 [==============================] - 6s 4ms/step - loss: 2.3095 - accuracy: 0.1005 - val_loss: 2.3063 - val_accuracy: 0.1000\n",
      "Epoch 8/30\n",
      "1563/1563 [==============================] - 6s 4ms/step - loss: 2.3094 - accuracy: 0.0998 - val_loss: 2.3125 - val_accuracy: 0.1000\n",
      "Epoch 9/30\n",
      "1563/1563 [==============================] - 6s 4ms/step - loss: 2.3093 - accuracy: 0.0999 - val_loss: 2.3113 - val_accuracy: 0.1000\n",
      "Epoch 10/30\n",
      "1563/1563 [==============================] - 6s 4ms/step - loss: 2.3095 - accuracy: 0.1003 - val_loss: 2.3053 - val_accuracy: 0.1000\n",
      "Epoch 11/30\n",
      "1563/1563 [==============================] - 7s 4ms/step - loss: 2.3096 - accuracy: 0.1004 - val_loss: 2.3089 - val_accuracy: 0.1000\n",
      "Epoch 12/30\n",
      "1563/1563 [==============================] - 6s 4ms/step - loss: 2.3093 - accuracy: 0.1002 - val_loss: 2.3120 - val_accuracy: 0.1000\n",
      "Epoch 13/30\n",
      "1563/1563 [==============================] - 6s 4ms/step - loss: 2.3092 - accuracy: 0.1005 - val_loss: 2.3127 - val_accuracy: 0.1000\n",
      "Epoch 14/30\n",
      "1563/1563 [==============================] - 6s 4ms/step - loss: 2.3096 - accuracy: 0.0992 - val_loss: 2.3074 - val_accuracy: 0.1000\n",
      "Epoch 15/30\n",
      "1563/1563 [==============================] - 6s 4ms/step - loss: 2.3089 - accuracy: 0.1011 - val_loss: 2.3067 - val_accuracy: 0.1000\n",
      "Epoch 16/30\n",
      "1563/1563 [==============================] - 6s 4ms/step - loss: 2.3093 - accuracy: 0.1006 - val_loss: 2.3077 - val_accuracy: 0.1000\n",
      "Epoch 17/30\n",
      "1563/1563 [==============================] - 6s 4ms/step - loss: 2.3092 - accuracy: 0.1023 - val_loss: 2.3113 - val_accuracy: 0.1000\n",
      "Epoch 18/30\n",
      "1563/1563 [==============================] - 6s 4ms/step - loss: 2.3091 - accuracy: 0.0997 - val_loss: 2.3095 - val_accuracy: 0.1000\n",
      "Epoch 19/30\n",
      "1563/1563 [==============================] - 6s 4ms/step - loss: 2.3091 - accuracy: 0.0983 - val_loss: 2.3111 - val_accuracy: 0.1000\n",
      "Epoch 20/30\n",
      "1563/1563 [==============================] - 6s 4ms/step - loss: 2.3093 - accuracy: 0.0992 - val_loss: 2.3111 - val_accuracy: 0.1000\n",
      "Epoch 21/30\n",
      "1563/1563 [==============================] - 7s 4ms/step - loss: 2.3092 - accuracy: 0.1002 - val_loss: 2.3071 - val_accuracy: 0.1000\n",
      "Epoch 22/30\n",
      "1563/1563 [==============================] - 6s 4ms/step - loss: 2.3092 - accuracy: 0.1009 - val_loss: 2.3057 - val_accuracy: 0.1000\n",
      "Epoch 23/30\n",
      "1563/1563 [==============================] - 7s 4ms/step - loss: 2.3097 - accuracy: 0.1007 - val_loss: 2.3086 - val_accuracy: 0.1000\n",
      "Epoch 24/30\n",
      "1563/1563 [==============================] - 6s 4ms/step - loss: 2.3091 - accuracy: 0.0997 - val_loss: 2.3153 - val_accuracy: 0.1000\n",
      "Epoch 25/30\n",
      "1563/1563 [==============================] - 6s 4ms/step - loss: 2.3087 - accuracy: 0.1014 - val_loss: 2.3076 - val_accuracy: 0.1000\n",
      "Epoch 26/30\n",
      "1563/1563 [==============================] - 6s 4ms/step - loss: 2.3094 - accuracy: 0.1001 - val_loss: 2.3059 - val_accuracy: 0.1000\n",
      "Epoch 27/30\n",
      "1563/1563 [==============================] - 6s 4ms/step - loss: 2.3092 - accuracy: 0.1003 - val_loss: 2.3049 - val_accuracy: 0.1000\n",
      "Epoch 28/30\n",
      "1563/1563 [==============================] - 6s 4ms/step - loss: 2.3093 - accuracy: 0.1007 - val_loss: 2.3176 - val_accuracy: 0.1000\n",
      "Epoch 29/30\n",
      "1563/1563 [==============================] - 6s 4ms/step - loss: 2.3100 - accuracy: 0.0973 - val_loss: 2.3098 - val_accuracy: 0.1000\n",
      "Epoch 30/30\n",
      "1563/1563 [==============================] - 6s 4ms/step - loss: 2.3099 - accuracy: 0.0973 - val_loss: 2.3083 - val_accuracy: 0.1000\n"
     ]
    },
    {
     "data": {
      "text/plain": [
       "<tensorflow.python.keras.callbacks.History at 0x203af7c4640>"
      ]
     },
     "execution_count": 100,
     "metadata": {},
     "output_type": "execute_result"
    }
   ],
   "source": [
    "model10.fit(x_train, y_train, epochs = 30, validation_data = (x_test, y_test))"
   ]
  },
  {
   "cell_type": "code",
   "execution_count": 101,
   "metadata": {},
   "outputs": [],
   "source": [
    "def scheduler(epoch, lr):\n",
    "    if epoch < 10:\n",
    "        return lr\n",
    "    else:\n",
    "        return lr * tf.math.exp(-0.1)"
   ]
  },
  {
   "cell_type": "code",
   "execution_count": 102,
   "metadata": {},
   "outputs": [],
   "source": [
    "#Exactly like model2 with selu\n",
    "model11 = tf.keras.Sequential([\n",
    "    tf.keras.layers.Flatten(input_shape=(64, 48)),\n",
    "    tf.keras.layers.Dense(300, activation='selu'),\n",
    "    tf.keras.layers.Dense(100, activation='selu'),\n",
    "    tf.keras.layers.Dense(100, activation='selu'),\n",
    "    tf.keras.layers.Dense(50, activation='selu'),\n",
    "    tf.keras.layers.Dense(10, activation='softmax')\n",
    "])"
   ]
  },
  {
   "cell_type": "code",
   "execution_count": 103,
   "metadata": {},
   "outputs": [],
   "source": [
    "model11.compile(optimizer=keras.optimizers.Adam(learning_rate=1e-3),\n",
    "                loss=keras.losses.SparseCategoricalCrossentropy(from_logits=True),\n",
    "                metrics=['accuracy'])"
   ]
  },
  {
   "cell_type": "code",
   "execution_count": 104,
   "metadata": {},
   "outputs": [],
   "source": [
    "stop_early = tf.keras.callbacks.EarlyStopping(monitor='val_loss', patience=10)"
   ]
  },
  {
   "cell_type": "code",
   "execution_count": 105,
   "metadata": {
    "scrolled": true
   },
   "outputs": [
    {
     "name": "stdout",
     "output_type": "stream",
     "text": [
      "Epoch 1/30\n",
      "1563/1563 [==============================] - 10s 6ms/step - loss: 1.9247 - accuracy: 0.3055 - val_loss: 1.7461 - val_accuracy: 0.3811\n",
      "Epoch 2/30\n",
      "1563/1563 [==============================] - 7s 5ms/step - loss: 1.7100 - accuracy: 0.3817 - val_loss: 1.6144 - val_accuracy: 0.4232\n",
      "Epoch 3/30\n",
      "1563/1563 [==============================] - 7s 5ms/step - loss: 1.6355 - accuracy: 0.4080 - val_loss: 1.5625 - val_accuracy: 0.4459\n",
      "Epoch 4/30\n",
      "1563/1563 [==============================] - 7s 5ms/step - loss: 1.5758 - accuracy: 0.4322 - val_loss: 1.5612 - val_accuracy: 0.4436\n",
      "Epoch 5/30\n",
      "1563/1563 [==============================] - 7s 5ms/step - loss: 1.5321 - accuracy: 0.4502 - val_loss: 1.5705 - val_accuracy: 0.4355\n",
      "Epoch 6/30\n",
      "1563/1563 [==============================] - 7s 4ms/step - loss: 1.4995 - accuracy: 0.4624 - val_loss: 1.4868 - val_accuracy: 0.4728\n",
      "Epoch 7/30\n",
      "1563/1563 [==============================] - 7s 4ms/step - loss: 1.4647 - accuracy: 0.4735 - val_loss: 1.4474 - val_accuracy: 0.4882\n",
      "Epoch 8/30\n",
      "1563/1563 [==============================] - 7s 4ms/step - loss: 1.4343 - accuracy: 0.4872 - val_loss: 1.4551 - val_accuracy: 0.4687\n",
      "Epoch 9/30\n",
      "1563/1563 [==============================] - 7s 5ms/step - loss: 1.4061 - accuracy: 0.4974 - val_loss: 1.4544 - val_accuracy: 0.4819\n",
      "Epoch 10/30\n",
      "1563/1563 [==============================] - 7s 4ms/step - loss: 1.3831 - accuracy: 0.5042 - val_loss: 1.4328 - val_accuracy: 0.4977\n",
      "Epoch 11/30\n",
      "1563/1563 [==============================] - 7s 5ms/step - loss: 1.3564 - accuracy: 0.5147 - val_loss: 1.3899 - val_accuracy: 0.5069\n",
      "Epoch 12/30\n",
      "1563/1563 [==============================] - 7s 5ms/step - loss: 1.3369 - accuracy: 0.5204 - val_loss: 1.4039 - val_accuracy: 0.5043\n",
      "Epoch 13/30\n",
      "1563/1563 [==============================] - 7s 4ms/step - loss: 1.3182 - accuracy: 0.5294 - val_loss: 1.3695 - val_accuracy: 0.5121\n",
      "Epoch 14/30\n",
      "1563/1563 [==============================] - 7s 4ms/step - loss: 1.2986 - accuracy: 0.5344 - val_loss: 1.4258 - val_accuracy: 0.4889\n",
      "Epoch 15/30\n",
      "1563/1563 [==============================] - 7s 4ms/step - loss: 1.2819 - accuracy: 0.5402 - val_loss: 1.4255 - val_accuracy: 0.4852\n",
      "Epoch 16/30\n",
      "1563/1563 [==============================] - 7s 5ms/step - loss: 1.2641 - accuracy: 0.5489 - val_loss: 1.3975 - val_accuracy: 0.5003\n",
      "Epoch 17/30\n",
      "1563/1563 [==============================] - 7s 4ms/step - loss: 1.2469 - accuracy: 0.5534 - val_loss: 1.3880 - val_accuracy: 0.5126\n",
      "Epoch 18/30\n",
      "1563/1563 [==============================] - 7s 4ms/step - loss: 1.2322 - accuracy: 0.5618 - val_loss: 1.3916 - val_accuracy: 0.5067\n",
      "Epoch 19/30\n",
      "1563/1563 [==============================] - 7s 5ms/step - loss: 1.2207 - accuracy: 0.5629 - val_loss: 1.4110 - val_accuracy: 0.4966\n",
      "Epoch 20/30\n",
      "1563/1563 [==============================] - 8s 5ms/step - loss: 1.2029 - accuracy: 0.5711 - val_loss: 1.4185 - val_accuracy: 0.5058\n",
      "Epoch 21/30\n",
      "1563/1563 [==============================] - 7s 5ms/step - loss: 1.1909 - accuracy: 0.5743 - val_loss: 1.3775 - val_accuracy: 0.5140\n",
      "Epoch 22/30\n",
      "1563/1563 [==============================] - 7s 5ms/step - loss: 1.1803 - accuracy: 0.5768 - val_loss: 1.4309 - val_accuracy: 0.5020\n",
      "Epoch 23/30\n",
      "1563/1563 [==============================] - 7s 5ms/step - loss: 1.1713 - accuracy: 0.5793 - val_loss: 1.3897 - val_accuracy: 0.5140\n"
     ]
    },
    {
     "data": {
      "text/plain": [
       "<tensorflow.python.keras.callbacks.History at 0x203b09c0b20>"
      ]
     },
     "execution_count": 105,
     "metadata": {},
     "output_type": "execute_result"
    }
   ],
   "source": [
    "model11.fit(xtrain, y_train, epochs = 30, validation_data = (xtest, y_test),\n",
    "           callbacks = [stop_early])"
   ]
  },
  {
   "cell_type": "code",
   "execution_count": 106,
   "metadata": {},
   "outputs": [],
   "source": [
    "model12 = tf.keras.Sequential([\n",
    "    tf.keras.layers.Flatten(input_shape=(64, 48)),\n",
    "    tf.keras.layers.Dense(300, activation='selu'),\n",
    "    tf.keras.layers.Dense(100, activation='selu'),\n",
    "    tf.keras.layers.Dense(100, activation='selu'),\n",
    "    tf.keras.layers.Dense(50, activation='selu'),\n",
    "    tf.keras.layers.Dense(50, activation='selu'),\n",
    "    tf.keras.layers.Dense(50, activation='selu'),\n",
    "    tf.keras.layers.Dense(10, activation='softmax')\n",
    "])"
   ]
  },
  {
   "cell_type": "code",
   "execution_count": 107,
   "metadata": {},
   "outputs": [],
   "source": [
    "model12.compile(optimizer=keras.optimizers.Adam(learning_rate=1e-4),\n",
    "                loss=keras.losses.SparseCategoricalCrossentropy(from_logits=True),\n",
    "                metrics=['accuracy'])"
   ]
  },
  {
   "cell_type": "code",
   "execution_count": 108,
   "metadata": {
    "scrolled": true
   },
   "outputs": [
    {
     "name": "stdout",
     "output_type": "stream",
     "text": [
      "Epoch 1/30\n",
      "1563/1563 [==============================] - 8s 5ms/step - loss: 1.8673 - accuracy: 0.3291 - val_loss: 1.7265 - val_accuracy: 0.3886\n",
      "Epoch 2/30\n",
      "1563/1563 [==============================] - 7s 5ms/step - loss: 1.6797 - accuracy: 0.4015 - val_loss: 1.6447 - val_accuracy: 0.4182\n",
      "Epoch 3/30\n",
      "1563/1563 [==============================] - 7s 5ms/step - loss: 1.5976 - accuracy: 0.4297 - val_loss: 1.5762 - val_accuracy: 0.4431\n",
      "Epoch 4/30\n",
      "1563/1563 [==============================] - 7s 5ms/step - loss: 1.5334 - accuracy: 0.4530 - val_loss: 1.5485 - val_accuracy: 0.4492\n",
      "Epoch 5/30\n",
      "1563/1563 [==============================] - 7s 5ms/step - loss: 1.4903 - accuracy: 0.4679 - val_loss: 1.5149 - val_accuracy: 0.4531\n",
      "Epoch 6/30\n",
      "1563/1563 [==============================] - 7s 5ms/step - loss: 1.4495 - accuracy: 0.4838 - val_loss: 1.4751 - val_accuracy: 0.4777\n",
      "Epoch 7/30\n",
      "1563/1563 [==============================] - 7s 5ms/step - loss: 1.4233 - accuracy: 0.4911 - val_loss: 1.4868 - val_accuracy: 0.4683\n",
      "Epoch 8/30\n",
      "1563/1563 [==============================] - 7s 5ms/step - loss: 1.3939 - accuracy: 0.5034 - val_loss: 1.4475 - val_accuracy: 0.4872\n",
      "Epoch 9/30\n",
      "1563/1563 [==============================] - 7s 4ms/step - loss: 1.3666 - accuracy: 0.5120 - val_loss: 1.4305 - val_accuracy: 0.4851\n",
      "Epoch 10/30\n",
      "1563/1563 [==============================] - 7s 5ms/step - loss: 1.3455 - accuracy: 0.5189 - val_loss: 1.4096 - val_accuracy: 0.4980\n",
      "Epoch 11/30\n",
      "1563/1563 [==============================] - 7s 5ms/step - loss: 1.3194 - accuracy: 0.5285 - val_loss: 1.3983 - val_accuracy: 0.5066\n",
      "Epoch 12/30\n",
      "1563/1563 [==============================] - 7s 5ms/step - loss: 1.2982 - accuracy: 0.5378 - val_loss: 1.3841 - val_accuracy: 0.5097\n",
      "Epoch 13/30\n",
      "1563/1563 [==============================] - 7s 5ms/step - loss: 1.2799 - accuracy: 0.5418 - val_loss: 1.3718 - val_accuracy: 0.5154\n",
      "Epoch 14/30\n",
      "1563/1563 [==============================] - 8s 5ms/step - loss: 1.2583 - accuracy: 0.5524 - val_loss: 1.3806 - val_accuracy: 0.5102\n",
      "Epoch 15/30\n",
      "1563/1563 [==============================] - 8s 5ms/step - loss: 1.2387 - accuracy: 0.5588 - val_loss: 1.3677 - val_accuracy: 0.5168\n",
      "Epoch 16/30\n",
      "1563/1563 [==============================] - 7s 5ms/step - loss: 1.2246 - accuracy: 0.5629 - val_loss: 1.3860 - val_accuracy: 0.5135\n",
      "Epoch 17/30\n",
      "1563/1563 [==============================] - 7s 5ms/step - loss: 1.2066 - accuracy: 0.5705 - val_loss: 1.3734 - val_accuracy: 0.5175\n",
      "Epoch 18/30\n",
      "1563/1563 [==============================] - 7s 5ms/step - loss: 1.1918 - accuracy: 0.5756 - val_loss: 1.3767 - val_accuracy: 0.5173\n",
      "Epoch 19/30\n",
      "1563/1563 [==============================] - 7s 5ms/step - loss: 1.1748 - accuracy: 0.5816 - val_loss: 1.3644 - val_accuracy: 0.5177\n",
      "Epoch 20/30\n",
      "1563/1563 [==============================] - 7s 5ms/step - loss: 1.1570 - accuracy: 0.5878 - val_loss: 1.3563 - val_accuracy: 0.5211\n",
      "Epoch 21/30\n",
      "1563/1563 [==============================] - 7s 5ms/step - loss: 1.1406 - accuracy: 0.5935 - val_loss: 1.3924 - val_accuracy: 0.5080\n",
      "Epoch 22/30\n",
      "1563/1563 [==============================] - 8s 5ms/step - loss: 1.1233 - accuracy: 0.5996 - val_loss: 1.3571 - val_accuracy: 0.5230\n",
      "Epoch 23/30\n",
      "1563/1563 [==============================] - 7s 5ms/step - loss: 1.1083 - accuracy: 0.6080 - val_loss: 1.3488 - val_accuracy: 0.5252\n",
      "Epoch 24/30\n",
      "1563/1563 [==============================] - 8s 5ms/step - loss: 1.0965 - accuracy: 0.6104 - val_loss: 1.3800 - val_accuracy: 0.5173\n",
      "Epoch 25/30\n",
      "1563/1563 [==============================] - 8s 5ms/step - loss: 1.0822 - accuracy: 0.6166 - val_loss: 1.3491 - val_accuracy: 0.5331\n",
      "Epoch 26/30\n",
      "1563/1563 [==============================] - 7s 5ms/step - loss: 1.0718 - accuracy: 0.6167 - val_loss: 1.3524 - val_accuracy: 0.5274\n",
      "Epoch 27/30\n",
      "1563/1563 [==============================] - 7s 5ms/step - loss: 1.0537 - accuracy: 0.6255 - val_loss: 1.3303 - val_accuracy: 0.5391\n",
      "Epoch 28/30\n",
      "1563/1563 [==============================] - 7s 5ms/step - loss: 1.0439 - accuracy: 0.6271 - val_loss: 1.3428 - val_accuracy: 0.5359\n",
      "Epoch 29/30\n",
      "1563/1563 [==============================] - 8s 5ms/step - loss: 1.0272 - accuracy: 0.6346 - val_loss: 1.3944 - val_accuracy: 0.5238\n",
      "Epoch 30/30\n",
      "1563/1563 [==============================] - 8s 5ms/step - loss: 1.0163 - accuracy: 0.6381 - val_loss: 1.3671 - val_accuracy: 0.5278\n"
     ]
    },
    {
     "data": {
      "text/plain": [
       "<tensorflow.python.keras.callbacks.History at 0x203aed64c70>"
      ]
     },
     "execution_count": 108,
     "metadata": {},
     "output_type": "execute_result"
    }
   ],
   "source": [
    "model12.fit(xtrain, y_train, epochs = 30, validation_data = (xtest, y_test),\n",
    "           callbacks = [stop_early])"
   ]
  },
  {
   "cell_type": "code",
   "execution_count": 109,
   "metadata": {},
   "outputs": [
    {
     "name": "stdout",
     "output_type": "stream",
     "text": [
      "Epoch 1/30\n",
      "1563/1563 [==============================] - 8s 5ms/step - loss: 0.9988 - accuracy: 0.6468 - val_loss: 1.3739 - val_accuracy: 0.5316\n",
      "Epoch 2/30\n",
      "1563/1563 [==============================] - 7s 5ms/step - loss: 0.9871 - accuracy: 0.6486 - val_loss: 1.3918 - val_accuracy: 0.5242\n",
      "Epoch 3/30\n",
      "1563/1563 [==============================] - 7s 5ms/step - loss: 0.9754 - accuracy: 0.6540 - val_loss: 1.3791 - val_accuracy: 0.5339\n",
      "Epoch 4/30\n",
      "1563/1563 [==============================] - 7s 5ms/step - loss: 0.9646 - accuracy: 0.6569 - val_loss: 1.3889 - val_accuracy: 0.5325\n",
      "Epoch 5/30\n",
      "1563/1563 [==============================] - 7s 5ms/step - loss: 0.9488 - accuracy: 0.6628 - val_loss: 1.3940 - val_accuracy: 0.5301\n",
      "Epoch 6/30\n",
      "1563/1563 [==============================] - 8s 5ms/step - loss: 0.9389 - accuracy: 0.6668 - val_loss: 1.4460 - val_accuracy: 0.5228\n",
      "Epoch 7/30\n",
      "1563/1563 [==============================] - 7s 5ms/step - loss: 0.9302 - accuracy: 0.6699 - val_loss: 1.3827 - val_accuracy: 0.5316\n",
      "Epoch 8/30\n",
      "1563/1563 [==============================] - 7s 4ms/step - loss: 0.9125 - accuracy: 0.6760 - val_loss: 1.4240 - val_accuracy: 0.5261\n",
      "Epoch 9/30\n",
      "1563/1563 [==============================] - 7s 4ms/step - loss: 0.9028 - accuracy: 0.6798 - val_loss: 1.4051 - val_accuracy: 0.5238\n",
      "Epoch 10/30\n",
      "1563/1563 [==============================] - 7s 5ms/step - loss: 0.8921 - accuracy: 0.6835 - val_loss: 1.4315 - val_accuracy: 0.5257\n",
      "Epoch 11/30\n",
      "1563/1563 [==============================] - 7s 5ms/step - loss: 0.8741 - accuracy: 0.6894 - val_loss: 1.4253 - val_accuracy: 0.5262\n"
     ]
    },
    {
     "data": {
      "text/plain": [
       "<tensorflow.python.keras.callbacks.History at 0x203b22c5a60>"
      ]
     },
     "execution_count": 109,
     "metadata": {},
     "output_type": "execute_result"
    }
   ],
   "source": [
    "model12.fit(xtrain, y_train, epochs = 30, validation_data = (xtest, y_test),\n",
    "           callbacks = [stop_early])"
   ]
  },
  {
   "cell_type": "code",
   "execution_count": 110,
   "metadata": {},
   "outputs": [],
   "source": [
    "model13 = tf.keras.Sequential([\n",
    "    tf.keras.layers.Flatten(input_shape=(64, 48)),\n",
    "    tf.keras.layers.Dense(300, activation='selu'),\n",
    "    tf.keras.layers.Dense(200, activation='selu'),\n",
    "    tf.keras.layers.Dense(100, activation='selu'),\n",
    "    tf.keras.layers.Dense(100, activation='selu'),\n",
    "    tf.keras.layers.Dense(50, activation='selu'),\n",
    "    tf.keras.layers.Dense(50, activation='selu'),\n",
    "    tf.keras.layers.Dense(50, activation='selu'),\n",
    "    tf.keras.layers.Dense(10, activation='softmax')\n",
    "])"
   ]
  },
  {
   "cell_type": "code",
   "execution_count": 111,
   "metadata": {},
   "outputs": [],
   "source": [
    "model13.compile(optimizer=keras.optimizers.Adam(learning_rate=1e-4),\n",
    "                loss=keras.losses.SparseCategoricalCrossentropy(from_logits=True),\n",
    "                metrics=['accuracy'])"
   ]
  },
  {
   "cell_type": "code",
   "execution_count": 112,
   "metadata": {
    "scrolled": true
   },
   "outputs": [
    {
     "name": "stdout",
     "output_type": "stream",
     "text": [
      "Epoch 1/30\n",
      "1563/1563 [==============================] - 9s 6ms/step - loss: 1.8455 - accuracy: 0.3392 - val_loss: 1.7632 - val_accuracy: 0.3708\n",
      "Epoch 2/30\n",
      "1563/1563 [==============================] - 8s 5ms/step - loss: 1.6697 - accuracy: 0.4046 - val_loss: 1.6634 - val_accuracy: 0.4102\n",
      "Epoch 3/30\n",
      "1563/1563 [==============================] - 8s 5ms/step - loss: 1.5922 - accuracy: 0.4302 - val_loss: 1.5943 - val_accuracy: 0.4298\n",
      "Epoch 4/30\n",
      "1563/1563 [==============================] - 8s 5ms/step - loss: 1.5324 - accuracy: 0.4526 - val_loss: 1.5342 - val_accuracy: 0.4476\n",
      "Epoch 5/30\n",
      "1563/1563 [==============================] - 8s 5ms/step - loss: 1.4894 - accuracy: 0.4662 - val_loss: 1.4977 - val_accuracy: 0.4628\n",
      "Epoch 6/30\n",
      "1563/1563 [==============================] - 8s 5ms/step - loss: 1.4486 - accuracy: 0.4813 - val_loss: 1.4671 - val_accuracy: 0.4724\n",
      "Epoch 7/30\n",
      "1563/1563 [==============================] - 9s 6ms/step - loss: 1.4216 - accuracy: 0.4927 - val_loss: 1.4652 - val_accuracy: 0.4824\n",
      "Epoch 8/30\n",
      "1563/1563 [==============================] - 9s 6ms/step - loss: 1.3892 - accuracy: 0.5051 - val_loss: 1.4413 - val_accuracy: 0.4869\n",
      "Epoch 9/30\n",
      "1563/1563 [==============================] - 9s 5ms/step - loss: 1.3623 - accuracy: 0.5140 - val_loss: 1.4280 - val_accuracy: 0.4960\n",
      "Epoch 10/30\n",
      "1563/1563 [==============================] - 8s 5ms/step - loss: 1.3318 - accuracy: 0.5242 - val_loss: 1.4396 - val_accuracy: 0.4859\n",
      "Epoch 11/30\n",
      "1563/1563 [==============================] - 8s 5ms/step - loss: 1.3031 - accuracy: 0.5354 - val_loss: 1.3804 - val_accuracy: 0.5094\n",
      "Epoch 12/30\n",
      "1563/1563 [==============================] - 8s 5ms/step - loss: 1.2830 - accuracy: 0.5415 - val_loss: 1.4168 - val_accuracy: 0.4970\n",
      "Epoch 13/30\n",
      "1563/1563 [==============================] - 8s 5ms/step - loss: 1.2631 - accuracy: 0.5484 - val_loss: 1.3450 - val_accuracy: 0.5243\n",
      "Epoch 14/30\n",
      "1563/1563 [==============================] - 8s 5ms/step - loss: 1.2374 - accuracy: 0.5585 - val_loss: 1.3934 - val_accuracy: 0.5071\n",
      "Epoch 15/30\n",
      "1563/1563 [==============================] - 8s 5ms/step - loss: 1.2166 - accuracy: 0.5649 - val_loss: 1.3529 - val_accuracy: 0.5184\n",
      "Epoch 16/30\n",
      "1563/1563 [==============================] - 8s 5ms/step - loss: 1.1997 - accuracy: 0.5734 - val_loss: 1.3489 - val_accuracy: 0.5216\n",
      "Epoch 17/30\n",
      "1563/1563 [==============================] - 8s 5ms/step - loss: 1.1782 - accuracy: 0.5799 - val_loss: 1.3636 - val_accuracy: 0.5241\n",
      "Epoch 18/30\n",
      "1563/1563 [==============================] - 8s 5ms/step - loss: 1.1619 - accuracy: 0.5855 - val_loss: 1.3545 - val_accuracy: 0.5180\n",
      "Epoch 19/30\n",
      "1563/1563 [==============================] - 8s 5ms/step - loss: 1.1425 - accuracy: 0.5914 - val_loss: 1.3497 - val_accuracy: 0.5246\n",
      "Epoch 20/30\n",
      "1563/1563 [==============================] - 8s 5ms/step - loss: 1.1233 - accuracy: 0.5992 - val_loss: 1.3308 - val_accuracy: 0.5326\n",
      "Epoch 21/30\n",
      "1563/1563 [==============================] - 8s 5ms/step - loss: 1.1029 - accuracy: 0.6058 - val_loss: 1.3728 - val_accuracy: 0.5203\n",
      "Epoch 22/30\n",
      "1563/1563 [==============================] - 8s 5ms/step - loss: 1.0866 - accuracy: 0.6095 - val_loss: 1.3778 - val_accuracy: 0.5168\n",
      "Epoch 23/30\n",
      "1563/1563 [==============================] - 8s 5ms/step - loss: 1.0726 - accuracy: 0.6177 - val_loss: 1.3712 - val_accuracy: 0.5227\n",
      "Epoch 24/30\n",
      "1563/1563 [==============================] - 8s 5ms/step - loss: 1.0536 - accuracy: 0.6236 - val_loss: 1.4048 - val_accuracy: 0.5129\n",
      "Epoch 25/30\n",
      "1563/1563 [==============================] - 8s 5ms/step - loss: 1.0364 - accuracy: 0.6298 - val_loss: 1.3615 - val_accuracy: 0.5294\n",
      "Epoch 26/30\n",
      "1563/1563 [==============================] - 8s 5ms/step - loss: 1.0224 - accuracy: 0.6338 - val_loss: 1.3581 - val_accuracy: 0.5273\n",
      "Epoch 27/30\n",
      "1563/1563 [==============================] - 8s 5ms/step - loss: 1.0040 - accuracy: 0.6416 - val_loss: 1.3591 - val_accuracy: 0.5277\n",
      "Epoch 28/30\n",
      "1563/1563 [==============================] - 8s 5ms/step - loss: 0.9885 - accuracy: 0.6483 - val_loss: 1.3654 - val_accuracy: 0.5337\n",
      "Epoch 29/30\n",
      "1563/1563 [==============================] - 8s 5ms/step - loss: 0.9780 - accuracy: 0.6491 - val_loss: 1.3857 - val_accuracy: 0.5259\n",
      "Epoch 30/30\n",
      "1563/1563 [==============================] - 8s 5ms/step - loss: 0.9604 - accuracy: 0.6581 - val_loss: 1.3945 - val_accuracy: 0.5229\n"
     ]
    },
    {
     "data": {
      "text/plain": [
       "<tensorflow.python.keras.callbacks.History at 0x203b2339d00>"
      ]
     },
     "execution_count": 112,
     "metadata": {},
     "output_type": "execute_result"
    }
   ],
   "source": [
    "model13.fit(xtrain, y_train, epochs = 30, validation_data = (xtest, y_test),\n",
    "           callbacks = [stop_early])"
   ]
  },
  {
   "cell_type": "code",
   "execution_count": 113,
   "metadata": {},
   "outputs": [
    {
     "name": "stdout",
     "output_type": "stream",
     "text": [
      "Epoch 1/30\n",
      "1563/1563 [==============================] - 11s 7ms/step - loss: 0.9388 - accuracy: 0.6672 - val_loss: 1.3776 - val_accuracy: 0.5360\n",
      "Epoch 2/30\n",
      "1563/1563 [==============================] - 8s 5ms/step - loss: 0.9246 - accuracy: 0.6686 - val_loss: 1.4153 - val_accuracy: 0.5261\n",
      "Epoch 3/30\n",
      "1563/1563 [==============================] - 8s 5ms/step - loss: 0.9142 - accuracy: 0.6745 - val_loss: 1.3847 - val_accuracy: 0.5315\n",
      "Epoch 4/30\n",
      "1563/1563 [==============================] - 9s 6ms/step - loss: 0.8952 - accuracy: 0.6816 - val_loss: 1.3973 - val_accuracy: 0.5361\n",
      "Epoch 5/30\n",
      "1563/1563 [==============================] - 9s 6ms/step - loss: 0.8811 - accuracy: 0.6849 - val_loss: 1.3903 - val_accuracy: 0.5331\n",
      "Epoch 6/30\n",
      "1563/1563 [==============================] - 9s 6ms/step - loss: 0.8632 - accuracy: 0.6931 - val_loss: 1.4744 - val_accuracy: 0.5208\n",
      "Epoch 7/30\n",
      "1563/1563 [==============================] - 10s 7ms/step - loss: 0.8529 - accuracy: 0.6959 - val_loss: 1.4385 - val_accuracy: 0.5260\n",
      "Epoch 8/30\n",
      "1563/1563 [==============================] - 11s 7ms/step - loss: 0.8369 - accuracy: 0.7039 - val_loss: 1.4651 - val_accuracy: 0.5191\n",
      "Epoch 9/30\n",
      "1563/1563 [==============================] - 9s 6ms/step - loss: 0.8209 - accuracy: 0.7079 - val_loss: 1.4622 - val_accuracy: 0.5248\n",
      "Epoch 10/30\n",
      "1563/1563 [==============================] - 9s 6ms/step - loss: 0.8046 - accuracy: 0.7148 - val_loss: 1.4647 - val_accuracy: 0.5287\n",
      "Epoch 11/30\n",
      "1563/1563 [==============================] - 9s 6ms/step - loss: 0.7895 - accuracy: 0.7185 - val_loss: 1.4831 - val_accuracy: 0.5305\n"
     ]
    },
    {
     "data": {
      "text/plain": [
       "<tensorflow.python.keras.callbacks.History at 0x203b2883d00>"
      ]
     },
     "execution_count": 113,
     "metadata": {},
     "output_type": "execute_result"
    }
   ],
   "source": [
    "model13.fit(xtrain, y_train, epochs = 30, validation_data = (xtest, y_test),\n",
    "           callbacks = [stop_early])"
   ]
  },
  {
   "cell_type": "code",
   "execution_count": 114,
   "metadata": {},
   "outputs": [],
   "source": [
    "model14 = tf.keras.Sequential([\n",
    "    tf.keras.layers.Flatten(input_shape=(64, 48)),\n",
    "    tf.keras.layers.Dense(300, activation='selu', kernel_regularizer = regularizers.l2(0.01)),\n",
    "    tf.keras.layers.Dense(200, activation='selu', kernel_regularizer = regularizers.l2(0.01)),\n",
    "    tf.keras.layers.Dense(100, activation='selu', kernel_regularizer = regularizers.l2(0.01)),\n",
    "    tf.keras.layers.Dense(100, activation='selu', kernel_regularizer = regularizers.l2(0.01)),\n",
    "    tf.keras.layers.Dense(50, activation='selu', kernel_regularizer = regularizers.l2(0.01)),\n",
    "    tf.keras.layers.Dense(50, activation='selu', kernel_regularizer = regularizers.l2(0.01)),\n",
    "    tf.keras.layers.Dense(50, activation='selu', kernel_regularizer = regularizers.l2(0.01)),\n",
    "    tf.keras.layers.Dense(10, activation='softmax')\n",
    "])"
   ]
  },
  {
   "cell_type": "code",
   "execution_count": 115,
   "metadata": {},
   "outputs": [],
   "source": [
    "model14.compile(optimizer=keras.optimizers.Adam(learning_rate=1e-4),\n",
    "                loss=keras.losses.SparseCategoricalCrossentropy(from_logits=True),\n",
    "                metrics=['accuracy'])"
   ]
  },
  {
   "cell_type": "code",
   "execution_count": 116,
   "metadata": {
    "scrolled": true
   },
   "outputs": [
    {
     "name": "stdout",
     "output_type": "stream",
     "text": [
      "Epoch 1/30\n",
      "1563/1563 [==============================] - 15s 9ms/step - loss: 10.0976 - accuracy: 0.3230 - val_loss: 7.1827 - val_accuracy: 0.3614\n",
      "Epoch 2/30\n",
      "1563/1563 [==============================] - 13s 8ms/step - loss: 5.7176 - accuracy: 0.3775 - val_loss: 4.6648 - val_accuracy: 0.3830\n",
      "Epoch 3/30\n",
      "1563/1563 [==============================] - 13s 8ms/step - loss: 4.0837 - accuracy: 0.3835 - val_loss: 3.6311 - val_accuracy: 0.3881\n",
      "Epoch 4/30\n",
      "1563/1563 [==============================] - 14s 9ms/step - loss: 3.2989 - accuracy: 0.3858 - val_loss: 3.0167 - val_accuracy: 0.3886\n",
      "Epoch 5/30\n",
      "1563/1563 [==============================] - 14s 9ms/step - loss: 2.8370 - accuracy: 0.3885 - val_loss: 2.6270 - val_accuracy: 0.4028\n",
      "Epoch 6/30\n",
      "1563/1563 [==============================] - 14s 9ms/step - loss: 2.5249 - accuracy: 0.3924 - val_loss: 2.3965 - val_accuracy: 0.3934\n",
      "Epoch 7/30\n",
      "1563/1563 [==============================] - 13s 8ms/step - loss: 2.3112 - accuracy: 0.3953 - val_loss: 2.2006 - val_accuracy: 0.4131\n",
      "Epoch 8/30\n",
      "1563/1563 [==============================] - 13s 8ms/step - loss: 2.1694 - accuracy: 0.3989 - val_loss: 2.1040 - val_accuracy: 0.4017\n",
      "Epoch 9/30\n",
      "1563/1563 [==============================] - 13s 8ms/step - loss: 2.0685 - accuracy: 0.4011 - val_loss: 2.0123 - val_accuracy: 0.4100\n",
      "Epoch 10/30\n",
      "1563/1563 [==============================] - 13s 9ms/step - loss: 1.9972 - accuracy: 0.4055 - val_loss: 1.9904 - val_accuracy: 0.4036\n",
      "Epoch 11/30\n",
      "1563/1563 [==============================] - 14s 9ms/step - loss: 1.9521 - accuracy: 0.4094 - val_loss: 1.8971 - val_accuracy: 0.4246\n",
      "Epoch 12/30\n",
      "1563/1563 [==============================] - 13s 8ms/step - loss: 1.9189 - accuracy: 0.4141 - val_loss: 1.9172 - val_accuracy: 0.4033\n",
      "Epoch 13/30\n",
      "1563/1563 [==============================] - 13s 8ms/step - loss: 1.8941 - accuracy: 0.4184 - val_loss: 1.8618 - val_accuracy: 0.4291\n",
      "Epoch 14/30\n",
      "1563/1563 [==============================] - 13s 9ms/step - loss: 1.8760 - accuracy: 0.4174 - val_loss: 1.9503 - val_accuracy: 0.3712\n",
      "Epoch 15/30\n",
      "1563/1563 [==============================] - 13s 9ms/step - loss: 1.8623 - accuracy: 0.4224 - val_loss: 1.9271 - val_accuracy: 0.3858\n",
      "Epoch 16/30\n",
      "1563/1563 [==============================] - 13s 9ms/step - loss: 1.8523 - accuracy: 0.4223 - val_loss: 1.8505 - val_accuracy: 0.4195\n",
      "Epoch 17/30\n",
      "1563/1563 [==============================] - 13s 8ms/step - loss: 1.8406 - accuracy: 0.4257 - val_loss: 1.8149 - val_accuracy: 0.4396\n",
      "Epoch 18/30\n",
      "1563/1563 [==============================] - 13s 9ms/step - loss: 1.8341 - accuracy: 0.4265 - val_loss: 1.8365 - val_accuracy: 0.4216\n",
      "Epoch 19/30\n",
      "1563/1563 [==============================] - 13s 8ms/step - loss: 1.8227 - accuracy: 0.4289 - val_loss: 1.9091 - val_accuracy: 0.4091\n",
      "Epoch 20/30\n",
      "1563/1563 [==============================] - 14s 9ms/step - loss: 1.8183 - accuracy: 0.4297 - val_loss: 1.8591 - val_accuracy: 0.4075\n",
      "Epoch 21/30\n",
      "1563/1563 [==============================] - 14s 9ms/step - loss: 1.8102 - accuracy: 0.4304 - val_loss: 1.8500 - val_accuracy: 0.4247\n",
      "Epoch 22/30\n",
      "1563/1563 [==============================] - 14s 9ms/step - loss: 1.8034 - accuracy: 0.4326 - val_loss: 1.8396 - val_accuracy: 0.4193\n",
      "Epoch 23/30\n",
      "1563/1563 [==============================] - 13s 9ms/step - loss: 1.8060 - accuracy: 0.4299 - val_loss: 1.8373 - val_accuracy: 0.4153\n",
      "Epoch 24/30\n",
      "1563/1563 [==============================] - 13s 9ms/step - loss: 1.7967 - accuracy: 0.4332 - val_loss: 1.8372 - val_accuracy: 0.4161\n",
      "Epoch 25/30\n",
      "1563/1563 [==============================] - 14s 9ms/step - loss: 1.7924 - accuracy: 0.4323 - val_loss: 1.7787 - val_accuracy: 0.4427\n",
      "Epoch 26/30\n",
      "1563/1563 [==============================] - 13s 9ms/step - loss: 1.7922 - accuracy: 0.4336 - val_loss: 1.7876 - val_accuracy: 0.4304\n",
      "Epoch 27/30\n",
      "1563/1563 [==============================] - 13s 8ms/step - loss: 1.7824 - accuracy: 0.4366 - val_loss: 1.7896 - val_accuracy: 0.4328\n",
      "Epoch 28/30\n",
      "1563/1563 [==============================] - 15s 9ms/step - loss: 1.7823 - accuracy: 0.4383 - val_loss: 1.7630 - val_accuracy: 0.4435\n",
      "Epoch 29/30\n",
      "1563/1563 [==============================] - 13s 9ms/step - loss: 1.7778 - accuracy: 0.4376 - val_loss: 1.7864 - val_accuracy: 0.4290\n",
      "Epoch 30/30\n",
      "1563/1563 [==============================] - 14s 9ms/step - loss: 1.7727 - accuracy: 0.4395 - val_loss: 1.8378 - val_accuracy: 0.4169\n"
     ]
    },
    {
     "data": {
      "text/plain": [
       "<tensorflow.python.keras.callbacks.History at 0x203b288a0a0>"
      ]
     },
     "execution_count": 116,
     "metadata": {},
     "output_type": "execute_result"
    }
   ],
   "source": [
    "model14.fit(xtrain, y_train, epochs = 30, validation_data = (xtest, y_test),\n",
    "           callbacks = [stop_early])"
   ]
  },
  {
   "cell_type": "code",
   "execution_count": 117,
   "metadata": {
    "scrolled": true
   },
   "outputs": [
    {
     "name": "stdout",
     "output_type": "stream",
     "text": [
      "Epoch 1/30\n",
      "1563/1563 [==============================] - 13s 8ms/step - loss: 1.7684 - accuracy: 0.4400 - val_loss: 1.7540 - val_accuracy: 0.4449\n",
      "Epoch 2/30\n",
      "1563/1563 [==============================] - 13s 8ms/step - loss: 1.7658 - accuracy: 0.4413 - val_loss: 1.7646 - val_accuracy: 0.4407\n",
      "Epoch 3/30\n",
      "1563/1563 [==============================] - 14s 9ms/step - loss: 1.7676 - accuracy: 0.4383 - val_loss: 1.7879 - val_accuracy: 0.4363\n",
      "Epoch 4/30\n",
      "1563/1563 [==============================] - 13s 9ms/step - loss: 1.7637 - accuracy: 0.4387 - val_loss: 1.7812 - val_accuracy: 0.4315\n",
      "Epoch 5/30\n",
      "1563/1563 [==============================] - 14s 9ms/step - loss: 1.7614 - accuracy: 0.4412 - val_loss: 1.7696 - val_accuracy: 0.4255\n",
      "Epoch 6/30\n",
      "1563/1563 [==============================] - 14s 9ms/step - loss: 1.7594 - accuracy: 0.4430 - val_loss: 1.8021 - val_accuracy: 0.4299\n",
      "Epoch 7/30\n",
      "1563/1563 [==============================] - 15s 10ms/step - loss: 1.7517 - accuracy: 0.4437 - val_loss: 1.7648 - val_accuracy: 0.4425\n",
      "Epoch 8/30\n",
      "1563/1563 [==============================] - 14s 9ms/step - loss: 1.7541 - accuracy: 0.4447 - val_loss: 1.7757 - val_accuracy: 0.4319\n",
      "Epoch 9/30\n",
      "1563/1563 [==============================] - 14s 9ms/step - loss: 1.7499 - accuracy: 0.4446 - val_loss: 1.7655 - val_accuracy: 0.4342\n",
      "Epoch 10/30\n",
      "1563/1563 [==============================] - 14s 9ms/step - loss: 1.7476 - accuracy: 0.4458 - val_loss: 1.8013 - val_accuracy: 0.4247\n",
      "Epoch 11/30\n",
      "1563/1563 [==============================] - 14s 9ms/step - loss: 1.7444 - accuracy: 0.4461 - val_loss: 1.7498 - val_accuracy: 0.4424\n",
      "Epoch 12/30\n",
      "1563/1563 [==============================] - 14s 9ms/step - loss: 1.7411 - accuracy: 0.4490 - val_loss: 1.7799 - val_accuracy: 0.4293\n",
      "Epoch 13/30\n",
      "1563/1563 [==============================] - 14s 9ms/step - loss: 1.7418 - accuracy: 0.4477 - val_loss: 1.7487 - val_accuracy: 0.4428\n",
      "Epoch 14/30\n",
      "1563/1563 [==============================] - 14s 9ms/step - loss: 1.7397 - accuracy: 0.4464 - val_loss: 1.8643 - val_accuracy: 0.3940\n",
      "Epoch 15/30\n",
      "1563/1563 [==============================] - 14s 9ms/step - loss: 1.7396 - accuracy: 0.4468 - val_loss: 1.8093 - val_accuracy: 0.4129\n",
      "Epoch 16/30\n",
      "1563/1563 [==============================] - 14s 9ms/step - loss: 1.7401 - accuracy: 0.4465 - val_loss: 1.7557 - val_accuracy: 0.4403\n",
      "Epoch 17/30\n",
      "1563/1563 [==============================] - 15s 9ms/step - loss: 1.7360 - accuracy: 0.4485 - val_loss: 1.7336 - val_accuracy: 0.4474\n",
      "Epoch 18/30\n",
      "1563/1563 [==============================] - 15s 10ms/step - loss: 1.7372 - accuracy: 0.4491 - val_loss: 1.7789 - val_accuracy: 0.4313\n",
      "Epoch 19/30\n",
      "1563/1563 [==============================] - 14s 9ms/step - loss: 1.7309 - accuracy: 0.4497 - val_loss: 1.9252 - val_accuracy: 0.3994\n",
      "Epoch 20/30\n",
      "1563/1563 [==============================] - 15s 9ms/step - loss: 1.7333 - accuracy: 0.4507 - val_loss: 1.7935 - val_accuracy: 0.4248\n",
      "Epoch 21/30\n",
      "1563/1563 [==============================] - 14s 9ms/step - loss: 1.7295 - accuracy: 0.4532 - val_loss: 1.7784 - val_accuracy: 0.4338\n",
      "Epoch 22/30\n",
      "1563/1563 [==============================] - 14s 9ms/step - loss: 1.7277 - accuracy: 0.4530 - val_loss: 1.7770 - val_accuracy: 0.4332\n",
      "Epoch 23/30\n",
      "1563/1563 [==============================] - 14s 9ms/step - loss: 1.7343 - accuracy: 0.4496 - val_loss: 1.7808 - val_accuracy: 0.4224\n",
      "Epoch 24/30\n",
      "1563/1563 [==============================] - 14s 9ms/step - loss: 1.7267 - accuracy: 0.4505 - val_loss: 1.7573 - val_accuracy: 0.4372\n",
      "Epoch 25/30\n",
      "1563/1563 [==============================] - 14s 9ms/step - loss: 1.7257 - accuracy: 0.4488 - val_loss: 1.7189 - val_accuracy: 0.4555\n",
      "Epoch 26/30\n",
      "1563/1563 [==============================] - 14s 9ms/step - loss: 1.7293 - accuracy: 0.4505 - val_loss: 1.7603 - val_accuracy: 0.4369\n",
      "Epoch 27/30\n",
      "1563/1563 [==============================] - 14s 9ms/step - loss: 1.7240 - accuracy: 0.4516 - val_loss: 1.7445 - val_accuracy: 0.4445\n",
      "Epoch 28/30\n",
      "1563/1563 [==============================] - 14s 9ms/step - loss: 1.7269 - accuracy: 0.4499 - val_loss: 1.7224 - val_accuracy: 0.4509\n",
      "Epoch 29/30\n",
      "1563/1563 [==============================] - 14s 9ms/step - loss: 1.7254 - accuracy: 0.4530 - val_loss: 1.7570 - val_accuracy: 0.4352\n",
      "Epoch 30/30\n",
      "1563/1563 [==============================] - 15s 10ms/step - loss: 1.7228 - accuracy: 0.4526 - val_loss: 1.7616 - val_accuracy: 0.4349\n"
     ]
    },
    {
     "data": {
      "text/plain": [
       "<tensorflow.python.keras.callbacks.History at 0x203b59aff70>"
      ]
     },
     "execution_count": 117,
     "metadata": {},
     "output_type": "execute_result"
    }
   ],
   "source": [
    "model14.fit(xtrain, y_train, epochs = 30, validation_data = (xtest, y_test),\n",
    "           callbacks = [stop_early])"
   ]
  },
  {
   "cell_type": "code",
   "execution_count": 118,
   "metadata": {
    "scrolled": true
   },
   "outputs": [
    {
     "name": "stdout",
     "output_type": "stream",
     "text": [
      "Epoch 1/30\n",
      "1563/1563 [==============================] - 13s 8ms/step - loss: 1.7177 - accuracy: 0.4537 - val_loss: 1.7141 - val_accuracy: 0.4579\n",
      "Epoch 2/30\n",
      "1563/1563 [==============================] - 13s 8ms/step - loss: 1.7197 - accuracy: 0.4521 - val_loss: 1.7267 - val_accuracy: 0.4519\n",
      "Epoch 3/30\n",
      "1563/1563 [==============================] - 13s 8ms/step - loss: 1.7220 - accuracy: 0.4494 - val_loss: 1.7330 - val_accuracy: 0.4484\n",
      "Epoch 4/30\n",
      "1563/1563 [==============================] - 13s 9ms/step - loss: 1.7184 - accuracy: 0.4532 - val_loss: 1.7396 - val_accuracy: 0.4428\n",
      "Epoch 5/30\n",
      "1563/1563 [==============================] - 15s 10ms/step - loss: 1.7155 - accuracy: 0.4543 - val_loss: 1.7348 - val_accuracy: 0.4401\n",
      "Epoch 6/30\n",
      "1563/1563 [==============================] - 15s 9ms/step - loss: 1.7172 - accuracy: 0.4547 - val_loss: 1.7616 - val_accuracy: 0.4393\n",
      "Epoch 7/30\n",
      "1563/1563 [==============================] - 14s 9ms/step - loss: 1.7120 - accuracy: 0.4555 - val_loss: 1.7266 - val_accuracy: 0.4538\n",
      "Epoch 8/30\n",
      "1563/1563 [==============================] - 14s 9ms/step - loss: 1.7144 - accuracy: 0.4558 - val_loss: 1.7381 - val_accuracy: 0.4417\n",
      "Epoch 9/30\n",
      "1563/1563 [==============================] - 14s 9ms/step - loss: 1.7087 - accuracy: 0.4560 - val_loss: 1.7448 - val_accuracy: 0.4368\n",
      "Epoch 10/30\n",
      "1563/1563 [==============================] - 14s 9ms/step - loss: 1.7103 - accuracy: 0.4540 - val_loss: 1.7897 - val_accuracy: 0.4248\n",
      "Epoch 11/30\n",
      "1563/1563 [==============================] - 14s 9ms/step - loss: 1.7064 - accuracy: 0.4572 - val_loss: 1.7184 - val_accuracy: 0.4547\n"
     ]
    },
    {
     "data": {
      "text/plain": [
       "<tensorflow.python.keras.callbacks.History at 0x203b5a407c0>"
      ]
     },
     "execution_count": 118,
     "metadata": {},
     "output_type": "execute_result"
    }
   ],
   "source": [
    "model14.fit(xtrain, y_train, epochs = 30, validation_data = (xtest, y_test),\n",
    "           callbacks = [stop_early])"
   ]
  },
  {
   "cell_type": "code",
   "execution_count": 119,
   "metadata": {},
   "outputs": [],
   "source": [
    "model15 = tf.keras.Sequential([\n",
    "    tf.keras.layers.Flatten(input_shape=(64, 48)),\n",
    "    tf.keras.layers.Dense(500, activation='selu'),\n",
    "    tf.keras.layers.Dense(400, activation='selu'),\n",
    "    tf.keras.layers.Dense(300, activation='selu'),\n",
    "    tf.keras.layers.Dense(200, activation='selu'),\n",
    "    tf.keras.layers.Dense(100, activation='selu'),\n",
    "    tf.keras.layers.Dense(100, activation='selu'),\n",
    "    tf.keras.layers.Dense(50, activation='selu'),\n",
    "    tf.keras.layers.Dense(50, activation='selu'),\n",
    "    tf.keras.layers.Dense(50, activation='selu'),\n",
    "    tf.keras.layers.Dense(10, activation='softmax')\n",
    "])"
   ]
  },
  {
   "cell_type": "code",
   "execution_count": 120,
   "metadata": {},
   "outputs": [],
   "source": [
    "model15.compile(optimizer=keras.optimizers.Adam(learning_rate=1e-4),\n",
    "                loss=keras.losses.SparseCategoricalCrossentropy(from_logits=True),\n",
    "                metrics=['accuracy'])"
   ]
  },
  {
   "cell_type": "code",
   "execution_count": 121,
   "metadata": {
    "scrolled": false
   },
   "outputs": [
    {
     "name": "stdout",
     "output_type": "stream",
     "text": [
      "Epoch 1/30\n",
      "1563/1563 [==============================] - 20s 10ms/step - loss: 1.8493 - accuracy: 0.3288 - val_loss: 1.7305 - val_accuracy: 0.3845\n",
      "Epoch 2/30\n",
      "1563/1563 [==============================] - 16s 10ms/step - loss: 1.6577 - accuracy: 0.4058 - val_loss: 1.5932 - val_accuracy: 0.4347\n",
      "Epoch 3/30\n",
      "1563/1563 [==============================] - 15s 10ms/step - loss: 1.5709 - accuracy: 0.4366 - val_loss: 1.5510 - val_accuracy: 0.4466\n",
      "Epoch 4/30\n",
      "1563/1563 [==============================] - 16s 11ms/step - loss: 1.5080 - accuracy: 0.4610 - val_loss: 1.5111 - val_accuracy: 0.4631\n",
      "Epoch 5/30\n",
      "1563/1563 [==============================] - 16s 10ms/step - loss: 1.4604 - accuracy: 0.4791 - val_loss: 1.4926 - val_accuracy: 0.4656\n",
      "Epoch 6/30\n",
      "1563/1563 [==============================] - 16s 10ms/step - loss: 1.4182 - accuracy: 0.4928 - val_loss: 1.4312 - val_accuracy: 0.4963\n",
      "Epoch 7/30\n",
      "1563/1563 [==============================] - 15s 10ms/step - loss: 1.3794 - accuracy: 0.5041 - val_loss: 1.4769 - val_accuracy: 0.4832\n",
      "Epoch 8/30\n",
      "1563/1563 [==============================] - 16s 10ms/step - loss: 1.3445 - accuracy: 0.5204 - val_loss: 1.4352 - val_accuracy: 0.4922\n",
      "Epoch 9/30\n",
      "1563/1563 [==============================] - 17s 11ms/step - loss: 1.3121 - accuracy: 0.5319 - val_loss: 1.4019 - val_accuracy: 0.5010\n",
      "Epoch 10/30\n",
      "1563/1563 [==============================] - 16s 10ms/step - loss: 1.2743 - accuracy: 0.5447 - val_loss: 1.3863 - val_accuracy: 0.5133\n",
      "Epoch 11/30\n",
      "1563/1563 [==============================] - 16s 10ms/step - loss: 1.2390 - accuracy: 0.5591 - val_loss: 1.3647 - val_accuracy: 0.5169\n",
      "Epoch 12/30\n",
      "1563/1563 [==============================] - 16s 10ms/step - loss: 1.2145 - accuracy: 0.5652 - val_loss: 1.3649 - val_accuracy: 0.5197\n",
      "Epoch 13/30\n",
      "1563/1563 [==============================] - 18s 11ms/step - loss: 1.1804 - accuracy: 0.5767 - val_loss: 1.3536 - val_accuracy: 0.5252\n",
      "Epoch 14/30\n",
      "1563/1563 [==============================] - 17s 11ms/step - loss: 1.1510 - accuracy: 0.5875 - val_loss: 1.3596 - val_accuracy: 0.5266\n",
      "Epoch 15/30\n",
      "1563/1563 [==============================] - 17s 11ms/step - loss: 1.1226 - accuracy: 0.6014 - val_loss: 1.3595 - val_accuracy: 0.5274\n",
      "Epoch 16/30\n",
      "1563/1563 [==============================] - 17s 11ms/step - loss: 1.0909 - accuracy: 0.6103 - val_loss: 1.3808 - val_accuracy: 0.5238\n",
      "Epoch 17/30\n",
      "1563/1563 [==============================] - 17s 11ms/step - loss: 1.0627 - accuracy: 0.6214 - val_loss: 1.3802 - val_accuracy: 0.5264\n",
      "Epoch 18/30\n",
      "1563/1563 [==============================] - 17s 11ms/step - loss: 1.0339 - accuracy: 0.6313 - val_loss: 1.3560 - val_accuracy: 0.5306\n",
      "Epoch 19/30\n",
      "1563/1563 [==============================] - 17s 11ms/step - loss: 1.0065 - accuracy: 0.6418 - val_loss: 1.3809 - val_accuracy: 0.5303\n",
      "Epoch 20/30\n",
      "1563/1563 [==============================] - 17s 11ms/step - loss: 0.9712 - accuracy: 0.6523 - val_loss: 1.4031 - val_accuracy: 0.5258\n",
      "Epoch 21/30\n",
      "1563/1563 [==============================] - 17s 11ms/step - loss: 0.9450 - accuracy: 0.6637 - val_loss: 1.3981 - val_accuracy: 0.5295\n",
      "Epoch 22/30\n",
      "1563/1563 [==============================] - 17s 11ms/step - loss: 0.9168 - accuracy: 0.6714 - val_loss: 1.3985 - val_accuracy: 0.5361\n",
      "Epoch 23/30\n",
      "1563/1563 [==============================] - 17s 11ms/step - loss: 0.8900 - accuracy: 0.6846 - val_loss: 1.4258 - val_accuracy: 0.5321\n"
     ]
    },
    {
     "data": {
      "text/plain": [
       "<tensorflow.python.keras.callbacks.History at 0x203b5b40cd0>"
      ]
     },
     "execution_count": 121,
     "metadata": {},
     "output_type": "execute_result"
    }
   ],
   "source": [
    "model15.fit(xtrain, y_train, epochs = 30, validation_data = (xtest, y_test),\n",
    "           callbacks = [stop_early])"
   ]
  },
  {
   "cell_type": "code",
   "execution_count": 123,
   "metadata": {},
   "outputs": [],
   "source": [
    "model16 = tf.keras.Sequential([\n",
    "    tf.keras.layers.Flatten(input_shape=(64, 48)),\n",
    "    tf.keras.layers.Dense(400, activation='selu'),\n",
    "    tf.keras.layers.Dense(300, activation='selu'),\n",
    "    tf.keras.layers.Dense(200, activation='selu'),\n",
    "    tf.keras.layers.Dense(200, activation='selu'),\n",
    "    tf.keras.layers.Dense(100, activation='selu'),\n",
    "    tf.keras.layers.Dense(100, activation='selu'),\n",
    "    tf.keras.layers.Dense(100, activation='selu'),\n",
    "    tf.keras.layers.Dense(50, activation='selu'),\n",
    "    tf.keras.layers.Dense(50, activation='selu'),\n",
    "    tf.keras.layers.Dense(50, activation='selu'),\n",
    "    tf.keras.layers.Dense(10, activation='softmax')\n",
    "])"
   ]
  },
  {
   "cell_type": "code",
   "execution_count": 124,
   "metadata": {},
   "outputs": [],
   "source": [
    "model16.compile(optimizer=keras.optimizers.Adam(learning_rate=1e-4),\n",
    "                loss=keras.losses.SparseCategoricalCrossentropy(from_logits=True),\n",
    "                metrics=['accuracy'])"
   ]
  },
  {
   "cell_type": "code",
   "execution_count": 125,
   "metadata": {
    "scrolled": true
   },
   "outputs": [
    {
     "name": "stdout",
     "output_type": "stream",
     "text": [
      "Epoch 1/30\n",
      "1563/1563 [==============================] - 14s 9ms/step - loss: 1.8613 - accuracy: 0.3289 - val_loss: 1.7180 - val_accuracy: 0.3790\n",
      "Epoch 2/30\n",
      "1563/1563 [==============================] - 14s 9ms/step - loss: 1.6507 - accuracy: 0.4077 - val_loss: 1.5723 - val_accuracy: 0.4360\n",
      "Epoch 3/30\n",
      "1563/1563 [==============================] - 13s 8ms/step - loss: 1.5657 - accuracy: 0.4409 - val_loss: 1.5230 - val_accuracy: 0.4548\n",
      "Epoch 4/30\n",
      "1563/1563 [==============================] - 13s 8ms/step - loss: 1.5066 - accuracy: 0.4605 - val_loss: 1.5258 - val_accuracy: 0.4543\n",
      "Epoch 5/30\n",
      "1563/1563 [==============================] - 13s 8ms/step - loss: 1.4654 - accuracy: 0.4766 - val_loss: 1.5129 - val_accuracy: 0.4585\n",
      "Epoch 6/30\n",
      "1563/1563 [==============================] - 14s 9ms/step - loss: 1.4266 - accuracy: 0.4900 - val_loss: 1.4523 - val_accuracy: 0.4814\n",
      "Epoch 7/30\n",
      "1563/1563 [==============================] - 13s 8ms/step - loss: 1.3920 - accuracy: 0.5005 - val_loss: 1.4861 - val_accuracy: 0.4758\n",
      "Epoch 8/30\n",
      "1563/1563 [==============================] - 13s 8ms/step - loss: 1.3545 - accuracy: 0.5173 - val_loss: 1.4235 - val_accuracy: 0.4965\n",
      "Epoch 9/30\n",
      "1563/1563 [==============================] - 12s 8ms/step - loss: 1.3284 - accuracy: 0.5252 - val_loss: 1.4107 - val_accuracy: 0.5036\n",
      "Epoch 10/30\n",
      "1563/1563 [==============================] - 12s 8ms/step - loss: 1.2957 - accuracy: 0.5371 - val_loss: 1.4038 - val_accuracy: 0.4986\n",
      "Epoch 11/30\n",
      "1563/1563 [==============================] - 13s 8ms/step - loss: 1.2645 - accuracy: 0.5477 - val_loss: 1.4205 - val_accuracy: 0.4965\n",
      "Epoch 12/30\n",
      "1563/1563 [==============================] - 13s 8ms/step - loss: 1.2346 - accuracy: 0.5585 - val_loss: 1.4159 - val_accuracy: 0.5054\n",
      "Epoch 13/30\n",
      "1563/1563 [==============================] - 13s 9ms/step - loss: 1.2064 - accuracy: 0.5681 - val_loss: 1.3557 - val_accuracy: 0.5253\n",
      "Epoch 14/30\n",
      "1563/1563 [==============================] - 13s 8ms/step - loss: 1.1780 - accuracy: 0.5799 - val_loss: 1.3750 - val_accuracy: 0.5174\n",
      "Epoch 15/30\n",
      "1563/1563 [==============================] - 12s 8ms/step - loss: 1.1529 - accuracy: 0.5897 - val_loss: 1.3516 - val_accuracy: 0.5206\n",
      "Epoch 16/30\n",
      "1563/1563 [==============================] - 12s 8ms/step - loss: 1.1243 - accuracy: 0.5995 - val_loss: 1.3539 - val_accuracy: 0.5285\n",
      "Epoch 17/30\n",
      "1563/1563 [==============================] - 13s 9ms/step - loss: 1.1013 - accuracy: 0.6072 - val_loss: 1.3724 - val_accuracy: 0.5272\n",
      "Epoch 18/30\n",
      "1563/1563 [==============================] - 13s 8ms/step - loss: 1.0754 - accuracy: 0.6168 - val_loss: 1.3612 - val_accuracy: 0.5276\n",
      "Epoch 19/30\n",
      "1563/1563 [==============================] - 13s 8ms/step - loss: 1.0493 - accuracy: 0.6257 - val_loss: 1.3619 - val_accuracy: 0.5307\n",
      "Epoch 20/30\n",
      "1563/1563 [==============================] - 13s 8ms/step - loss: 1.0231 - accuracy: 0.6349 - val_loss: 1.3963 - val_accuracy: 0.5253\n",
      "Epoch 21/30\n",
      "1563/1563 [==============================] - 13s 8ms/step - loss: 0.9969 - accuracy: 0.6448 - val_loss: 1.3755 - val_accuracy: 0.5307\n",
      "Epoch 22/30\n",
      "1563/1563 [==============================] - 13s 8ms/step - loss: 0.9715 - accuracy: 0.6535 - val_loss: 1.4370 - val_accuracy: 0.5176\n",
      "Epoch 23/30\n",
      "1563/1563 [==============================] - 13s 8ms/step - loss: 0.9521 - accuracy: 0.6599 - val_loss: 1.3755 - val_accuracy: 0.5313\n",
      "Epoch 24/30\n",
      "1563/1563 [==============================] - 13s 8ms/step - loss: 0.9217 - accuracy: 0.6713 - val_loss: 1.4620 - val_accuracy: 0.5228\n",
      "Epoch 25/30\n",
      "1563/1563 [==============================] - 12s 8ms/step - loss: 0.8964 - accuracy: 0.6798 - val_loss: 1.4138 - val_accuracy: 0.5281\n"
     ]
    },
    {
     "data": {
      "text/plain": [
       "<tensorflow.python.keras.callbacks.History at 0x204945d33a0>"
      ]
     },
     "execution_count": 125,
     "metadata": {},
     "output_type": "execute_result"
    }
   ],
   "source": [
    "model16.fit(xtrain, y_train, epochs = 30, validation_data = (xtest, y_test),\n",
    "           callbacks = [stop_early])"
   ]
  },
  {
   "cell_type": "code",
   "execution_count": 126,
   "metadata": {},
   "outputs": [],
   "source": [
    "model17 = tf.keras.Sequential([\n",
    "    tf.keras.layers.Flatten(input_shape=(64, 48)),\n",
    "    tf.keras.layers.Dense(500, activation='selu'),\n",
    "    tf.keras.layers.Dense(400, activation='selu'),\n",
    "    tf.keras.layers.Dense(300, activation='selu'),\n",
    "    tf.keras.layers.Dense(300, activation='selu'),\n",
    "    tf.keras.layers.Dense(200, activation='selu'),\n",
    "    tf.keras.layers.Dense(200, activation='selu'),\n",
    "    tf.keras.layers.Dense(100, activation='selu'),\n",
    "    tf.keras.layers.Dense(100, activation='selu'),\n",
    "    tf.keras.layers.Dense(100, activation='selu'),\n",
    "    tf.keras.layers.Dense(50, activation='selu'),\n",
    "    tf.keras.layers.Dense(50, activation='selu'),\n",
    "    tf.keras.layers.Dense(50, activation='selu'),\n",
    "    tf.keras.layers.Dense(10, activation='softmax')\n",
    "])"
   ]
  },
  {
   "cell_type": "code",
   "execution_count": 127,
   "metadata": {},
   "outputs": [],
   "source": [
    "model17.compile(optimizer=keras.optimizers.Adam(learning_rate=1e-4),\n",
    "                loss=keras.losses.SparseCategoricalCrossentropy(from_logits=True),\n",
    "                metrics=['accuracy'])"
   ]
  },
  {
   "cell_type": "code",
   "execution_count": 128,
   "metadata": {
    "scrolled": true
   },
   "outputs": [
    {
     "name": "stdout",
     "output_type": "stream",
     "text": [
      "Epoch 1/30\n",
      "1563/1563 [==============================] - 22s 13ms/step - loss: 1.8652 - accuracy: 0.3256 - val_loss: 1.7993 - val_accuracy: 0.3660\n",
      "Epoch 2/30\n",
      "1563/1563 [==============================] - 18s 12ms/step - loss: 1.6719 - accuracy: 0.3988 - val_loss: 1.5949 - val_accuracy: 0.4246\n",
      "Epoch 3/30\n",
      "1563/1563 [==============================] - 18s 12ms/step - loss: 1.5821 - accuracy: 0.4328 - val_loss: 1.5787 - val_accuracy: 0.4382\n",
      "Epoch 4/30\n",
      "1563/1563 [==============================] - 19s 12ms/step - loss: 1.5209 - accuracy: 0.4541 - val_loss: 1.5120 - val_accuracy: 0.4611\n",
      "Epoch 5/30\n",
      "1563/1563 [==============================] - 18s 12ms/step - loss: 1.4699 - accuracy: 0.4742 - val_loss: 1.4835 - val_accuracy: 0.4739\n",
      "Epoch 6/30\n",
      "1563/1563 [==============================] - 18s 11ms/step - loss: 1.4312 - accuracy: 0.4873 - val_loss: 1.4380 - val_accuracy: 0.4852\n",
      "Epoch 7/30\n",
      "1563/1563 [==============================] - 18s 12ms/step - loss: 1.3886 - accuracy: 0.5021 - val_loss: 1.4985 - val_accuracy: 0.4708\n",
      "Epoch 8/30\n",
      "1563/1563 [==============================] - 19s 12ms/step - loss: 1.3513 - accuracy: 0.5156 - val_loss: 1.4314 - val_accuracy: 0.4977\n",
      "Epoch 9/30\n",
      "1563/1563 [==============================] - 18s 12ms/step - loss: 1.3208 - accuracy: 0.5253 - val_loss: 1.4163 - val_accuracy: 0.4984\n",
      "Epoch 10/30\n",
      "1563/1563 [==============================] - 18s 12ms/step - loss: 1.2794 - accuracy: 0.5418 - val_loss: 1.4381 - val_accuracy: 0.4937\n",
      "Epoch 11/30\n",
      "1563/1563 [==============================] - 18s 12ms/step - loss: 1.2449 - accuracy: 0.5558 - val_loss: 1.3858 - val_accuracy: 0.5156\n",
      "Epoch 12/30\n",
      "1563/1563 [==============================] - 19s 12ms/step - loss: 1.2136 - accuracy: 0.5638 - val_loss: 1.3779 - val_accuracy: 0.5171\n",
      "Epoch 13/30\n",
      "1563/1563 [==============================] - 18s 12ms/step - loss: 1.1795 - accuracy: 0.5778 - val_loss: 1.3487 - val_accuracy: 0.5295\n",
      "Epoch 14/30\n",
      "1563/1563 [==============================] - 18s 12ms/step - loss: 1.1434 - accuracy: 0.5895 - val_loss: 1.3924 - val_accuracy: 0.5141\n",
      "Epoch 15/30\n",
      "1563/1563 [==============================] - 18s 12ms/step - loss: 1.1091 - accuracy: 0.6004 - val_loss: 1.3601 - val_accuracy: 0.5276\n",
      "Epoch 16/30\n",
      "1563/1563 [==============================] - 18s 12ms/step - loss: 1.0755 - accuracy: 0.6159 - val_loss: 1.3807 - val_accuracy: 0.5221\n",
      "Epoch 17/30\n",
      "1563/1563 [==============================] - 18s 12ms/step - loss: 1.0473 - accuracy: 0.6238 - val_loss: 1.4168 - val_accuracy: 0.5231\n",
      "Epoch 18/30\n",
      "1563/1563 [==============================] - 20s 12ms/step - loss: 1.0095 - accuracy: 0.6379 - val_loss: 1.3878 - val_accuracy: 0.5286\n",
      "Epoch 19/30\n",
      "1563/1563 [==============================] - 18s 12ms/step - loss: 0.9820 - accuracy: 0.6471 - val_loss: 1.4176 - val_accuracy: 0.5304\n",
      "Epoch 20/30\n",
      "1563/1563 [==============================] - 18s 12ms/step - loss: 0.9416 - accuracy: 0.6613 - val_loss: 1.4200 - val_accuracy: 0.5223\n",
      "Epoch 21/30\n",
      "1563/1563 [==============================] - 18s 12ms/step - loss: 0.9041 - accuracy: 0.6761 - val_loss: 1.4855 - val_accuracy: 0.5188\n",
      "Epoch 22/30\n",
      "1563/1563 [==============================] - 18s 12ms/step - loss: 0.8757 - accuracy: 0.6842 - val_loss: 1.4866 - val_accuracy: 0.5252\n",
      "Epoch 23/30\n",
      "1563/1563 [==============================] - 18s 12ms/step - loss: 0.8392 - accuracy: 0.6981 - val_loss: 1.4794 - val_accuracy: 0.5253\n"
     ]
    },
    {
     "data": {
      "text/plain": [
       "<tensorflow.python.keras.callbacks.History at 0x204967791c0>"
      ]
     },
     "execution_count": 128,
     "metadata": {},
     "output_type": "execute_result"
    }
   ],
   "source": [
    "model17.fit(xtrain, y_train, epochs = 30, validation_data = (xtest, y_test),\n",
    "           callbacks = [stop_early])"
   ]
  },
  {
   "cell_type": "code",
   "execution_count": 129,
   "metadata": {},
   "outputs": [],
   "source": [
    "model18 = tf.keras.Sequential([\n",
    "    tf.keras.layers.Flatten(input_shape=(64, 48)),\n",
    "    tf.keras.layers.Dense(500, activation='tanh'),\n",
    "    tf.keras.layers.Dense(400, activation='tanh'),\n",
    "    tf.keras.layers.Dense(300, activation='tanh'),\n",
    "    tf.keras.layers.Dense(300, activation='tanh'),\n",
    "    tf.keras.layers.Dense(200, activation='tanh'),\n",
    "    tf.keras.layers.Dense(200, activation='tanh'),\n",
    "    tf.keras.layers.Dense(100, activation='tanh'),\n",
    "    tf.keras.layers.Dense(100, activation='tanh'),\n",
    "    tf.keras.layers.Dense(100, activation='tanh'),\n",
    "    tf.keras.layers.Dense(50, activation='tanh'),\n",
    "    tf.keras.layers.Dense(50, activation='tanh'),\n",
    "    tf.keras.layers.Dense(50, activation='tanh'),\n",
    "    tf.keras.layers.Dense(10, activation='softmax')\n",
    "])"
   ]
  },
  {
   "cell_type": "code",
   "execution_count": 130,
   "metadata": {},
   "outputs": [],
   "source": [
    "model18.compile(optimizer=keras.optimizers.Adam(learning_rate=1e-4),\n",
    "                loss=keras.losses.SparseCategoricalCrossentropy(from_logits=True),\n",
    "                metrics=['accuracy'])"
   ]
  },
  {
   "cell_type": "code",
   "execution_count": 131,
   "metadata": {
    "scrolled": true
   },
   "outputs": [
    {
     "name": "stdout",
     "output_type": "stream",
     "text": [
      "Epoch 1/30\n",
      "1563/1563 [==============================] - 19s 11ms/step - loss: 1.8564 - accuracy: 0.3326 - val_loss: 1.7693 - val_accuracy: 0.3702\n",
      "Epoch 2/30\n",
      "1563/1563 [==============================] - 17s 11ms/step - loss: 1.6525 - accuracy: 0.4090 - val_loss: 1.6213 - val_accuracy: 0.4250\n",
      "Epoch 3/30\n",
      "1563/1563 [==============================] - 16s 11ms/step - loss: 1.5606 - accuracy: 0.4433 - val_loss: 1.5580 - val_accuracy: 0.4528\n",
      "Epoch 4/30\n",
      "1563/1563 [==============================] - 17s 11ms/step - loss: 1.4981 - accuracy: 0.4665 - val_loss: 1.4973 - val_accuracy: 0.4692\n",
      "Epoch 5/30\n",
      "1563/1563 [==============================] - 17s 11ms/step - loss: 1.4480 - accuracy: 0.4844 - val_loss: 1.5111 - val_accuracy: 0.4710\n",
      "Epoch 6/30\n",
      "1563/1563 [==============================] - 18s 11ms/step - loss: 1.4071 - accuracy: 0.4995 - val_loss: 1.4441 - val_accuracy: 0.4829\n",
      "Epoch 7/30\n",
      "1563/1563 [==============================] - 17s 11ms/step - loss: 1.3684 - accuracy: 0.5135 - val_loss: 1.4339 - val_accuracy: 0.4985\n",
      "Epoch 8/30\n",
      "1563/1563 [==============================] - 17s 11ms/step - loss: 1.3283 - accuracy: 0.5272 - val_loss: 1.4211 - val_accuracy: 0.5014\n",
      "Epoch 9/30\n",
      "1563/1563 [==============================] - 17s 11ms/step - loss: 1.2932 - accuracy: 0.5394 - val_loss: 1.3929 - val_accuracy: 0.5114\n",
      "Epoch 10/30\n",
      "1563/1563 [==============================] - 17s 11ms/step - loss: 1.2573 - accuracy: 0.5520 - val_loss: 1.3816 - val_accuracy: 0.5087\n",
      "Epoch 11/30\n",
      "1563/1563 [==============================] - 17s 11ms/step - loss: 1.2194 - accuracy: 0.5670 - val_loss: 1.3940 - val_accuracy: 0.5120\n",
      "Epoch 12/30\n",
      "1563/1563 [==============================] - 17s 11ms/step - loss: 1.1894 - accuracy: 0.5794 - val_loss: 1.3621 - val_accuracy: 0.5180\n",
      "Epoch 13/30\n",
      "1563/1563 [==============================] - 17s 11ms/step - loss: 1.1552 - accuracy: 0.5888 - val_loss: 1.3729 - val_accuracy: 0.5193\n",
      "Epoch 14/30\n",
      "1563/1563 [==============================] - 17s 11ms/step - loss: 1.1201 - accuracy: 0.6042 - val_loss: 1.3730 - val_accuracy: 0.5153\n",
      "Epoch 15/30\n",
      "1563/1563 [==============================] - 17s 11ms/step - loss: 1.0875 - accuracy: 0.6142 - val_loss: 1.3492 - val_accuracy: 0.5293\n",
      "Epoch 16/30\n",
      "1563/1563 [==============================] - 17s 11ms/step - loss: 1.0567 - accuracy: 0.6236 - val_loss: 1.3607 - val_accuracy: 0.5322\n",
      "Epoch 17/30\n",
      "1563/1563 [==============================] - 17s 11ms/step - loss: 1.0206 - accuracy: 0.6383 - val_loss: 1.3954 - val_accuracy: 0.5283\n",
      "Epoch 18/30\n",
      "1563/1563 [==============================] - 17s 11ms/step - loss: 0.9877 - accuracy: 0.6508 - val_loss: 1.3729 - val_accuracy: 0.5273\n",
      "Epoch 19/30\n",
      "1563/1563 [==============================] - 17s 11ms/step - loss: 0.9582 - accuracy: 0.6613 - val_loss: 1.3835 - val_accuracy: 0.5339\n",
      "Epoch 20/30\n",
      "1563/1563 [==============================] - 17s 11ms/step - loss: 0.9220 - accuracy: 0.6741 - val_loss: 1.4977 - val_accuracy: 0.5056\n",
      "Epoch 21/30\n",
      "1563/1563 [==============================] - 18s 11ms/step - loss: 0.8863 - accuracy: 0.6876 - val_loss: 1.4548 - val_accuracy: 0.5224\n",
      "Epoch 22/30\n",
      "1563/1563 [==============================] - 17s 11ms/step - loss: 0.8541 - accuracy: 0.6981 - val_loss: 1.4259 - val_accuracy: 0.5314\n",
      "Epoch 23/30\n",
      "1563/1563 [==============================] - 17s 11ms/step - loss: 0.8261 - accuracy: 0.7061 - val_loss: 1.4228 - val_accuracy: 0.5305\n",
      "Epoch 24/30\n",
      "1563/1563 [==============================] - 17s 11ms/step - loss: 0.7903 - accuracy: 0.7234 - val_loss: 1.4991 - val_accuracy: 0.5181\n",
      "Epoch 25/30\n",
      "1563/1563 [==============================] - 18s 12ms/step - loss: 0.7583 - accuracy: 0.7349 - val_loss: 1.4949 - val_accuracy: 0.5316\n"
     ]
    },
    {
     "data": {
      "text/plain": [
       "<tensorflow.python.keras.callbacks.History at 0x204985e1c40>"
      ]
     },
     "execution_count": 131,
     "metadata": {},
     "output_type": "execute_result"
    }
   ],
   "source": [
    "model18.fit(xtrain, y_train, epochs = 30, validation_data = (xtest, y_test),\n",
    "           callbacks = [stop_early])"
   ]
  },
  {
   "cell_type": "code",
   "execution_count": 133,
   "metadata": {},
   "outputs": [],
   "source": [
    "model19 = tf.keras.Sequential([\n",
    "    tf.keras.layers.Flatten(input_shape=(64, 48)),\n",
    "    tf.keras.layers.Dense(500, activation='tanh'),\n",
    "    tf.keras.layers.Dense(300, activation='tanh'),\n",
    "    tf.keras.layers.Dense(300, activation='tanh'),\n",
    "    tf.keras.layers.Dense(300, activation='tanh'),\n",
    "    tf.keras.layers.Dense(200, activation='tanh'),\n",
    "    tf.keras.layers.Dense(200, activation='tanh'),\n",
    "    tf.keras.layers.Dense(200, activation='tanh'),\n",
    "    tf.keras.layers.Dense(100, activation='tanh'),\n",
    "    tf.keras.layers.Dense(100, activation='tanh'),\n",
    "    tf.keras.layers.Dense(100, activation='tanh'),\n",
    "    tf.keras.layers.Dense(50, activation='tanh'),\n",
    "    tf.keras.layers.Dense(50, activation='tanh'),\n",
    "    tf.keras.layers.Dense(50, activation='tanh'),\n",
    "    tf.keras.layers.Dense(10, activation='softmax')\n",
    "])"
   ]
  },
  {
   "cell_type": "code",
   "execution_count": 134,
   "metadata": {},
   "outputs": [],
   "source": [
    "model19.compile(optimizer=keras.optimizers.Adam(learning_rate=1e-4),\n",
    "                loss=keras.losses.SparseCategoricalCrossentropy(from_logits=True),\n",
    "                metrics=['accuracy'])"
   ]
  },
  {
   "cell_type": "code",
   "execution_count": 135,
   "metadata": {
    "scrolled": true
   },
   "outputs": [
    {
     "name": "stdout",
     "output_type": "stream",
     "text": [
      "Epoch 1/40\n",
      "1563/1563 [==============================] - 19s 12ms/step - loss: 1.8707 - accuracy: 0.3282 - val_loss: 1.7242 - val_accuracy: 0.3901\n",
      "Epoch 2/40\n",
      "1563/1563 [==============================] - 16s 11ms/step - loss: 1.6679 - accuracy: 0.4048 - val_loss: 1.6029 - val_accuracy: 0.4267\n",
      "Epoch 3/40\n",
      "1563/1563 [==============================] - 16s 10ms/step - loss: 1.5730 - accuracy: 0.4399 - val_loss: 1.5530 - val_accuracy: 0.4504\n",
      "Epoch 4/40\n",
      "1563/1563 [==============================] - 16s 10ms/step - loss: 1.5092 - accuracy: 0.4621 - val_loss: 1.5357 - val_accuracy: 0.4566\n",
      "Epoch 5/40\n",
      "1563/1563 [==============================] - 17s 11ms/step - loss: 1.4633 - accuracy: 0.4815 - val_loss: 1.5299 - val_accuracy: 0.4682\n",
      "Epoch 6/40\n",
      "1563/1563 [==============================] - 17s 11ms/step - loss: 1.4242 - accuracy: 0.4943 - val_loss: 1.4416 - val_accuracy: 0.4893\n",
      "Epoch 7/40\n",
      "1563/1563 [==============================] - 16s 11ms/step - loss: 1.3838 - accuracy: 0.5076 - val_loss: 1.4302 - val_accuracy: 0.4964\n",
      "Epoch 8/40\n",
      "1563/1563 [==============================] - 16s 10ms/step - loss: 1.3497 - accuracy: 0.5199 - val_loss: 1.4364 - val_accuracy: 0.4924\n",
      "Epoch 9/40\n",
      "1563/1563 [==============================] - 16s 11ms/step - loss: 1.3163 - accuracy: 0.5315 - val_loss: 1.4151 - val_accuracy: 0.5008\n",
      "Epoch 10/40\n",
      "1563/1563 [==============================] - 17s 11ms/step - loss: 1.2807 - accuracy: 0.5439 - val_loss: 1.4041 - val_accuracy: 0.5068\n",
      "Epoch 11/40\n",
      "1563/1563 [==============================] - 16s 11ms/step - loss: 1.2460 - accuracy: 0.5584 - val_loss: 1.3928 - val_accuracy: 0.5066\n",
      "Epoch 12/40\n",
      "1563/1563 [==============================] - 17s 11ms/step - loss: 1.2121 - accuracy: 0.5690 - val_loss: 1.3758 - val_accuracy: 0.5209\n",
      "Epoch 13/40\n",
      "1563/1563 [==============================] - 16s 10ms/step - loss: 1.1830 - accuracy: 0.5809 - val_loss: 1.3569 - val_accuracy: 0.5219\n",
      "Epoch 14/40\n",
      "1563/1563 [==============================] - 17s 11ms/step - loss: 1.1489 - accuracy: 0.5934 - val_loss: 1.3905 - val_accuracy: 0.5173\n",
      "Epoch 15/40\n",
      "1563/1563 [==============================] - 16s 11ms/step - loss: 1.1178 - accuracy: 0.6033 - val_loss: 1.3666 - val_accuracy: 0.5216\n",
      "Epoch 16/40\n",
      "1563/1563 [==============================] - 17s 11ms/step - loss: 1.0885 - accuracy: 0.6151 - val_loss: 1.3656 - val_accuracy: 0.5275\n",
      "Epoch 17/40\n",
      "1563/1563 [==============================] - 17s 11ms/step - loss: 1.0538 - accuracy: 0.6259 - val_loss: 1.3775 - val_accuracy: 0.5268\n",
      "Epoch 18/40\n",
      "1563/1563 [==============================] - 17s 11ms/step - loss: 1.0285 - accuracy: 0.6361 - val_loss: 1.4223 - val_accuracy: 0.5132\n",
      "Epoch 19/40\n",
      "1563/1563 [==============================] - 17s 11ms/step - loss: 0.9991 - accuracy: 0.6469 - val_loss: 1.3615 - val_accuracy: 0.5333\n",
      "Epoch 20/40\n",
      "1563/1563 [==============================] - 17s 11ms/step - loss: 0.9664 - accuracy: 0.6580 - val_loss: 1.4206 - val_accuracy: 0.5176\n",
      "Epoch 21/40\n",
      "1563/1563 [==============================] - 16s 11ms/step - loss: 0.9331 - accuracy: 0.6721 - val_loss: 1.3930 - val_accuracy: 0.5357\n",
      "Epoch 22/40\n",
      "1563/1563 [==============================] - 17s 11ms/step - loss: 0.9027 - accuracy: 0.6807 - val_loss: 1.4265 - val_accuracy: 0.5256\n",
      "Epoch 23/40\n",
      "1563/1563 [==============================] - 17s 11ms/step - loss: 0.8791 - accuracy: 0.6907 - val_loss: 1.4112 - val_accuracy: 0.5335\n"
     ]
    },
    {
     "data": {
      "text/plain": [
       "<tensorflow.python.keras.callbacks.History at 0x2049b4c31f0>"
      ]
     },
     "execution_count": 135,
     "metadata": {},
     "output_type": "execute_result"
    }
   ],
   "source": [
    "model19.fit(xtrain, y_train, epochs = 40, validation_data = (xtest, y_test),\n",
    "           callbacks = [stop_early])"
   ]
  },
  {
   "cell_type": "code",
   "execution_count": 136,
   "metadata": {},
   "outputs": [],
   "source": [
    "model20 = tf.keras.Sequential([\n",
    "    tf.keras.layers.Flatten(input_shape=(64, 48)),\n",
    "    tf.keras.layers.Dense(500, activation='tanh'),\n",
    "    tf.keras.layers.Dense(300, activation='tanh'),\n",
    "    tf.keras.layers.Dense(300, activation='tanh'),\n",
    "    tf.keras.layers.Dense(300, activation='tanh'),\n",
    "    tf.keras.layers.Dense(300, activation='tanh'),\n",
    "    tf.keras.layers.Dense(200, activation='tanh'),\n",
    "    tf.keras.layers.Dense(200, activation='tanh'),\n",
    "    tf.keras.layers.Dense(200, activation='tanh'),\n",
    "    tf.keras.layers.Dense(200, activation='tanh'),\n",
    "    tf.keras.layers.Dense(100, activation='tanh'),\n",
    "    tf.keras.layers.Dense(100, activation='tanh'),\n",
    "    tf.keras.layers.Dense(100, activation='tanh'),\n",
    "    tf.keras.layers.Dense(100, activation='tanh'),\n",
    "    tf.keras.layers.Dense(50, activation='tanh'),\n",
    "    tf.keras.layers.Dense(50, activation='tanh'),\n",
    "    tf.keras.layers.Dense(50, activation='tanh'),\n",
    "    tf.keras.layers.Dense(10, activation='softmax')\n",
    "])"
   ]
  },
  {
   "cell_type": "code",
   "execution_count": 137,
   "metadata": {},
   "outputs": [],
   "source": [
    "model20.compile(optimizer=keras.optimizers.Adam(learning_rate=1e-4),\n",
    "                loss=keras.losses.SparseCategoricalCrossentropy(from_logits=True),\n",
    "                metrics=['accuracy'])"
   ]
  },
  {
   "cell_type": "code",
   "execution_count": 138,
   "metadata": {
    "scrolled": true
   },
   "outputs": [
    {
     "name": "stdout",
     "output_type": "stream",
     "text": [
      "Epoch 1/40\n",
      "1563/1563 [==============================] - 23s 14ms/step - loss: 1.8675 - accuracy: 0.3241 - val_loss: 1.7354 - val_accuracy: 0.3724\n",
      "Epoch 2/40\n",
      "1563/1563 [==============================] - 19s 12ms/step - loss: 1.6836 - accuracy: 0.3951 - val_loss: 1.5902 - val_accuracy: 0.4313\n",
      "Epoch 3/40\n",
      "1563/1563 [==============================] - 18s 11ms/step - loss: 1.5898 - accuracy: 0.4325 - val_loss: 1.5867 - val_accuracy: 0.4443\n",
      "Epoch 4/40\n",
      "1563/1563 [==============================] - 18s 11ms/step - loss: 1.5290 - accuracy: 0.4534 - val_loss: 1.5625 - val_accuracy: 0.4479\n",
      "Epoch 5/40\n",
      "1563/1563 [==============================] - 18s 12ms/step - loss: 1.4776 - accuracy: 0.4751 - val_loss: 1.5288 - val_accuracy: 0.4608\n",
      "Epoch 6/40\n",
      "1563/1563 [==============================] - 18s 12ms/step - loss: 1.4397 - accuracy: 0.4870 - val_loss: 1.4725 - val_accuracy: 0.4763\n",
      "Epoch 7/40\n",
      "1563/1563 [==============================] - 18s 11ms/step - loss: 1.4011 - accuracy: 0.5002 - val_loss: 1.4261 - val_accuracy: 0.4980\n",
      "Epoch 8/40\n",
      "1563/1563 [==============================] - 18s 11ms/step - loss: 1.3626 - accuracy: 0.5164 - val_loss: 1.4087 - val_accuracy: 0.5053\n",
      "Epoch 9/40\n",
      "1563/1563 [==============================] - 18s 12ms/step - loss: 1.3291 - accuracy: 0.5275 - val_loss: 1.3924 - val_accuracy: 0.5101\n",
      "Epoch 10/40\n",
      "1563/1563 [==============================] - 18s 11ms/step - loss: 1.2924 - accuracy: 0.5410 - val_loss: 1.4055 - val_accuracy: 0.5036\n",
      "Epoch 11/40\n",
      "1563/1563 [==============================] - 19s 12ms/step - loss: 1.2546 - accuracy: 0.5534 - val_loss: 1.3761 - val_accuracy: 0.5186\n",
      "Epoch 12/40\n",
      "1563/1563 [==============================] - 19s 12ms/step - loss: 1.2265 - accuracy: 0.5652 - val_loss: 1.3937 - val_accuracy: 0.5100\n",
      "Epoch 13/40\n",
      "1563/1563 [==============================] - 19s 12ms/step - loss: 1.1993 - accuracy: 0.5738 - val_loss: 1.3696 - val_accuracy: 0.5190\n",
      "Epoch 14/40\n",
      "1563/1563 [==============================] - 18s 12ms/step - loss: 1.1641 - accuracy: 0.5859 - val_loss: 1.3907 - val_accuracy: 0.5114\n",
      "Epoch 15/40\n",
      "1563/1563 [==============================] - 18s 11ms/step - loss: 1.1348 - accuracy: 0.5954 - val_loss: 1.3878 - val_accuracy: 0.5189\n",
      "Epoch 16/40\n",
      "1563/1563 [==============================] - 18s 12ms/step - loss: 1.1072 - accuracy: 0.6069 - val_loss: 1.4017 - val_accuracy: 0.5172\n",
      "Epoch 17/40\n",
      "1563/1563 [==============================] - 18s 12ms/step - loss: 1.0716 - accuracy: 0.6169 - val_loss: 1.3786 - val_accuracy: 0.5293\n",
      "Epoch 18/40\n",
      "1563/1563 [==============================] - 18s 12ms/step - loss: 1.0425 - accuracy: 0.6276 - val_loss: 1.3882 - val_accuracy: 0.5253\n",
      "Epoch 19/40\n",
      "1563/1563 [==============================] - 18s 12ms/step - loss: 1.0149 - accuracy: 0.6393 - val_loss: 1.3754 - val_accuracy: 0.5290\n",
      "Epoch 20/40\n",
      "1563/1563 [==============================] - 18s 12ms/step - loss: 0.9867 - accuracy: 0.6495 - val_loss: 1.3847 - val_accuracy: 0.5321\n",
      "Epoch 21/40\n",
      "1563/1563 [==============================] - 19s 12ms/step - loss: 0.9527 - accuracy: 0.6604 - val_loss: 1.3917 - val_accuracy: 0.5364\n",
      "Epoch 22/40\n",
      "1563/1563 [==============================] - 18s 12ms/step - loss: 0.9270 - accuracy: 0.6715 - val_loss: 1.4579 - val_accuracy: 0.5167\n",
      "Epoch 23/40\n",
      "1563/1563 [==============================] - 18s 12ms/step - loss: 0.8987 - accuracy: 0.6819 - val_loss: 1.4080 - val_accuracy: 0.5340\n"
     ]
    },
    {
     "data": {
      "text/plain": [
       "<tensorflow.python.keras.callbacks.History at 0x2049d36f340>"
      ]
     },
     "execution_count": 138,
     "metadata": {},
     "output_type": "execute_result"
    }
   ],
   "source": [
    "model20.fit(xtrain, y_train, epochs = 40, validation_data = (xtest, y_test),\n",
    "           callbacks = [stop_early])"
   ]
  },
  {
   "cell_type": "code",
   "execution_count": 139,
   "metadata": {},
   "outputs": [],
   "source": [
    "model21 = tf.keras.Sequential([\n",
    "    tf.keras.layers.Flatten(input_shape=(64, 48)),\n",
    "    tf.keras.layers.Dense(1000, activation='tanh'),\n",
    "    tf.keras.layers.Dense(800, activation='tanh'),\n",
    "    tf.keras.layers.Dense(600, activation='tanh'),\n",
    "    tf.keras.layers.Dense(500, activation='tanh'),\n",
    "    tf.keras.layers.Dense(300, activation='tanh'),\n",
    "    tf.keras.layers.Dense(300, activation='tanh'),\n",
    "    tf.keras.layers.Dense(300, activation='tanh'),\n",
    "    tf.keras.layers.Dense(200, activation='tanh'),\n",
    "    tf.keras.layers.Dense(200, activation='tanh'),\n",
    "    tf.keras.layers.Dense(200, activation='tanh'),\n",
    "    tf.keras.layers.Dense(100, activation='tanh'),\n",
    "    tf.keras.layers.Dense(100, activation='tanh'),\n",
    "    tf.keras.layers.Dense(100, activation='tanh'),\n",
    "    tf.keras.layers.Dense(50, activation='tanh'),\n",
    "    tf.keras.layers.Dense(50, activation='tanh'),\n",
    "    tf.keras.layers.Dense(50, activation='tanh'),\n",
    "    tf.keras.layers.Dense(10, activation='softmax')\n",
    "])"
   ]
  },
  {
   "cell_type": "code",
   "execution_count": 140,
   "metadata": {},
   "outputs": [],
   "source": [
    "model21.compile(optimizer=keras.optimizers.Adam(learning_rate=1e-4),\n",
    "                loss=keras.losses.SparseCategoricalCrossentropy(from_logits=True),\n",
    "                metrics=['accuracy'])"
   ]
  },
  {
   "cell_type": "code",
   "execution_count": 141,
   "metadata": {},
   "outputs": [
    {
     "name": "stdout",
     "output_type": "stream",
     "text": [
      "Epoch 1/40\n",
      "1563/1563 [==============================] - 45s 28ms/step - loss: 1.8792 - accuracy: 0.3253 - val_loss: 1.7952 - val_accuracy: 0.3428\n",
      "Epoch 2/40\n",
      "1563/1563 [==============================] - 44s 28ms/step - loss: 1.6992 - accuracy: 0.3921 - val_loss: 1.6465 - val_accuracy: 0.4118\n",
      "Epoch 3/40\n",
      "1563/1563 [==============================] - 45s 29ms/step - loss: 1.6082 - accuracy: 0.4259 - val_loss: 1.5846 - val_accuracy: 0.4419\n",
      "Epoch 4/40\n",
      "1563/1563 [==============================] - 45s 29ms/step - loss: 1.5395 - accuracy: 0.4510 - val_loss: 1.5276 - val_accuracy: 0.4587\n",
      "Epoch 5/40\n",
      "1563/1563 [==============================] - 43s 28ms/step - loss: 1.4862 - accuracy: 0.4718 - val_loss: 1.5383 - val_accuracy: 0.4586\n",
      "Epoch 6/40\n",
      "1563/1563 [==============================] - 40s 26ms/step - loss: 1.4421 - accuracy: 0.4865 - val_loss: 1.4708 - val_accuracy: 0.4797\n",
      "Epoch 7/40\n",
      "1563/1563 [==============================] - 40s 26ms/step - loss: 1.3979 - accuracy: 0.5028 - val_loss: 1.4419 - val_accuracy: 0.4946\n",
      "Epoch 8/40\n",
      "1563/1563 [==============================] - 40s 26ms/step - loss: 1.3525 - accuracy: 0.5183 - val_loss: 1.4446 - val_accuracy: 0.4945\n",
      "Epoch 9/40\n",
      "1563/1563 [==============================] - 40s 26ms/step - loss: 1.3143 - accuracy: 0.5327 - val_loss: 1.4056 - val_accuracy: 0.5047\n",
      "Epoch 10/40\n",
      "1563/1563 [==============================] - 40s 25ms/step - loss: 1.2719 - accuracy: 0.5471 - val_loss: 1.4075 - val_accuracy: 0.5050\n",
      "Epoch 11/40\n",
      "1563/1563 [==============================] - 41s 27ms/step - loss: 1.2294 - accuracy: 0.5629 - val_loss: 1.3948 - val_accuracy: 0.5081\n",
      "Epoch 12/40\n",
      "1563/1563 [==============================] - 40s 26ms/step - loss: 1.1863 - accuracy: 0.5804 - val_loss: 1.4054 - val_accuracy: 0.5071\n",
      "Epoch 13/40\n",
      "1563/1563 [==============================] - 40s 26ms/step - loss: 1.1407 - accuracy: 0.5971 - val_loss: 1.3919 - val_accuracy: 0.5194\n",
      "Epoch 14/40\n",
      "1563/1563 [==============================] - 40s 26ms/step - loss: 1.0958 - accuracy: 0.6091 - val_loss: 1.4497 - val_accuracy: 0.4929\n",
      "Epoch 15/40\n",
      "1563/1563 [==============================] - 40s 26ms/step - loss: 1.0485 - accuracy: 0.6273 - val_loss: 1.3781 - val_accuracy: 0.5206\n",
      "Epoch 16/40\n",
      "1563/1563 [==============================] - 40s 26ms/step - loss: 1.0026 - accuracy: 0.6444 - val_loss: 1.4484 - val_accuracy: 0.5120\n",
      "Epoch 17/40\n",
      "1563/1563 [==============================] - 40s 26ms/step - loss: 0.9537 - accuracy: 0.6613 - val_loss: 1.4674 - val_accuracy: 0.5104\n",
      "Epoch 18/40\n",
      "1563/1563 [==============================] - 40s 25ms/step - loss: 0.9075 - accuracy: 0.6799 - val_loss: 1.4695 - val_accuracy: 0.5169\n",
      "Epoch 19/40\n",
      "1563/1563 [==============================] - 40s 25ms/step - loss: 0.8635 - accuracy: 0.6955 - val_loss: 1.4892 - val_accuracy: 0.5147\n",
      "Epoch 20/40\n",
      "1563/1563 [==============================] - 3457s 2s/step - loss: 0.8202 - accuracy: 0.7109 - val_loss: 1.5322 - val_accuracy: 0.5143\n",
      "Epoch 21/40\n",
      "1563/1563 [==============================] - 1859s 1s/step - loss: 0.7681 - accuracy: 0.7312 - val_loss: 1.5367 - val_accuracy: 0.5184\n",
      "Epoch 22/40\n",
      "1563/1563 [==============================] - 37s 23ms/step - loss: 0.7268 - accuracy: 0.7440 - val_loss: 1.5910 - val_accuracy: 0.5033\n",
      "Epoch 23/40\n",
      "1563/1563 [==============================] - 36s 23ms/step - loss: 0.6834 - accuracy: 0.7612 - val_loss: 1.6439 - val_accuracy: 0.5146\n",
      "Epoch 24/40\n",
      "1563/1563 [==============================] - 37s 24ms/step - loss: 0.6407 - accuracy: 0.7763 - val_loss: 1.6667 - val_accuracy: 0.5063\n",
      "Epoch 25/40\n",
      "1563/1563 [==============================] - 36s 23ms/step - loss: 0.5997 - accuracy: 0.7918 - val_loss: 1.7169 - val_accuracy: 0.5126\n"
     ]
    },
    {
     "data": {
      "text/plain": [
       "<tensorflow.python.keras.callbacks.History at 0x203ada2a970>"
      ]
     },
     "execution_count": 141,
     "metadata": {},
     "output_type": "execute_result"
    }
   ],
   "source": [
    "model21.fit(xtrain, y_train, epochs = 40, validation_data = (xtest, y_test),\n",
    "           callbacks = [stop_early])"
   ]
  },
  {
   "cell_type": "code",
   "execution_count": 143,
   "metadata": {},
   "outputs": [],
   "source": [
    "model22 = tf.keras.Sequential([\n",
    "    tf.keras.layers.Flatten(input_shape=(64, 48)),\n",
    "    tf.keras.layers.Dense(500, activation='selu'),\n",
    "    tf.keras.layers.Dense(400, activation='selu'),\n",
    "    tf.keras.layers.Dense(300, activation='selu'),\n",
    "    tf.keras.layers.Dense(200, activation='selu'),\n",
    "    tf.keras.layers.Dense(200, activation='selu'),\n",
    "    tf.keras.layers.Dense(100, activation='selu'),\n",
    "    tf.keras.layers.Dense(100, activation='selu'),\n",
    "    tf.keras.layers.Dense(100, activation='selu'),\n",
    "    tf.keras.layers.Dense(50, activation='selu'),\n",
    "    tf.keras.layers.Dense(50, activation='selu'),\n",
    "    tf.keras.layers.Dense(50, activation='selu'),\n",
    "    tf.keras.layers.Dense(10, activation='softmax')\n",
    "])"
   ]
  },
  {
   "cell_type": "code",
   "execution_count": 144,
   "metadata": {},
   "outputs": [],
   "source": [
    "model22.compile(optimizer=keras.optimizers.Adam(learning_rate=1e-4),\n",
    "                loss=keras.losses.SparseCategoricalCrossentropy(from_logits=True),\n",
    "                metrics=['accuracy'])"
   ]
  },
  {
   "cell_type": "code",
   "execution_count": 145,
   "metadata": {
    "scrolled": true
   },
   "outputs": [
    {
     "name": "stdout",
     "output_type": "stream",
     "text": [
      "Epoch 1/40\n",
      "1563/1563 [==============================] - 20s 12ms/step - loss: 1.8718 - accuracy: 0.3213 - val_loss: 1.8005 - val_accuracy: 0.3440\n",
      "Epoch 2/40\n",
      "1563/1563 [==============================] - 17s 11ms/step - loss: 1.6681 - accuracy: 0.3990 - val_loss: 1.5936 - val_accuracy: 0.4295\n",
      "Epoch 3/40\n",
      "1563/1563 [==============================] - 18s 11ms/step - loss: 1.5741 - accuracy: 0.4367 - val_loss: 1.5655 - val_accuracy: 0.4430\n",
      "Epoch 4/40\n",
      "1563/1563 [==============================] - 17s 11ms/step - loss: 1.5123 - accuracy: 0.4557 - val_loss: 1.5492 - val_accuracy: 0.4521\n",
      "Epoch 5/40\n",
      "1563/1563 [==============================] - 17s 11ms/step - loss: 1.4615 - accuracy: 0.4784 - val_loss: 1.4952 - val_accuracy: 0.4621\n",
      "Epoch 6/40\n",
      "1563/1563 [==============================] - 16s 10ms/step - loss: 1.4168 - accuracy: 0.4951 - val_loss: 1.4573 - val_accuracy: 0.4825\n",
      "Epoch 7/40\n",
      "1563/1563 [==============================] - 18s 11ms/step - loss: 1.3819 - accuracy: 0.5050 - val_loss: 1.4898 - val_accuracy: 0.4787\n",
      "Epoch 8/40\n",
      "1563/1563 [==============================] - 17s 11ms/step - loss: 1.3431 - accuracy: 0.5191 - val_loss: 1.4440 - val_accuracy: 0.4886\n",
      "Epoch 9/40\n",
      "1563/1563 [==============================] - 16s 10ms/step - loss: 1.3108 - accuracy: 0.5326 - val_loss: 1.3960 - val_accuracy: 0.4993\n",
      "Epoch 10/40\n",
      "1563/1563 [==============================] - 17s 11ms/step - loss: 1.2739 - accuracy: 0.5442 - val_loss: 1.4103 - val_accuracy: 0.4964\n",
      "Epoch 11/40\n",
      "1563/1563 [==============================] - 17s 11ms/step - loss: 1.2382 - accuracy: 0.5575 - val_loss: 1.3856 - val_accuracy: 0.5141\n",
      "Epoch 12/40\n",
      "1563/1563 [==============================] - 16s 10ms/step - loss: 1.2074 - accuracy: 0.5663 - val_loss: 1.3746 - val_accuracy: 0.5163\n",
      "Epoch 13/40\n",
      "1563/1563 [==============================] - 17s 11ms/step - loss: 1.1745 - accuracy: 0.5786 - val_loss: 1.3700 - val_accuracy: 0.5161\n",
      "Epoch 14/40\n",
      "1563/1563 [==============================] - 17s 11ms/step - loss: 1.1407 - accuracy: 0.5923 - val_loss: 1.3758 - val_accuracy: 0.5131\n",
      "Epoch 15/40\n",
      "1563/1563 [==============================] - 18s 12ms/step - loss: 1.1126 - accuracy: 0.6019 - val_loss: 1.3682 - val_accuracy: 0.5228\n",
      "Epoch 16/40\n",
      "1563/1563 [==============================] - 18s 11ms/step - loss: 1.0792 - accuracy: 0.6130 - val_loss: 1.3715 - val_accuracy: 0.5224\n",
      "Epoch 17/40\n",
      "1563/1563 [==============================] - 17s 11ms/step - loss: 1.0507 - accuracy: 0.6240 - val_loss: 1.4132 - val_accuracy: 0.5197\n",
      "Epoch 18/40\n",
      "1563/1563 [==============================] - 17s 11ms/step - loss: 1.0213 - accuracy: 0.6344 - val_loss: 1.3689 - val_accuracy: 0.5242\n",
      "Epoch 19/40\n",
      "1563/1563 [==============================] - 16s 10ms/step - loss: 0.9912 - accuracy: 0.6451 - val_loss: 1.3797 - val_accuracy: 0.5298\n",
      "Epoch 20/40\n",
      "1563/1563 [==============================] - 17s 11ms/step - loss: 0.9570 - accuracy: 0.6586 - val_loss: 1.4156 - val_accuracy: 0.5200\n",
      "Epoch 21/40\n",
      "1563/1563 [==============================] - 20s 13ms/step - loss: 0.9237 - accuracy: 0.6698 - val_loss: 1.4470 - val_accuracy: 0.5169\n",
      "Epoch 22/40\n",
      "1563/1563 [==============================] - 17s 11ms/step - loss: 0.8913 - accuracy: 0.6801 - val_loss: 1.4651 - val_accuracy: 0.5235\n",
      "Epoch 23/40\n",
      "1563/1563 [==============================] - 17s 11ms/step - loss: 0.8636 - accuracy: 0.6901 - val_loss: 1.4504 - val_accuracy: 0.5294\n",
      "Epoch 24/40\n",
      "1563/1563 [==============================] - 17s 11ms/step - loss: 0.8307 - accuracy: 0.7014 - val_loss: 1.5018 - val_accuracy: 0.5200\n",
      "Epoch 25/40\n",
      "1563/1563 [==============================] - 17s 11ms/step - loss: 0.8023 - accuracy: 0.7141 - val_loss: 1.4616 - val_accuracy: 0.5359\n"
     ]
    },
    {
     "data": {
      "text/plain": [
       "<tensorflow.python.keras.callbacks.History at 0x2048c0e1280>"
      ]
     },
     "execution_count": 145,
     "metadata": {},
     "output_type": "execute_result"
    }
   ],
   "source": [
    "model22.fit(xtrain, y_train, epochs = 40, validation_data = (xtest, y_test),\n",
    "           callbacks = [stop_early])"
   ]
  },
  {
   "cell_type": "code",
   "execution_count": 149,
   "metadata": {},
   "outputs": [],
   "source": [
    "model23 = tf.keras.Sequential([\n",
    "    tf.keras.layers.Flatten(input_shape=(64, 48)),\n",
    "    tf.keras.layers.Dense(500, activation='selu'),\n",
    "    tf.keras.layers.BatchNormalization(),\n",
    "    tf.keras.layers.Dense(400, activation='selu'),\n",
    "    tf.keras.layers.BatchNormalization(),\n",
    "    tf.keras.layers.Dense(300, activation='selu'),\n",
    "    tf.keras.layers.BatchNormalization(),\n",
    "    tf.keras.layers.Dense(200, activation='selu'),\n",
    "    tf.keras.layers.BatchNormalization(),\n",
    "    tf.keras.layers.Dense(200, activation='selu'),\n",
    "    tf.keras.layers.BatchNormalization(),\n",
    "    tf.keras.layers.Dense(100, activation='selu'),\n",
    "    tf.keras.layers.BatchNormalization(),\n",
    "    tf.keras.layers.Dense(100, activation='selu'),\n",
    "    tf.keras.layers.BatchNormalization(),\n",
    "    tf.keras.layers.Dense(100, activation='selu'),\n",
    "    tf.keras.layers.BatchNormalization(),\n",
    "    tf.keras.layers.Dense(50, activation='selu'),\n",
    "    tf.keras.layers.BatchNormalization(),\n",
    "    tf.keras.layers.Dense(50, activation='selu'),\n",
    "    tf.keras.layers.BatchNormalization(),\n",
    "    tf.keras.layers.Dense(50, activation='selu'),\n",
    "    tf.keras.layers.BatchNormalization(),\n",
    "    tf.keras.layers.Dense(10, activation='softmax')\n",
    "])"
   ]
  },
  {
   "cell_type": "code",
   "execution_count": 150,
   "metadata": {},
   "outputs": [],
   "source": [
    "model23.compile(optimizer=keras.optimizers.Adam(learning_rate=1e-4),\n",
    "                loss=keras.losses.SparseCategoricalCrossentropy(from_logits=True),\n",
    "                metrics=['accuracy'])"
   ]
  },
  {
   "cell_type": "code",
   "execution_count": 151,
   "metadata": {
    "scrolled": true
   },
   "outputs": [
    {
     "name": "stdout",
     "output_type": "stream",
     "text": [
      "Epoch 1/40\n",
      "1563/1563 [==============================] - 25s 14ms/step - loss: 1.7851 - accuracy: 0.3696 - val_loss: 1.8475 - val_accuracy: 0.3491\n",
      "Epoch 2/40\n",
      "1563/1563 [==============================] - 20s 13ms/step - loss: 1.6058 - accuracy: 0.4311 - val_loss: 1.6864 - val_accuracy: 0.4046\n",
      "Epoch 3/40\n",
      "1563/1563 [==============================] - 19s 12ms/step - loss: 1.5257 - accuracy: 0.4612 - val_loss: 1.5345 - val_accuracy: 0.4606\n",
      "Epoch 4/40\n",
      "1563/1563 [==============================] - 19s 12ms/step - loss: 1.4744 - accuracy: 0.4791 - val_loss: 1.4656 - val_accuracy: 0.4860\n",
      "Epoch 5/40\n",
      "1563/1563 [==============================] - 19s 12ms/step - loss: 1.4212 - accuracy: 0.4973 - val_loss: 1.5456 - val_accuracy: 0.4524\n",
      "Epoch 6/40\n",
      "1563/1563 [==============================] - 20s 13ms/step - loss: 1.3727 - accuracy: 0.5164 - val_loss: 1.4908 - val_accuracy: 0.4733\n",
      "Epoch 7/40\n",
      "1563/1563 [==============================] - 20s 13ms/step - loss: 1.3387 - accuracy: 0.5272 - val_loss: 1.4566 - val_accuracy: 0.4920\n",
      "Epoch 8/40\n",
      "1563/1563 [==============================] - 20s 13ms/step - loss: 1.2982 - accuracy: 0.5420 - val_loss: 1.5230 - val_accuracy: 0.4616\n",
      "Epoch 9/40\n",
      "1563/1563 [==============================] - 20s 13ms/step - loss: 1.2702 - accuracy: 0.5510 - val_loss: 1.4236 - val_accuracy: 0.4922\n",
      "Epoch 10/40\n",
      "1563/1563 [==============================] - 19s 12ms/step - loss: 1.2367 - accuracy: 0.5669 - val_loss: 1.4932 - val_accuracy: 0.4789\n",
      "Epoch 11/40\n",
      "1563/1563 [==============================] - 20s 13ms/step - loss: 1.2107 - accuracy: 0.5737 - val_loss: 1.4004 - val_accuracy: 0.5049\n",
      "Epoch 12/40\n",
      "1563/1563 [==============================] - 20s 13ms/step - loss: 1.1780 - accuracy: 0.5842 - val_loss: 1.3694 - val_accuracy: 0.5160\n",
      "Epoch 13/40\n",
      "1563/1563 [==============================] - 20s 13ms/step - loss: 1.1556 - accuracy: 0.5922 - val_loss: 1.3662 - val_accuracy: 0.5169\n",
      "Epoch 14/40\n",
      "1563/1563 [==============================] - 19s 12ms/step - loss: 1.1266 - accuracy: 0.6009 - val_loss: 1.3745 - val_accuracy: 0.5196\n",
      "Epoch 15/40\n",
      "1563/1563 [==============================] - 19s 12ms/step - loss: 1.1031 - accuracy: 0.6103 - val_loss: 1.4997 - val_accuracy: 0.4941\n",
      "Epoch 16/40\n",
      "1563/1563 [==============================] - 19s 12ms/step - loss: 1.0797 - accuracy: 0.6192 - val_loss: 1.4059 - val_accuracy: 0.5202\n",
      "Epoch 17/40\n",
      "1563/1563 [==============================] - 19s 12ms/step - loss: 1.0545 - accuracy: 0.6278 - val_loss: 1.4472 - val_accuracy: 0.4977\n",
      "Epoch 18/40\n",
      "1563/1563 [==============================] - 21s 13ms/step - loss: 1.0343 - accuracy: 0.6362 - val_loss: 1.5199 - val_accuracy: 0.4822\n",
      "Epoch 19/40\n",
      "1563/1563 [==============================] - 20s 13ms/step - loss: 1.0096 - accuracy: 0.6437 - val_loss: 1.4808 - val_accuracy: 0.5032\n",
      "Epoch 20/40\n",
      "1563/1563 [==============================] - 20s 13ms/step - loss: 0.9843 - accuracy: 0.6508 - val_loss: 1.4476 - val_accuracy: 0.5093\n",
      "Epoch 21/40\n",
      "1563/1563 [==============================] - 20s 13ms/step - loss: 0.9605 - accuracy: 0.6611 - val_loss: 1.4871 - val_accuracy: 0.5083\n",
      "Epoch 22/40\n",
      "1563/1563 [==============================] - 20s 13ms/step - loss: 0.9403 - accuracy: 0.6657 - val_loss: 1.4206 - val_accuracy: 0.5179\n",
      "Epoch 23/40\n",
      "1563/1563 [==============================] - 20s 13ms/step - loss: 0.9178 - accuracy: 0.6788 - val_loss: 1.4637 - val_accuracy: 0.5181\n"
     ]
    },
    {
     "data": {
      "text/plain": [
       "<tensorflow.python.keras.callbacks.History at 0x204916d7f40>"
      ]
     },
     "execution_count": 151,
     "metadata": {},
     "output_type": "execute_result"
    }
   ],
   "source": [
    "model23.fit(xtrain, y_train, epochs = 40, validation_data = (xtest, y_test),\n",
    "           callbacks = [stop_early])"
   ]
  },
  {
   "cell_type": "code",
   "execution_count": 152,
   "metadata": {},
   "outputs": [],
   "source": [
    "model24 = tf.keras.Sequential([\n",
    "    tf.keras.layers.Flatten(input_shape=(64, 48)),\n",
    "    tf.keras.layers.Dense(500, activation='selu', kernel_regularizer = regularizers.l2(0.01)),\n",
    "    tf.keras.layers.BatchNormalization(),\n",
    "    tf.keras.layers.Dense(400, activation='selu', kernel_regularizer = regularizers.l2(0.01)),\n",
    "    tf.keras.layers.BatchNormalization(),\n",
    "    tf.keras.layers.Dense(300, activation='selu', kernel_regularizer = regularizers.l2(0.01)),\n",
    "    tf.keras.layers.BatchNormalization(),\n",
    "    tf.keras.layers.Dense(200, activation='selu', kernel_regularizer = regularizers.l2(0.01)),\n",
    "    tf.keras.layers.BatchNormalization(),\n",
    "    tf.keras.layers.Dense(200, activation='selu', kernel_regularizer = regularizers.l2(0.01)),\n",
    "    tf.keras.layers.BatchNormalization(),\n",
    "    tf.keras.layers.Dense(100, activation='selu', kernel_regularizer = regularizers.l2(0.01)),\n",
    "    tf.keras.layers.BatchNormalization(),\n",
    "    tf.keras.layers.Dense(100, activation='selu', kernel_regularizer = regularizers.l2(0.01)),\n",
    "    tf.keras.layers.BatchNormalization(),\n",
    "    tf.keras.layers.Dense(100, activation='selu', kernel_regularizer = regularizers.l2(0.01)),\n",
    "    tf.keras.layers.BatchNormalization(),\n",
    "    tf.keras.layers.Dense(50, activation='selu', kernel_regularizer = regularizers.l2(0.01)),\n",
    "    tf.keras.layers.BatchNormalization(),\n",
    "    tf.keras.layers.Dense(50, activation='selu', kernel_regularizer = regularizers.l2(0.01)),\n",
    "    tf.keras.layers.BatchNormalization(),\n",
    "    tf.keras.layers.Dense(50, activation='selu', kernel_regularizer = regularizers.l2(0.01)),\n",
    "    tf.keras.layers.BatchNormalization(),\n",
    "    tf.keras.layers.Dense(10, activation='softmax')\n",
    "])"
   ]
  },
  {
   "cell_type": "code",
   "execution_count": 154,
   "metadata": {},
   "outputs": [],
   "source": [
    "model24.compile(optimizer=keras.optimizers.Adam(learning_rate=1e-4),\n",
    "                loss=keras.losses.SparseCategoricalCrossentropy(from_logits=True),\n",
    "                metrics=['accuracy'])"
   ]
  },
  {
   "cell_type": "code",
   "execution_count": 155,
   "metadata": {},
   "outputs": [
    {
     "name": "stdout",
     "output_type": "stream",
     "text": [
      "Epoch 1/40\n",
      "1563/1563 [==============================] - 36s 19ms/step - loss: 20.0069 - accuracy: 0.3668 - val_loss: 12.9850 - val_accuracy: 0.3747\n",
      "Epoch 2/40\n",
      "1563/1563 [==============================] - 29s 18ms/step - loss: 9.1978 - accuracy: 0.4041 - val_loss: 6.9276 - val_accuracy: 0.3229\n",
      "Epoch 3/40\n",
      "1563/1563 [==============================] - 28s 18ms/step - loss: 5.3392 - accuracy: 0.4041 - val_loss: 4.4332 - val_accuracy: 0.4039\n",
      "Epoch 4/40\n",
      "1563/1563 [==============================] - 29s 19ms/step - loss: 3.8969 - accuracy: 0.3998 - val_loss: 3.6727 - val_accuracy: 0.3390\n",
      "Epoch 5/40\n",
      "1563/1563 [==============================] - 29s 18ms/step - loss: 3.2027 - accuracy: 0.4030 - val_loss: 3.0910 - val_accuracy: 0.3622\n",
      "Epoch 6/40\n",
      "1563/1563 [==============================] - 29s 18ms/step - loss: 2.8124 - accuracy: 0.4027 - val_loss: 2.6899 - val_accuracy: 0.3958\n",
      "Epoch 7/40\n",
      "1563/1563 [==============================] - 29s 19ms/step - loss: 2.5564 - accuracy: 0.4082 - val_loss: 2.6710 - val_accuracy: 0.3437\n",
      "Epoch 8/40\n",
      "1563/1563 [==============================] - 29s 18ms/step - loss: 2.3748 - accuracy: 0.4137 - val_loss: 2.4347 - val_accuracy: 0.3681\n",
      "Epoch 9/40\n",
      "1563/1563 [==============================] - 29s 19ms/step - loss: 2.2463 - accuracy: 0.4186 - val_loss: 2.3580 - val_accuracy: 0.3460\n",
      "Epoch 10/40\n",
      "1563/1563 [==============================] - 29s 19ms/step - loss: 2.1485 - accuracy: 0.4238 - val_loss: 2.1590 - val_accuracy: 0.4033\n",
      "Epoch 11/40\n",
      "1563/1563 [==============================] - 29s 18ms/step - loss: 2.0692 - accuracy: 0.4270 - val_loss: 2.2327 - val_accuracy: 0.3377\n",
      "Epoch 12/40\n",
      "1563/1563 [==============================] - 29s 18ms/step - loss: 2.0085 - accuracy: 0.4296 - val_loss: 2.1953 - val_accuracy: 0.3668\n",
      "Epoch 13/40\n",
      "1563/1563 [==============================] - 29s 18ms/step - loss: 1.9560 - accuracy: 0.4354 - val_loss: 2.1083 - val_accuracy: 0.3639\n",
      "Epoch 14/40\n",
      "1563/1563 [==============================] - 29s 18ms/step - loss: 1.9114 - accuracy: 0.4410 - val_loss: 2.0746 - val_accuracy: 0.3847\n",
      "Epoch 15/40\n",
      "1563/1563 [==============================] - 29s 18ms/step - loss: 1.8800 - accuracy: 0.4417 - val_loss: 2.1551 - val_accuracy: 0.3513\n",
      "Epoch 16/40\n",
      "1563/1563 [==============================] - 29s 18ms/step - loss: 1.8479 - accuracy: 0.4451 - val_loss: 1.9984 - val_accuracy: 0.3914\n",
      "Epoch 17/40\n",
      "1563/1563 [==============================] - 29s 18ms/step - loss: 1.8193 - accuracy: 0.4496 - val_loss: 2.1195 - val_accuracy: 0.3554\n",
      "Epoch 18/40\n",
      "1563/1563 [==============================] - 29s 18ms/step - loss: 1.7992 - accuracy: 0.4503 - val_loss: 1.9628 - val_accuracy: 0.3769\n",
      "Epoch 19/40\n",
      "1563/1563 [==============================] - 29s 18ms/step - loss: 1.7795 - accuracy: 0.4532 - val_loss: 2.0011 - val_accuracy: 0.3803\n",
      "Epoch 20/40\n",
      "1563/1563 [==============================] - 29s 18ms/step - loss: 1.7649 - accuracy: 0.4524 - val_loss: 1.8428 - val_accuracy: 0.4285\n",
      "Epoch 21/40\n",
      "1563/1563 [==============================] - 720s 461ms/step - loss: 1.7445 - accuracy: 0.4561 - val_loss: 1.8255 - val_accuracy: 0.4216\n",
      "Epoch 22/40\n",
      "1563/1563 [==============================] - 27s 18ms/step - loss: 1.7300 - accuracy: 0.4580 - val_loss: 1.9281 - val_accuracy: 0.3638\n",
      "Epoch 23/40\n",
      "1563/1563 [==============================] - 29s 19ms/step - loss: 1.7158 - accuracy: 0.4628 - val_loss: 1.7531 - val_accuracy: 0.4442\n",
      "Epoch 24/40\n",
      "1563/1563 [==============================] - 28s 18ms/step - loss: 1.7063 - accuracy: 0.4620 - val_loss: 2.0654 - val_accuracy: 0.3537\n",
      "Epoch 25/40\n",
      "1563/1563 [==============================] - 27s 17ms/step - loss: 1.6909 - accuracy: 0.4625 - val_loss: 2.0280 - val_accuracy: 0.3580\n",
      "Epoch 26/40\n",
      "1563/1563 [==============================] - 27s 17ms/step - loss: 1.6799 - accuracy: 0.4694 - val_loss: 1.8341 - val_accuracy: 0.4101\n",
      "Epoch 27/40\n",
      "1563/1563 [==============================] - 27s 17ms/step - loss: 1.6738 - accuracy: 0.4667 - val_loss: 1.8486 - val_accuracy: 0.4060\n",
      "Epoch 28/40\n",
      "1563/1563 [==============================] - 28s 18ms/step - loss: 1.6662 - accuracy: 0.4692 - val_loss: 1.8959 - val_accuracy: 0.4045\n",
      "Epoch 29/40\n",
      "1563/1563 [==============================] - 29s 18ms/step - loss: 1.6582 - accuracy: 0.4693 - val_loss: 1.7261 - val_accuracy: 0.4366\n",
      "Epoch 30/40\n",
      "1563/1563 [==============================] - 29s 19ms/step - loss: 1.6509 - accuracy: 0.4702 - val_loss: 1.9138 - val_accuracy: 0.3872\n",
      "Epoch 31/40\n",
      "1563/1563 [==============================] - 29s 19ms/step - loss: 1.6448 - accuracy: 0.4742 - val_loss: 1.8560 - val_accuracy: 0.4024\n",
      "Epoch 32/40\n",
      "1563/1563 [==============================] - 29s 18ms/step - loss: 1.6413 - accuracy: 0.4720 - val_loss: 1.8560 - val_accuracy: 0.3857\n",
      "Epoch 33/40\n",
      "1563/1563 [==============================] - 30s 19ms/step - loss: 1.6415 - accuracy: 0.4742 - val_loss: 1.8591 - val_accuracy: 0.4117\n",
      "Epoch 34/40\n",
      "1563/1563 [==============================] - 29s 19ms/step - loss: 1.6302 - accuracy: 0.4751 - val_loss: 1.6778 - val_accuracy: 0.4661\n",
      "Epoch 35/40\n",
      "1563/1563 [==============================] - 29s 19ms/step - loss: 1.6270 - accuracy: 0.4737 - val_loss: 1.7284 - val_accuracy: 0.4292\n",
      "Epoch 36/40\n",
      "1563/1563 [==============================] - 29s 18ms/step - loss: 1.6194 - accuracy: 0.4795 - val_loss: 1.6929 - val_accuracy: 0.4522\n",
      "Epoch 37/40\n",
      "1563/1563 [==============================] - 29s 18ms/step - loss: 1.6196 - accuracy: 0.4746 - val_loss: 1.7670 - val_accuracy: 0.4223\n",
      "Epoch 38/40\n",
      "1563/1563 [==============================] - 28s 18ms/step - loss: 1.6119 - accuracy: 0.4812 - val_loss: 1.7908 - val_accuracy: 0.4276\n",
      "Epoch 39/40\n",
      "1563/1563 [==============================] - 29s 18ms/step - loss: 1.6093 - accuracy: 0.4786 - val_loss: 1.6785 - val_accuracy: 0.4546\n",
      "Epoch 40/40\n",
      "1563/1563 [==============================] - 29s 18ms/step - loss: 1.5997 - accuracy: 0.4818 - val_loss: 1.7088 - val_accuracy: 0.4392\n"
     ]
    },
    {
     "data": {
      "text/plain": [
       "<tensorflow.python.keras.callbacks.History at 0x204a928b190>"
      ]
     },
     "execution_count": 155,
     "metadata": {},
     "output_type": "execute_result"
    }
   ],
   "source": [
    "model24.fit(xtrain, y_train, epochs = 40, validation_data = (xtest, y_test),\n",
    "           callbacks = [stop_early])"
   ]
  },
  {
   "cell_type": "code",
   "execution_count": 156,
   "metadata": {},
   "outputs": [
    {
     "name": "stdout",
     "output_type": "stream",
     "text": [
      "Epoch 1/40\n",
      "1563/1563 [==============================] - 30s 19ms/step - loss: 1.6037 - accuracy: 0.4803 - val_loss: 1.6729 - val_accuracy: 0.4566\n",
      "Epoch 2/40\n",
      "1563/1563 [==============================] - 29s 18ms/step - loss: 1.6009 - accuracy: 0.4831 - val_loss: 1.9277 - val_accuracy: 0.4006\n",
      "Epoch 3/40\n",
      "1563/1563 [==============================] - 29s 19ms/step - loss: 1.5966 - accuracy: 0.4854 - val_loss: 1.7293 - val_accuracy: 0.4398\n",
      "Epoch 4/40\n",
      "1563/1563 [==============================] - 29s 19ms/step - loss: 1.5975 - accuracy: 0.4863 - val_loss: 1.9390 - val_accuracy: 0.3873\n",
      "Epoch 5/40\n",
      "1563/1563 [==============================] - 29s 19ms/step - loss: 1.5911 - accuracy: 0.4841 - val_loss: 1.8792 - val_accuracy: 0.3931\n",
      "Epoch 6/40\n",
      "1563/1563 [==============================] - 29s 19ms/step - loss: 1.5886 - accuracy: 0.4861 - val_loss: 1.7890 - val_accuracy: 0.4108\n",
      "Epoch 7/40\n",
      "1563/1563 [==============================] - 29s 19ms/step - loss: 1.5889 - accuracy: 0.4836 - val_loss: 1.8350 - val_accuracy: 0.4014\n",
      "Epoch 8/40\n",
      "1563/1563 [==============================] - 29s 18ms/step - loss: 1.5848 - accuracy: 0.4853 - val_loss: 1.9310 - val_accuracy: 0.3508\n",
      "Epoch 9/40\n",
      "1563/1563 [==============================] - 29s 18ms/step - loss: 1.5873 - accuracy: 0.4848 - val_loss: 1.7924 - val_accuracy: 0.3987\n",
      "Epoch 10/40\n",
      "1563/1563 [==============================] - 29s 19ms/step - loss: 1.5841 - accuracy: 0.4890 - val_loss: 1.8730 - val_accuracy: 0.3998\n",
      "Epoch 11/40\n",
      "1563/1563 [==============================] - 29s 18ms/step - loss: 1.5840 - accuracy: 0.4883 - val_loss: 1.7746 - val_accuracy: 0.4098\n"
     ]
    },
    {
     "data": {
      "text/plain": [
       "<tensorflow.python.keras.callbacks.History at 0x204b3acb8b0>"
      ]
     },
     "execution_count": 156,
     "metadata": {},
     "output_type": "execute_result"
    }
   ],
   "source": [
    "model24.fit(xtrain, y_train, epochs = 40, validation_data = (xtest, y_test),\n",
    "           callbacks = [stop_early])"
   ]
  },
  {
   "cell_type": "code",
   "execution_count": 157,
   "metadata": {},
   "outputs": [],
   "source": [
    "model25 = tf.keras.Sequential([\n",
    "    tf.keras.layers.Flatten(input_shape=(64, 48)),\n",
    "    tf.keras.layers.Dense(500, activation='selu'),\n",
    "    tf.keras.layers.Dense(400, activation='selu'),\n",
    "    tf.keras.layers.Dense(400, activation='selu'),\n",
    "    tf.keras.layers.Dense(300, activation='selu'),\n",
    "    tf.keras.layers.Dense(300, activation='selu'),\n",
    "    tf.keras.layers.Dense(200, activation='selu'),\n",
    "    tf.keras.layers.Dense(200, activation='selu'),\n",
    "    tf.keras.layers.Dense(100, activation='selu'),\n",
    "    tf.keras.layers.Dense(100, activation='selu'),\n",
    "    tf.keras.layers.Dense(100, activation='selu'),\n",
    "    tf.keras.layers.Dense(50, activation='selu'),\n",
    "    tf.keras.layers.Dense(50, activation='selu'),\n",
    "    tf.keras.layers.Dense(50, activation='selu'),\n",
    "    tf.keras.layers.Dense(10, activation='softmax')\n",
    "])"
   ]
  },
  {
   "cell_type": "code",
   "execution_count": 158,
   "metadata": {},
   "outputs": [],
   "source": [
    "model25.compile(optimizer=keras.optimizers.Adam(learning_rate=1e-4),\n",
    "                loss=keras.losses.SparseCategoricalCrossentropy(from_logits=True),\n",
    "                metrics=['accuracy'])"
   ]
  },
  {
   "cell_type": "code",
   "execution_count": 159,
   "metadata": {
    "scrolled": true
   },
   "outputs": [
    {
     "name": "stdout",
     "output_type": "stream",
     "text": [
      "Epoch 1/40\n",
      "1563/1563 [==============================] - 20s 12ms/step - loss: 1.8751 - accuracy: 0.3208 - val_loss: 1.8013 - val_accuracy: 0.3588\n",
      "Epoch 2/40\n",
      "1563/1563 [==============================] - 18s 11ms/step - loss: 1.6784 - accuracy: 0.3966 - val_loss: 1.6212 - val_accuracy: 0.4168\n",
      "Epoch 3/40\n",
      "1563/1563 [==============================] - 17s 11ms/step - loss: 1.5873 - accuracy: 0.4307 - val_loss: 1.5760 - val_accuracy: 0.4391\n",
      "Epoch 4/40\n",
      "1563/1563 [==============================] - 19s 12ms/step - loss: 1.5198 - accuracy: 0.4518 - val_loss: 1.5374 - val_accuracy: 0.4588\n",
      "Epoch 5/40\n",
      "1563/1563 [==============================] - 18s 11ms/step - loss: 1.4700 - accuracy: 0.4745 - val_loss: 1.4953 - val_accuracy: 0.4679\n",
      "Epoch 6/40\n",
      "1563/1563 [==============================] - 18s 11ms/step - loss: 1.4264 - accuracy: 0.4897 - val_loss: 1.4751 - val_accuracy: 0.4794\n",
      "Epoch 7/40\n",
      "1563/1563 [==============================] - 17s 11ms/step - loss: 1.3869 - accuracy: 0.5026 - val_loss: 1.4411 - val_accuracy: 0.4864\n",
      "Epoch 8/40\n",
      "1563/1563 [==============================] - 17s 11ms/step - loss: 1.3459 - accuracy: 0.5191 - val_loss: 1.4633 - val_accuracy: 0.4805\n",
      "Epoch 9/40\n",
      "1563/1563 [==============================] - 17s 11ms/step - loss: 1.3118 - accuracy: 0.5307 - val_loss: 1.4307 - val_accuracy: 0.4906\n",
      "Epoch 10/40\n",
      "1563/1563 [==============================] - 20s 13ms/step - loss: 1.2702 - accuracy: 0.5469 - val_loss: 1.4189 - val_accuracy: 0.4977\n",
      "Epoch 11/40\n",
      "1563/1563 [==============================] - 20s 13ms/step - loss: 1.2321 - accuracy: 0.5612 - val_loss: 1.3817 - val_accuracy: 0.5132\n",
      "Epoch 12/40\n",
      "1563/1563 [==============================] - 20s 13ms/step - loss: 1.2025 - accuracy: 0.5708 - val_loss: 1.3758 - val_accuracy: 0.5184\n",
      "Epoch 13/40\n",
      "1563/1563 [==============================] - 18s 11ms/step - loss: 1.1642 - accuracy: 0.5852 - val_loss: 1.3465 - val_accuracy: 0.5300\n",
      "Epoch 14/40\n",
      "1563/1563 [==============================] - 18s 12ms/step - loss: 1.1284 - accuracy: 0.5962 - val_loss: 1.3810 - val_accuracy: 0.5175\n",
      "Epoch 15/40\n",
      "1563/1563 [==============================] - 17s 11ms/step - loss: 1.0950 - accuracy: 0.6102 - val_loss: 1.3823 - val_accuracy: 0.5148\n",
      "Epoch 16/40\n",
      "1563/1563 [==============================] - 17s 11ms/step - loss: 1.0540 - accuracy: 0.6237 - val_loss: 1.3905 - val_accuracy: 0.5195\n",
      "Epoch 17/40\n",
      "1563/1563 [==============================] - 20s 13ms/step - loss: 1.0161 - accuracy: 0.6366 - val_loss: 1.4159 - val_accuracy: 0.5242\n",
      "Epoch 18/40\n",
      "1563/1563 [==============================] - 19s 12ms/step - loss: 0.9843 - accuracy: 0.6488 - val_loss: 1.4149 - val_accuracy: 0.5242\n",
      "Epoch 19/40\n",
      "1563/1563 [==============================] - 19s 12ms/step - loss: 0.9510 - accuracy: 0.6597 - val_loss: 1.4182 - val_accuracy: 0.5267\n",
      "Epoch 20/40\n",
      "1563/1563 [==============================] - 19s 12ms/step - loss: 0.9051 - accuracy: 0.6757 - val_loss: 1.4277 - val_accuracy: 0.5208\n",
      "Epoch 21/40\n",
      "1563/1563 [==============================] - 21s 13ms/step - loss: 0.8652 - accuracy: 0.6888 - val_loss: 1.4264 - val_accuracy: 0.5345\n",
      "Epoch 22/40\n",
      "1563/1563 [==============================] - 20s 13ms/step - loss: 0.8295 - accuracy: 0.7042 - val_loss: 1.4758 - val_accuracy: 0.5299\n",
      "Epoch 23/40\n",
      "1563/1563 [==============================] - 19s 12ms/step - loss: 0.7961 - accuracy: 0.7140 - val_loss: 1.5010 - val_accuracy: 0.5292\n"
     ]
    },
    {
     "data": {
      "text/plain": [
       "<tensorflow.python.keras.callbacks.History at 0x204b3ba31f0>"
      ]
     },
     "execution_count": 159,
     "metadata": {},
     "output_type": "execute_result"
    }
   ],
   "source": [
    "model25.fit(xtrain, y_train, epochs = 40, validation_data = (xtest, y_test),\n",
    "           callbacks = [stop_early])"
   ]
  },
  {
   "cell_type": "code",
   "execution_count": 160,
   "metadata": {},
   "outputs": [],
   "source": [
    "model26 = tf.keras.Sequential([\n",
    "    tf.keras.layers.Flatten(input_shape=(64, 48)),\n",
    "    tf.keras.layers.Dense(500, activation='selu'),\n",
    "    #tf.keras.layers.Dense(400, activation='selu'),\n",
    "    tf.keras.layers.Dense(400, activation='selu'),\n",
    "    tf.keras.layers.Dense(300, activation='selu'),\n",
    "    tf.keras.layers.Dense(300, activation='selu'),\n",
    "    tf.keras.layers.Dense(200, activation='selu'),\n",
    "    tf.keras.layers.Dense(200, activation='selu'),\n",
    "    tf.keras.layers.Dense(200, activation='selu'),\n",
    "    tf.keras.layers.Dense(100, activation='selu'),\n",
    "    tf.keras.layers.Dense(100, activation='selu'),\n",
    "    tf.keras.layers.Dense(100, activation='selu'),\n",
    "    tf.keras.layers.Dense(100, activation='selu'),\n",
    "    tf.keras.layers.Dense(100, activation='selu'),\n",
    "    tf.keras.layers.Dense(50, activation='selu'),\n",
    "    tf.keras.layers.Dense(50, activation='selu'),\n",
    "    tf.keras.layers.Dense(50, activation='selu'),\n",
    "    tf.keras.layers.Dense(10, activation='softmax')\n",
    "])"
   ]
  },
  {
   "cell_type": "code",
   "execution_count": 161,
   "metadata": {},
   "outputs": [],
   "source": [
    "model26.compile(optimizer=keras.optimizers.Adam(learning_rate=1e-4),\n",
    "                loss=keras.losses.SparseCategoricalCrossentropy(from_logits=True),\n",
    "                metrics=['accuracy'])"
   ]
  },
  {
   "cell_type": "code",
   "execution_count": 162,
   "metadata": {},
   "outputs": [
    {
     "name": "stdout",
     "output_type": "stream",
     "text": [
      "Epoch 1/40\n",
      "1563/1563 [==============================] - 20s 12ms/step - loss: 1.9059 - accuracy: 0.3081 - val_loss: 1.7998 - val_accuracy: 0.3511\n",
      "Epoch 2/40\n",
      "1563/1563 [==============================] - 18s 12ms/step - loss: 1.6973 - accuracy: 0.3891 - val_loss: 1.6632 - val_accuracy: 0.4042\n",
      "Epoch 3/40\n",
      "1563/1563 [==============================] - 17s 11ms/step - loss: 1.6062 - accuracy: 0.4224 - val_loss: 1.5500 - val_accuracy: 0.4505\n",
      "Epoch 4/40\n",
      "1563/1563 [==============================] - 19s 12ms/step - loss: 1.5469 - accuracy: 0.4464 - val_loss: 1.5444 - val_accuracy: 0.4521\n",
      "Epoch 5/40\n",
      "1563/1563 [==============================] - 18s 12ms/step - loss: 1.4927 - accuracy: 0.4671 - val_loss: 1.5502 - val_accuracy: 0.4516\n",
      "Epoch 6/40\n",
      "1563/1563 [==============================] - 18s 12ms/step - loss: 1.4470 - accuracy: 0.4827 - val_loss: 1.4900 - val_accuracy: 0.4733\n",
      "Epoch 7/40\n",
      "1563/1563 [==============================] - 18s 12ms/step - loss: 1.4105 - accuracy: 0.4946 - val_loss: 1.4683 - val_accuracy: 0.4837\n",
      "Epoch 8/40\n",
      "1563/1563 [==============================] - 18s 11ms/step - loss: 1.3738 - accuracy: 0.5083 - val_loss: 1.4905 - val_accuracy: 0.4699\n",
      "Epoch 9/40\n",
      "1563/1563 [==============================] - 17s 11ms/step - loss: 1.3404 - accuracy: 0.5211 - val_loss: 1.4035 - val_accuracy: 0.4979\n",
      "Epoch 10/40\n",
      "1563/1563 [==============================] - 17s 11ms/step - loss: 1.3014 - accuracy: 0.5356 - val_loss: 1.3924 - val_accuracy: 0.5039\n",
      "Epoch 11/40\n",
      "1563/1563 [==============================] - 17s 11ms/step - loss: 1.2617 - accuracy: 0.5482 - val_loss: 1.4074 - val_accuracy: 0.5033\n",
      "Epoch 12/40\n",
      "1546/1563 [============================>.] - ETA: 0s - loss: 1.2316 - accuracy: 0.5602"
     ]
    },
    {
     "ename": "KeyboardInterrupt",
     "evalue": "",
     "output_type": "error",
     "traceback": [
      "\u001b[1;31m---------------------------------------------------------------------------\u001b[0m",
      "\u001b[1;31mKeyboardInterrupt\u001b[0m                         Traceback (most recent call last)",
      "\u001b[1;32m<ipython-input-162-3c93e8060b27>\u001b[0m in \u001b[0;36m<module>\u001b[1;34m\u001b[0m\n\u001b[1;32m----> 1\u001b[1;33m model26.fit(xtrain, y_train, epochs = 40, validation_data = (xtest, y_test),\n\u001b[0m\u001b[0;32m      2\u001b[0m            callbacks = [stop_early])\n",
      "\u001b[1;32m~\\anaconda3\\lib\\site-packages\\tensorflow\\python\\keras\\engine\\training.py\u001b[0m in \u001b[0;36mfit\u001b[1;34m(self, x, y, batch_size, epochs, verbose, callbacks, validation_split, validation_data, shuffle, class_weight, sample_weight, initial_epoch, steps_per_epoch, validation_steps, validation_batch_size, validation_freq, max_queue_size, workers, use_multiprocessing)\u001b[0m\n\u001b[0;32m   1181\u001b[0m                 _r=1):\n\u001b[0;32m   1182\u001b[0m               \u001b[0mcallbacks\u001b[0m\u001b[1;33m.\u001b[0m\u001b[0mon_train_batch_begin\u001b[0m\u001b[1;33m(\u001b[0m\u001b[0mstep\u001b[0m\u001b[1;33m)\u001b[0m\u001b[1;33m\u001b[0m\u001b[1;33m\u001b[0m\u001b[0m\n\u001b[1;32m-> 1183\u001b[1;33m               \u001b[0mtmp_logs\u001b[0m \u001b[1;33m=\u001b[0m \u001b[0mself\u001b[0m\u001b[1;33m.\u001b[0m\u001b[0mtrain_function\u001b[0m\u001b[1;33m(\u001b[0m\u001b[0miterator\u001b[0m\u001b[1;33m)\u001b[0m\u001b[1;33m\u001b[0m\u001b[1;33m\u001b[0m\u001b[0m\n\u001b[0m\u001b[0;32m   1184\u001b[0m               \u001b[1;32mif\u001b[0m \u001b[0mdata_handler\u001b[0m\u001b[1;33m.\u001b[0m\u001b[0mshould_sync\u001b[0m\u001b[1;33m:\u001b[0m\u001b[1;33m\u001b[0m\u001b[1;33m\u001b[0m\u001b[0m\n\u001b[0;32m   1185\u001b[0m                 \u001b[0mcontext\u001b[0m\u001b[1;33m.\u001b[0m\u001b[0masync_wait\u001b[0m\u001b[1;33m(\u001b[0m\u001b[1;33m)\u001b[0m\u001b[1;33m\u001b[0m\u001b[1;33m\u001b[0m\u001b[0m\n",
      "\u001b[1;32m~\\anaconda3\\lib\\site-packages\\tensorflow\\python\\eager\\def_function.py\u001b[0m in \u001b[0;36m__call__\u001b[1;34m(self, *args, **kwds)\u001b[0m\n\u001b[0;32m    887\u001b[0m \u001b[1;33m\u001b[0m\u001b[0m\n\u001b[0;32m    888\u001b[0m       \u001b[1;32mwith\u001b[0m \u001b[0mOptionalXlaContext\u001b[0m\u001b[1;33m(\u001b[0m\u001b[0mself\u001b[0m\u001b[1;33m.\u001b[0m\u001b[0m_jit_compile\u001b[0m\u001b[1;33m)\u001b[0m\u001b[1;33m:\u001b[0m\u001b[1;33m\u001b[0m\u001b[1;33m\u001b[0m\u001b[0m\n\u001b[1;32m--> 889\u001b[1;33m         \u001b[0mresult\u001b[0m \u001b[1;33m=\u001b[0m \u001b[0mself\u001b[0m\u001b[1;33m.\u001b[0m\u001b[0m_call\u001b[0m\u001b[1;33m(\u001b[0m\u001b[1;33m*\u001b[0m\u001b[0margs\u001b[0m\u001b[1;33m,\u001b[0m \u001b[1;33m**\u001b[0m\u001b[0mkwds\u001b[0m\u001b[1;33m)\u001b[0m\u001b[1;33m\u001b[0m\u001b[1;33m\u001b[0m\u001b[0m\n\u001b[0m\u001b[0;32m    890\u001b[0m \u001b[1;33m\u001b[0m\u001b[0m\n\u001b[0;32m    891\u001b[0m       \u001b[0mnew_tracing_count\u001b[0m \u001b[1;33m=\u001b[0m \u001b[0mself\u001b[0m\u001b[1;33m.\u001b[0m\u001b[0mexperimental_get_tracing_count\u001b[0m\u001b[1;33m(\u001b[0m\u001b[1;33m)\u001b[0m\u001b[1;33m\u001b[0m\u001b[1;33m\u001b[0m\u001b[0m\n",
      "\u001b[1;32m~\\anaconda3\\lib\\site-packages\\tensorflow\\python\\eager\\def_function.py\u001b[0m in \u001b[0;36m_call\u001b[1;34m(self, *args, **kwds)\u001b[0m\n\u001b[0;32m    915\u001b[0m       \u001b[1;31m# In this case we have created variables on the first call, so we run the\u001b[0m\u001b[1;33m\u001b[0m\u001b[1;33m\u001b[0m\u001b[1;33m\u001b[0m\u001b[0m\n\u001b[0;32m    916\u001b[0m       \u001b[1;31m# defunned version which is guaranteed to never create variables.\u001b[0m\u001b[1;33m\u001b[0m\u001b[1;33m\u001b[0m\u001b[1;33m\u001b[0m\u001b[0m\n\u001b[1;32m--> 917\u001b[1;33m       \u001b[1;32mreturn\u001b[0m \u001b[0mself\u001b[0m\u001b[1;33m.\u001b[0m\u001b[0m_stateless_fn\u001b[0m\u001b[1;33m(\u001b[0m\u001b[1;33m*\u001b[0m\u001b[0margs\u001b[0m\u001b[1;33m,\u001b[0m \u001b[1;33m**\u001b[0m\u001b[0mkwds\u001b[0m\u001b[1;33m)\u001b[0m  \u001b[1;31m# pylint: disable=not-callable\u001b[0m\u001b[1;33m\u001b[0m\u001b[1;33m\u001b[0m\u001b[0m\n\u001b[0m\u001b[0;32m    918\u001b[0m     \u001b[1;32melif\u001b[0m \u001b[0mself\u001b[0m\u001b[1;33m.\u001b[0m\u001b[0m_stateful_fn\u001b[0m \u001b[1;32mis\u001b[0m \u001b[1;32mnot\u001b[0m \u001b[1;32mNone\u001b[0m\u001b[1;33m:\u001b[0m\u001b[1;33m\u001b[0m\u001b[1;33m\u001b[0m\u001b[0m\n\u001b[0;32m    919\u001b[0m       \u001b[1;31m# Release the lock early so that multiple threads can perform the call\u001b[0m\u001b[1;33m\u001b[0m\u001b[1;33m\u001b[0m\u001b[1;33m\u001b[0m\u001b[0m\n",
      "\u001b[1;32m~\\anaconda3\\lib\\site-packages\\tensorflow\\python\\eager\\function.py\u001b[0m in \u001b[0;36m__call__\u001b[1;34m(self, *args, **kwargs)\u001b[0m\n\u001b[0;32m   3021\u001b[0m       (graph_function,\n\u001b[0;32m   3022\u001b[0m        filtered_flat_args) = self._maybe_define_function(args, kwargs)\n\u001b[1;32m-> 3023\u001b[1;33m     return graph_function._call_flat(\n\u001b[0m\u001b[0;32m   3024\u001b[0m         filtered_flat_args, captured_inputs=graph_function.captured_inputs)  # pylint: disable=protected-access\n\u001b[0;32m   3025\u001b[0m \u001b[1;33m\u001b[0m\u001b[0m\n",
      "\u001b[1;32m~\\anaconda3\\lib\\site-packages\\tensorflow\\python\\eager\\function.py\u001b[0m in \u001b[0;36m_call_flat\u001b[1;34m(self, args, captured_inputs, cancellation_manager)\u001b[0m\n\u001b[0;32m   1958\u001b[0m         and executing_eagerly):\n\u001b[0;32m   1959\u001b[0m       \u001b[1;31m# No tape is watching; skip to running the function.\u001b[0m\u001b[1;33m\u001b[0m\u001b[1;33m\u001b[0m\u001b[1;33m\u001b[0m\u001b[0m\n\u001b[1;32m-> 1960\u001b[1;33m       return self._build_call_outputs(self._inference_function.call(\n\u001b[0m\u001b[0;32m   1961\u001b[0m           ctx, args, cancellation_manager=cancellation_manager))\n\u001b[0;32m   1962\u001b[0m     forward_backward = self._select_forward_and_backward_functions(\n",
      "\u001b[1;32m~\\anaconda3\\lib\\site-packages\\tensorflow\\python\\eager\\function.py\u001b[0m in \u001b[0;36mcall\u001b[1;34m(self, ctx, args, cancellation_manager)\u001b[0m\n\u001b[0;32m    589\u001b[0m       \u001b[1;32mwith\u001b[0m \u001b[0m_InterpolateFunctionError\u001b[0m\u001b[1;33m(\u001b[0m\u001b[0mself\u001b[0m\u001b[1;33m)\u001b[0m\u001b[1;33m:\u001b[0m\u001b[1;33m\u001b[0m\u001b[1;33m\u001b[0m\u001b[0m\n\u001b[0;32m    590\u001b[0m         \u001b[1;32mif\u001b[0m \u001b[0mcancellation_manager\u001b[0m \u001b[1;32mis\u001b[0m \u001b[1;32mNone\u001b[0m\u001b[1;33m:\u001b[0m\u001b[1;33m\u001b[0m\u001b[1;33m\u001b[0m\u001b[0m\n\u001b[1;32m--> 591\u001b[1;33m           outputs = execute.execute(\n\u001b[0m\u001b[0;32m    592\u001b[0m               \u001b[0mstr\u001b[0m\u001b[1;33m(\u001b[0m\u001b[0mself\u001b[0m\u001b[1;33m.\u001b[0m\u001b[0msignature\u001b[0m\u001b[1;33m.\u001b[0m\u001b[0mname\u001b[0m\u001b[1;33m)\u001b[0m\u001b[1;33m,\u001b[0m\u001b[1;33m\u001b[0m\u001b[1;33m\u001b[0m\u001b[0m\n\u001b[0;32m    593\u001b[0m               \u001b[0mnum_outputs\u001b[0m\u001b[1;33m=\u001b[0m\u001b[0mself\u001b[0m\u001b[1;33m.\u001b[0m\u001b[0m_num_outputs\u001b[0m\u001b[1;33m,\u001b[0m\u001b[1;33m\u001b[0m\u001b[1;33m\u001b[0m\u001b[0m\n",
      "\u001b[1;32m~\\anaconda3\\lib\\site-packages\\tensorflow\\python\\eager\\execute.py\u001b[0m in \u001b[0;36mquick_execute\u001b[1;34m(op_name, num_outputs, inputs, attrs, ctx, name)\u001b[0m\n\u001b[0;32m     57\u001b[0m   \u001b[1;32mtry\u001b[0m\u001b[1;33m:\u001b[0m\u001b[1;33m\u001b[0m\u001b[1;33m\u001b[0m\u001b[0m\n\u001b[0;32m     58\u001b[0m     \u001b[0mctx\u001b[0m\u001b[1;33m.\u001b[0m\u001b[0mensure_initialized\u001b[0m\u001b[1;33m(\u001b[0m\u001b[1;33m)\u001b[0m\u001b[1;33m\u001b[0m\u001b[1;33m\u001b[0m\u001b[0m\n\u001b[1;32m---> 59\u001b[1;33m     tensors = pywrap_tfe.TFE_Py_Execute(ctx._handle, device_name, op_name,\n\u001b[0m\u001b[0;32m     60\u001b[0m                                         inputs, attrs, num_outputs)\n\u001b[0;32m     61\u001b[0m   \u001b[1;32mexcept\u001b[0m \u001b[0mcore\u001b[0m\u001b[1;33m.\u001b[0m\u001b[0m_NotOkStatusException\u001b[0m \u001b[1;32mas\u001b[0m \u001b[0me\u001b[0m\u001b[1;33m:\u001b[0m\u001b[1;33m\u001b[0m\u001b[1;33m\u001b[0m\u001b[0m\n",
      "\u001b[1;31mKeyboardInterrupt\u001b[0m: "
     ]
    }
   ],
   "source": [
    "model26.fit(xtrain, y_train, epochs = 40, validation_data = (xtest, y_test),\n",
    "           callbacks = [stop_early])"
   ]
  },
  {
   "cell_type": "code",
   "execution_count": null,
   "metadata": {},
   "outputs": [],
   "source": []
  }
 ],
 "metadata": {
  "kernelspec": {
   "display_name": "Python 3",
   "language": "python",
   "name": "python3"
  },
  "language_info": {
   "codemirror_mode": {
    "name": "ipython",
    "version": 3
   },
   "file_extension": ".py",
   "mimetype": "text/x-python",
   "name": "python",
   "nbconvert_exporter": "python",
   "pygments_lexer": "ipython3",
   "version": "3.8.5"
  }
 },
 "nbformat": 4,
 "nbformat_minor": 4
}
