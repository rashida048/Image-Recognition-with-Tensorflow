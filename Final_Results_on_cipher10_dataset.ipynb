{
 "cells": [
  {
   "cell_type": "code",
   "execution_count": 1,
   "metadata": {},
   "outputs": [],
   "source": [
    "import tensorflow as tf\n",
    "from tensorflow import keras"
   ]
  },
  {
   "cell_type": "code",
   "execution_count": 2,
   "metadata": {},
   "outputs": [],
   "source": [
    "from tensorflow.keras.datasets import cifar10"
   ]
  },
  {
   "cell_type": "code",
   "execution_count": 3,
   "metadata": {},
   "outputs": [],
   "source": [
    "(x_train, y_train), (x_test, y_test) = cifar10.load_data()"
   ]
  },
  {
   "cell_type": "code",
   "execution_count": 4,
   "metadata": {},
   "outputs": [
    {
     "data": {
      "text/plain": [
       "(50000, 32, 32, 3)"
      ]
     },
     "execution_count": 4,
     "metadata": {},
     "output_type": "execute_result"
    }
   ],
   "source": [
    "x_train.shape"
   ]
  },
  {
   "cell_type": "code",
   "execution_count": 5,
   "metadata": {},
   "outputs": [
    {
     "data": {
      "text/plain": [
       "array([[ 59,  62,  63, ..., 123,  92,  72],\n",
       "       [154, 177, 187, ..., 143, 133, 144],\n",
       "       [255, 255, 255, ...,  80,  86,  84],\n",
       "       ...,\n",
       "       [ 35, 178, 235, ...,  12,  31,  50],\n",
       "       [189, 211, 240, ..., 195, 190, 171],\n",
       "       [229, 229, 239, ..., 163, 163, 161]], dtype=uint8)"
      ]
     },
     "execution_count": 5,
     "metadata": {},
     "output_type": "execute_result"
    }
   ],
   "source": [
    "x_train1 = x_train.reshape(x_train.shape[0], x_train.shape[1]*x_train.shape[2]*x_train.shape[3])\n",
    "x_train1"
   ]
  },
  {
   "cell_type": "code",
   "execution_count": 23,
   "metadata": {},
   "outputs": [],
   "source": [
    "x_test1 = x_test.reshape(x_test.shape[0], x_test.shape[1]*x_test.shape[2]*x_test.shape[3])"
   ]
  },
  {
   "cell_type": "code",
   "execution_count": 24,
   "metadata": {},
   "outputs": [],
   "source": [
    "y_train1 = y_train.reshape(50000, )"
   ]
  },
  {
   "cell_type": "code",
   "execution_count": 25,
   "metadata": {},
   "outputs": [],
   "source": [
    "y_test1 = y_test.reshape(10000, )"
   ]
  },
  {
   "cell_type": "code",
   "execution_count": 26,
   "metadata": {},
   "outputs": [
    {
     "data": {
      "text/plain": [
       "(10000, 3072)"
      ]
     },
     "execution_count": 26,
     "metadata": {},
     "output_type": "execute_result"
    }
   ],
   "source": [
    "x_test1.shape"
   ]
  },
  {
   "cell_type": "code",
   "execution_count": 30,
   "metadata": {},
   "outputs": [],
   "source": [
    "x_train1 = x_train.reshape(50000, 64, -1)"
   ]
  },
  {
   "cell_type": "code",
   "execution_count": 31,
   "metadata": {},
   "outputs": [
    {
     "data": {
      "text/plain": [
       "(50000, 64, 48)"
      ]
     },
     "execution_count": 31,
     "metadata": {},
     "output_type": "execute_result"
    }
   ],
   "source": [
    "x_train1.shape"
   ]
  },
  {
   "cell_type": "code",
   "execution_count": 32,
   "metadata": {},
   "outputs": [],
   "source": [
    "x_test1 = x_test.reshape(10000, 64, -1)"
   ]
  },
  {
   "cell_type": "code",
   "execution_count": 34,
   "metadata": {},
   "outputs": [
    {
     "data": {
      "text/plain": [
       "(10000, 64, 48)"
      ]
     },
     "execution_count": 34,
     "metadata": {},
     "output_type": "execute_result"
    }
   ],
   "source": [
    "x_test1.shape"
   ]
  },
  {
   "cell_type": "code",
   "execution_count": 43,
   "metadata": {},
   "outputs": [],
   "source": [
    "model = keras.models.Sequential([\n",
    "    keras.layers.Flatten(input_shape=(64, 48)),\n",
    "    keras.layers.Dense(300, activation=\"relu\"),\n",
    "    keras.layers.Dense(100, activation=\"relu\"),\n",
    "    keras.layers.Dense(50, activation=\"relu\"),\n",
    "    keras.layers.Dense(50, activation=\"relu\"),\n",
    "    keras.layers.Dense(50, activation=\"relu\"),\n",
    "    keras.layers.Dense(10, activation=\"softmax\")\n",
    "])"
   ]
  },
  {
   "cell_type": "code",
   "execution_count": 44,
   "metadata": {},
   "outputs": [],
   "source": [
    "model.compile(optimizer='adam',\n",
    "             loss = tf.keras.losses.SparseCategoricalCrossentropy(from_logits=True),\n",
    "             metrics=['accuracy'])"
   ]
  },
  {
   "cell_type": "code",
   "execution_count": 45,
   "metadata": {
    "scrolled": true
   },
   "outputs": [
    {
     "name": "stdout",
     "output_type": "stream",
     "text": [
      "Epoch 1/15\n",
      "1563/1563 [==============================] - 6s 4ms/step - loss: 4.5943 - accuracy: 0.2157 - val_loss: 1.9675 - val_accuracy: 0.2912\n",
      "Epoch 2/15\n",
      "1563/1563 [==============================] - 5s 3ms/step - loss: 1.9681 - accuracy: 0.2891 - val_loss: 1.9113 - val_accuracy: 0.3015\n",
      "Epoch 3/15\n",
      "1563/1563 [==============================] - 5s 4ms/step - loss: 1.8735 - accuracy: 0.3300 - val_loss: 1.8157 - val_accuracy: 0.3474\n",
      "Epoch 4/15\n",
      "1563/1563 [==============================] - 6s 4ms/step - loss: 1.8139 - accuracy: 0.3456 - val_loss: 1.8050 - val_accuracy: 0.3470\n",
      "Epoch 5/15\n",
      "1563/1563 [==============================] - 5s 4ms/step - loss: 1.7780 - accuracy: 0.3585 - val_loss: 1.7975 - val_accuracy: 0.3512\n",
      "Epoch 6/15\n",
      "1563/1563 [==============================] - 5s 3ms/step - loss: 1.7360 - accuracy: 0.3757 - val_loss: 1.6966 - val_accuracy: 0.3926\n",
      "Epoch 7/15\n",
      "1563/1563 [==============================] - 6s 4ms/step - loss: 1.7155 - accuracy: 0.3810 - val_loss: 1.6595 - val_accuracy: 0.4017\n",
      "Epoch 8/15\n",
      "1563/1563 [==============================] - 6s 4ms/step - loss: 1.6772 - accuracy: 0.3973 - val_loss: 1.6427 - val_accuracy: 0.4073\n",
      "Epoch 9/15\n",
      "1563/1563 [==============================] - 6s 4ms/step - loss: 1.6480 - accuracy: 0.4094 - val_loss: 1.6153 - val_accuracy: 0.4231\n",
      "Epoch 10/15\n",
      "1563/1563 [==============================] - 5s 4ms/step - loss: 1.6175 - accuracy: 0.4200 - val_loss: 1.5903 - val_accuracy: 0.4316\n",
      "Epoch 11/15\n",
      "1563/1563 [==============================] - 6s 4ms/step - loss: 1.6094 - accuracy: 0.4231 - val_loss: 1.6245 - val_accuracy: 0.4175\n",
      "Epoch 12/15\n",
      "1563/1563 [==============================] - 6s 4ms/step - loss: 1.5828 - accuracy: 0.4318 - val_loss: 1.6145 - val_accuracy: 0.4166\n",
      "Epoch 13/15\n",
      "1563/1563 [==============================] - 5s 3ms/step - loss: 1.5754 - accuracy: 0.4347 - val_loss: 1.5681 - val_accuracy: 0.4370\n",
      "Epoch 14/15\n",
      "1563/1563 [==============================] - 6s 4ms/step - loss: 1.5487 - accuracy: 0.4432 - val_loss: 1.5706 - val_accuracy: 0.4358\n",
      "Epoch 15/15\n",
      "1563/1563 [==============================] - 6s 4ms/step - loss: 1.5434 - accuracy: 0.4489 - val_loss: 1.5703 - val_accuracy: 0.4363\n"
     ]
    },
    {
     "data": {
      "text/plain": [
       "<tensorflow.python.keras.callbacks.History at 0x2623de36e20>"
      ]
     },
     "execution_count": 45,
     "metadata": {},
     "output_type": "execute_result"
    }
   ],
   "source": [
    "model.fit(x_train1, y_train1, epochs = 15, validation_data = (x_test1, y_test1))"
   ]
  },
  {
   "cell_type": "code",
   "execution_count": 46,
   "metadata": {
    "scrolled": true
   },
   "outputs": [
    {
     "name": "stdout",
     "output_type": "stream",
     "text": [
      "Epoch 1/15\n",
      "1563/1563 [==============================] - 6s 4ms/step - loss: 1.5292 - accuracy: 0.4524 - val_loss: 1.5611 - val_accuracy: 0.4401\n",
      "Epoch 2/15\n",
      "1563/1563 [==============================] - 6s 4ms/step - loss: 1.5201 - accuracy: 0.4562 - val_loss: 1.5490 - val_accuracy: 0.4510\n",
      "Epoch 3/15\n",
      "1563/1563 [==============================] - 6s 4ms/step - loss: 1.5081 - accuracy: 0.4585 - val_loss: 1.5338 - val_accuracy: 0.4483\n",
      "Epoch 4/15\n",
      "1563/1563 [==============================] - 6s 4ms/step - loss: 1.4959 - accuracy: 0.4654 - val_loss: 1.5468 - val_accuracy: 0.4498\n",
      "Epoch 5/15\n",
      "1563/1563 [==============================] - 6s 4ms/step - loss: 1.4969 - accuracy: 0.4631 - val_loss: 1.5783 - val_accuracy: 0.4481\n",
      "Epoch 6/15\n",
      "1563/1563 [==============================] - 6s 4ms/step - loss: 1.4832 - accuracy: 0.4691 - val_loss: 1.6023 - val_accuracy: 0.4266\n",
      "Epoch 7/15\n",
      "1563/1563 [==============================] - 6s 4ms/step - loss: 1.4733 - accuracy: 0.4720 - val_loss: 1.5378 - val_accuracy: 0.4441\n",
      "Epoch 8/15\n",
      "1563/1563 [==============================] - 6s 4ms/step - loss: 1.4707 - accuracy: 0.4720 - val_loss: 1.5347 - val_accuracy: 0.4506\n",
      "Epoch 9/15\n",
      "1563/1563 [==============================] - 6s 4ms/step - loss: 1.4651 - accuracy: 0.4763 - val_loss: 1.5561 - val_accuracy: 0.4516\n",
      "Epoch 10/15\n",
      "1563/1563 [==============================] - 6s 4ms/step - loss: 1.4556 - accuracy: 0.4785 - val_loss: 1.5393 - val_accuracy: 0.4525\n",
      "Epoch 11/15\n",
      "1563/1563 [==============================] - 6s 4ms/step - loss: 1.4475 - accuracy: 0.4824 - val_loss: 1.5166 - val_accuracy: 0.4583\n",
      "Epoch 12/15\n",
      "1563/1563 [==============================] - 6s 4ms/step - loss: 1.4458 - accuracy: 0.4838 - val_loss: 1.5608 - val_accuracy: 0.4476\n",
      "Epoch 13/15\n",
      "1563/1563 [==============================] - 6s 4ms/step - loss: 1.4395 - accuracy: 0.4850 - val_loss: 1.5989 - val_accuracy: 0.4489\n",
      "Epoch 14/15\n",
      "1563/1563 [==============================] - 6s 4ms/step - loss: 1.4410 - accuracy: 0.4840 - val_loss: 1.5364 - val_accuracy: 0.4528\n",
      "Epoch 15/15\n",
      "1563/1563 [==============================] - 6s 4ms/step - loss: 1.4316 - accuracy: 0.4892 - val_loss: 1.4823 - val_accuracy: 0.4743\n"
     ]
    },
    {
     "data": {
      "text/plain": [
       "<tensorflow.python.keras.callbacks.History at 0x262367f7f70>"
      ]
     },
     "execution_count": 46,
     "metadata": {},
     "output_type": "execute_result"
    }
   ],
   "source": [
    "model.fit(x_train1, y_train1, epochs = 15, validation_data = (x_test1, y_test1))"
   ]
  },
  {
   "cell_type": "code",
   "execution_count": 53,
   "metadata": {},
   "outputs": [],
   "source": [
    "model1 = tf.keras.Sequential([\n",
    "    tf.keras.layers.Flatten(input_shape=(64, 48)),\n",
    "    tf.keras.layers.Dense(500, activation='selu'),\n",
    "    #tf.keras.layers.Dense(400, activation='selu'),\n",
    "    tf.keras.layers.Dense(400, activation='selu'),\n",
    "    tf.keras.layers.Dense(300, activation='selu'),\n",
    "    tf.keras.layers.Dense(300, activation='selu'),\n",
    "    tf.keras.layers.Dense(200, activation='selu'),\n",
    "    tf.keras.layers.Dense(200, activation='selu'),\n",
    "    tf.keras.layers.Dense(200, activation='selu'),\n",
    "    tf.keras.layers.Dense(100, activation='selu'),\n",
    "    tf.keras.layers.Dense(100, activation='selu'),\n",
    "    tf.keras.layers.Dense(100, activation='selu'),\n",
    "    tf.keras.layers.Dense(100, activation='selu'),\n",
    "    tf.keras.layers.Dense(100, activation='selu'),\n",
    "    tf.keras.layers.Dense(50, activation='selu'),\n",
    "    tf.keras.layers.Dense(50, activation='selu'),\n",
    "    tf.keras.layers.Dense(50, activation='selu'),\n",
    "    tf.keras.layers.Dense(50, activation='selu'),\n",
    "    tf.keras.layers.Dense(30, activation='selu'),\n",
    "    tf.keras.layers.Dense(10, activation='softmax')\n",
    "])"
   ]
  },
  {
   "cell_type": "code",
   "execution_count": 54,
   "metadata": {},
   "outputs": [],
   "source": [
    "stop_early = tf.keras.callbacks.EarlyStopping(monitor='val_loss', patience=10)"
   ]
  },
  {
   "cell_type": "code",
   "execution_count": 55,
   "metadata": {},
   "outputs": [],
   "source": [
    "model1.compile(optimizer=keras.optimizers.Adam(learning_rate=1e-3),\n",
    "                loss=keras.losses.SparseCategoricalCrossentropy(from_logits=True),\n",
    "                metrics=['accuracy'])"
   ]
  },
  {
   "cell_type": "code",
   "execution_count": 56,
   "metadata": {
    "scrolled": true
   },
   "outputs": [
    {
     "name": "stdout",
     "output_type": "stream",
     "text": [
      "Epoch 1/15\n",
      "1563/1563 [==============================] - 16s 10ms/step - loss: 2.1646 - accuracy: 0.2110 - val_loss: 1.9893 - val_accuracy: 0.2558\n",
      "Epoch 2/15\n",
      "1563/1563 [==============================] - 15s 10ms/step - loss: 1.9131 - accuracy: 0.2912 - val_loss: 1.8520 - val_accuracy: 0.3114\n",
      "Epoch 3/15\n",
      "1563/1563 [==============================] - 15s 10ms/step - loss: 1.8535 - accuracy: 0.3222 - val_loss: 1.8279 - val_accuracy: 0.3435\n",
      "Epoch 4/15\n",
      "1563/1563 [==============================] - 16s 10ms/step - loss: 1.8159 - accuracy: 0.3389 - val_loss: 1.7697 - val_accuracy: 0.3539\n",
      "Epoch 5/15\n",
      "1563/1563 [==============================] - 17s 11ms/step - loss: 1.7685 - accuracy: 0.3605 - val_loss: 1.7061 - val_accuracy: 0.3762\n",
      "Epoch 6/15\n",
      "1563/1563 [==============================] - 16s 11ms/step - loss: 1.7837 - accuracy: 0.3553 - val_loss: 1.7426 - val_accuracy: 0.3773\n",
      "Epoch 7/15\n",
      "1563/1563 [==============================] - 18s 11ms/step - loss: 1.7319 - accuracy: 0.3762 - val_loss: 1.7233 - val_accuracy: 0.3820\n",
      "Epoch 8/15\n",
      "1563/1563 [==============================] - 17s 11ms/step - loss: 1.7057 - accuracy: 0.3858 - val_loss: 1.7587 - val_accuracy: 0.3649\n",
      "Epoch 9/15\n",
      "1563/1563 [==============================] - 16s 10ms/step - loss: 1.6858 - accuracy: 0.3934 - val_loss: 1.6440 - val_accuracy: 0.4124\n",
      "Epoch 10/15\n",
      "1563/1563 [==============================] - 16s 10ms/step - loss: 1.7035 - accuracy: 0.3817 - val_loss: 1.7903 - val_accuracy: 0.3371\n",
      "Epoch 11/15\n",
      "1563/1563 [==============================] - 16s 10ms/step - loss: 1.7137 - accuracy: 0.3803 - val_loss: 1.6925 - val_accuracy: 0.3829\n",
      "Epoch 12/15\n",
      "1563/1563 [==============================] - 16s 10ms/step - loss: 1.6687 - accuracy: 0.3979 - val_loss: 1.6656 - val_accuracy: 0.4084\n",
      "Epoch 13/15\n",
      "1563/1563 [==============================] - 16s 10ms/step - loss: 1.6428 - accuracy: 0.4084 - val_loss: 1.6334 - val_accuracy: 0.4039\n",
      "Epoch 14/15\n",
      "1563/1563 [==============================] - 16s 10ms/step - loss: 1.6348 - accuracy: 0.4095 - val_loss: 1.6227 - val_accuracy: 0.4269\n",
      "Epoch 15/15\n",
      "1563/1563 [==============================] - 16s 10ms/step - loss: 1.6095 - accuracy: 0.4208 - val_loss: 1.6407 - val_accuracy: 0.4148\n"
     ]
    },
    {
     "data": {
      "text/plain": [
       "<tensorflow.python.keras.callbacks.History at 0x26236966d90>"
      ]
     },
     "execution_count": 56,
     "metadata": {},
     "output_type": "execute_result"
    }
   ],
   "source": [
    "model1.fit(x_train1, y_train1, epochs = 15, validation_data = (x_test1, y_test1),\n",
    "           callbacks = [stop_early])"
   ]
  },
  {
   "cell_type": "code",
   "execution_count": 57,
   "metadata": {},
   "outputs": [
    {
     "name": "stdout",
     "output_type": "stream",
     "text": [
      "Epoch 1/40\n",
      "1563/1563 [==============================] - 17s 11ms/step - loss: 1.6602 - accuracy: 0.4029 - val_loss: 1.6341 - val_accuracy: 0.4066\n",
      "Epoch 2/40\n",
      "1563/1563 [==============================] - 17s 11ms/step - loss: 1.5902 - accuracy: 0.4289 - val_loss: 1.5846 - val_accuracy: 0.4306\n",
      "Epoch 3/40\n",
      "1563/1563 [==============================] - 17s 11ms/step - loss: 1.5750 - accuracy: 0.4323 - val_loss: 1.5982 - val_accuracy: 0.4290\n",
      "Epoch 4/40\n",
      "1563/1563 [==============================] - 17s 11ms/step - loss: 1.5710 - accuracy: 0.4353 - val_loss: 1.5554 - val_accuracy: 0.4442\n",
      "Epoch 5/40\n",
      "1563/1563 [==============================] - 18s 12ms/step - loss: 1.5506 - accuracy: 0.4447 - val_loss: 1.6149 - val_accuracy: 0.4316\n",
      "Epoch 6/40\n",
      "1563/1563 [==============================] - 18s 12ms/step - loss: 1.5355 - accuracy: 0.4499 - val_loss: 1.5890 - val_accuracy: 0.4373\n",
      "Epoch 7/40\n",
      "1563/1563 [==============================] - 18s 12ms/step - loss: 1.6414 - accuracy: 0.4086 - val_loss: 1.7722 - val_accuracy: 0.3626\n",
      "Epoch 8/40\n",
      "1563/1563 [==============================] - 18s 12ms/step - loss: 1.6806 - accuracy: 0.3917 - val_loss: 1.6152 - val_accuracy: 0.4183\n",
      "Epoch 9/40\n",
      "1563/1563 [==============================] - 18s 12ms/step - loss: 1.6123 - accuracy: 0.4189 - val_loss: 1.6229 - val_accuracy: 0.4238\n",
      "Epoch 10/40\n",
      "1563/1563 [==============================] - 17s 11ms/step - loss: 1.5794 - accuracy: 0.4333 - val_loss: 1.6125 - val_accuracy: 0.4249\n",
      "Epoch 11/40\n",
      "1563/1563 [==============================] - 18s 11ms/step - loss: 1.5430 - accuracy: 0.4478 - val_loss: 1.5630 - val_accuracy: 0.4416\n",
      "Epoch 12/40\n",
      "1563/1563 [==============================] - 17s 11ms/step - loss: 1.5259 - accuracy: 0.4520 - val_loss: 1.5474 - val_accuracy: 0.4514\n",
      "Epoch 13/40\n",
      "1563/1563 [==============================] - 18s 11ms/step - loss: 1.5742 - accuracy: 0.4422 - val_loss: 1.7766 - val_accuracy: 0.3569\n",
      "Epoch 14/40\n",
      "1563/1563 [==============================] - 18s 11ms/step - loss: 1.5913 - accuracy: 0.4289 - val_loss: 1.6133 - val_accuracy: 0.4270\n",
      "Epoch 15/40\n",
      "1563/1563 [==============================] - 19s 12ms/step - loss: 1.5226 - accuracy: 0.4559 - val_loss: 1.5503 - val_accuracy: 0.4468\n",
      "Epoch 16/40\n",
      "1563/1563 [==============================] - 18s 11ms/step - loss: 1.4913 - accuracy: 0.4682 - val_loss: 1.5684 - val_accuracy: 0.4450\n",
      "Epoch 17/40\n",
      "1563/1563 [==============================] - 17s 11ms/step - loss: 1.4728 - accuracy: 0.4724 - val_loss: 1.5216 - val_accuracy: 0.4635\n",
      "Epoch 18/40\n",
      "1563/1563 [==============================] - 17s 11ms/step - loss: 1.4864 - accuracy: 0.4715 - val_loss: 1.5150 - val_accuracy: 0.4601\n",
      "Epoch 19/40\n",
      "1563/1563 [==============================] - 17s 11ms/step - loss: 1.4539 - accuracy: 0.4828 - val_loss: 1.5199 - val_accuracy: 0.4592\n",
      "Epoch 20/40\n",
      "1563/1563 [==============================] - 17s 11ms/step - loss: 1.4300 - accuracy: 0.4913 - val_loss: 1.5316 - val_accuracy: 0.4635\n",
      "Epoch 21/40\n",
      "1563/1563 [==============================] - 17s 11ms/step - loss: 1.4369 - accuracy: 0.4887 - val_loss: 1.5306 - val_accuracy: 0.4654\n",
      "Epoch 22/40\n",
      "1563/1563 [==============================] - 18s 11ms/step - loss: 1.4259 - accuracy: 0.4941 - val_loss: 1.5498 - val_accuracy: 0.4556\n",
      "Epoch 23/40\n",
      "1563/1563 [==============================] - 17s 11ms/step - loss: 1.4093 - accuracy: 0.4998 - val_loss: 1.5965 - val_accuracy: 0.4514\n",
      "Epoch 24/40\n",
      "1563/1563 [==============================] - 17s 11ms/step - loss: 1.4000 - accuracy: 0.5018 - val_loss: 1.5382 - val_accuracy: 0.4638\n",
      "Epoch 25/40\n",
      "1563/1563 [==============================] - 17s 11ms/step - loss: 1.3985 - accuracy: 0.5037 - val_loss: 1.5686 - val_accuracy: 0.4560\n",
      "Epoch 26/40\n",
      "1563/1563 [==============================] - 17s 11ms/step - loss: 1.3825 - accuracy: 0.5095 - val_loss: 1.5258 - val_accuracy: 0.4720\n",
      "Epoch 27/40\n",
      "1563/1563 [==============================] - 17s 11ms/step - loss: 1.4642 - accuracy: 0.4773 - val_loss: 1.5233 - val_accuracy: 0.4650\n",
      "Epoch 28/40\n",
      "1563/1563 [==============================] - 17s 11ms/step - loss: 1.4036 - accuracy: 0.5008 - val_loss: 1.5109 - val_accuracy: 0.4808\n",
      "Epoch 29/40\n",
      "1563/1563 [==============================] - 17s 11ms/step - loss: 1.3907 - accuracy: 0.5111 - val_loss: 1.5044 - val_accuracy: 0.4768\n",
      "Epoch 30/40\n",
      "1563/1563 [==============================] - 19s 12ms/step - loss: 1.4414 - accuracy: 0.5022 - val_loss: 1.8851 - val_accuracy: 0.3086\n",
      "Epoch 31/40\n",
      "1563/1563 [==============================] - 19s 12ms/step - loss: 1.6482 - accuracy: 0.4043 - val_loss: 1.5983 - val_accuracy: 0.4274\n",
      "Epoch 32/40\n",
      "1563/1563 [==============================] - 18s 12ms/step - loss: 1.5244 - accuracy: 0.4521 - val_loss: 1.5556 - val_accuracy: 0.4521\n",
      "Epoch 33/40\n",
      "1563/1563 [==============================] - 18s 12ms/step - loss: 1.4661 - accuracy: 0.4768 - val_loss: 1.5321 - val_accuracy: 0.4510\n",
      "Epoch 34/40\n",
      "1563/1563 [==============================] - 18s 12ms/step - loss: 1.4295 - accuracy: 0.4915 - val_loss: 1.5492 - val_accuracy: 0.4503\n",
      "Epoch 35/40\n",
      "1563/1563 [==============================] - 18s 11ms/step - loss: 1.4061 - accuracy: 0.4994 - val_loss: 1.5119 - val_accuracy: 0.4630\n",
      "Epoch 36/40\n",
      "1563/1563 [==============================] - 17s 11ms/step - loss: 1.5642 - accuracy: 0.4370 - val_loss: 1.5182 - val_accuracy: 0.4680\n",
      "Epoch 37/40\n",
      "1563/1563 [==============================] - 17s 11ms/step - loss: 1.4374 - accuracy: 0.4837 - val_loss: 1.5049 - val_accuracy: 0.4805\n",
      "Epoch 38/40\n",
      "1563/1563 [==============================] - 19s 12ms/step - loss: 1.4217 - accuracy: 0.4930 - val_loss: 1.5466 - val_accuracy: 0.4526\n",
      "Epoch 39/40\n",
      "1563/1563 [==============================] - 19s 12ms/step - loss: 1.7540 - accuracy: 0.3935 - val_loss: 1.8017 - val_accuracy: 0.3301\n"
     ]
    },
    {
     "data": {
      "text/plain": [
       "<tensorflow.python.keras.callbacks.History at 0x2623b6f84c0>"
      ]
     },
     "execution_count": 57,
     "metadata": {},
     "output_type": "execute_result"
    }
   ],
   "source": [
    "model1.fit(x_train1, y_train1, epochs = 40, validation_data = (x_test1, y_test1),\n",
    "           callbacks = [stop_early])"
   ]
  },
  {
   "cell_type": "code",
   "execution_count": 59,
   "metadata": {},
   "outputs": [],
   "source": [
    "model2 = tf.keras.Sequential([\n",
    "    tf.keras.layers.Flatten(input_shape=(64, 48)),\n",
    "    tf.keras.layers.Dense(500, activation='elu'),\n",
    "    tf.keras.layers.Dense(300, activation='elu'),\n",
    "    tf.keras.layers.Dense(300, activation='elu'),\n",
    "    tf.keras.layers.Dense(300, activation='elu'),\n",
    "    tf.keras.layers.Dense(300, activation='elu'),\n",
    "    tf.keras.layers.Dense(200, activation='elu'),\n",
    "    tf.keras.layers.Dense(200, activation='elu'),\n",
    "    tf.keras.layers.Dense(200, activation='elu'),\n",
    "    tf.keras.layers.Dense(200, activation='elu'),\n",
    "    tf.keras.layers.Dense(100, activation='elu'),\n",
    "    tf.keras.layers.Dense(100, activation='elu'),\n",
    "    tf.keras.layers.Dense(100, activation='elu'),\n",
    "    tf.keras.layers.Dense(100, activation='elu'),\n",
    "    tf.keras.layers.Dense(50, activation='elu'),\n",
    "    tf.keras.layers.Dense(50, activation='elu'),\n",
    "    tf.keras.layers.Dense(50, activation='elu'),\n",
    "    tf.keras.layers.Dense(10, activation='softmax')\n",
    "])"
   ]
  },
  {
   "cell_type": "code",
   "execution_count": 61,
   "metadata": {},
   "outputs": [],
   "source": [
    "model2.compile(optimizer=keras.optimizers.Adam(learning_rate=1e-4),\n",
    "                loss=keras.losses.SparseCategoricalCrossentropy(from_logits=True),\n",
    "                metrics=['accuracy'])"
   ]
  },
  {
   "cell_type": "code",
   "execution_count": 62,
   "metadata": {
    "scrolled": true
   },
   "outputs": [
    {
     "name": "stdout",
     "output_type": "stream",
     "text": [
      "Epoch 1/40\n",
      "1563/1563 [==============================] - 18s 11ms/step - loss: 1.9399 - accuracy: 0.2846 - val_loss: 1.7742 - val_accuracy: 0.3574\n",
      "Epoch 2/40\n",
      "1563/1563 [==============================] - 17s 11ms/step - loss: 1.7528 - accuracy: 0.3654 - val_loss: 1.7086 - val_accuracy: 0.3778\n",
      "Epoch 3/40\n",
      "1563/1563 [==============================] - 17s 11ms/step - loss: 1.6543 - accuracy: 0.4034 - val_loss: 1.5934 - val_accuracy: 0.4313\n",
      "Epoch 4/40\n",
      "1563/1563 [==============================] - 17s 11ms/step - loss: 1.5877 - accuracy: 0.4288 - val_loss: 1.5440 - val_accuracy: 0.4486\n",
      "Epoch 5/40\n",
      "1563/1563 [==============================] - 17s 11ms/step - loss: 1.5306 - accuracy: 0.4492 - val_loss: 1.5930 - val_accuracy: 0.4333\n",
      "Epoch 6/40\n",
      "1563/1563 [==============================] - 17s 11ms/step - loss: 1.4931 - accuracy: 0.4654 - val_loss: 1.4814 - val_accuracy: 0.4706\n",
      "Epoch 7/40\n",
      "1563/1563 [==============================] - 18s 11ms/step - loss: 1.4474 - accuracy: 0.4824 - val_loss: 1.4863 - val_accuracy: 0.4659\n",
      "Epoch 8/40\n",
      "1563/1563 [==============================] - 18s 12ms/step - loss: 1.4141 - accuracy: 0.4924 - val_loss: 1.5058 - val_accuracy: 0.4640\n",
      "Epoch 9/40\n",
      "1563/1563 [==============================] - 17s 11ms/step - loss: 1.3772 - accuracy: 0.5090 - val_loss: 1.4692 - val_accuracy: 0.4819\n",
      "Epoch 10/40\n",
      "1563/1563 [==============================] - 17s 11ms/step - loss: 1.3446 - accuracy: 0.5198 - val_loss: 1.4339 - val_accuracy: 0.4899\n",
      "Epoch 11/40\n",
      "1563/1563 [==============================] - 17s 11ms/step - loss: 1.3185 - accuracy: 0.5280 - val_loss: 1.4348 - val_accuracy: 0.4845\n",
      "Epoch 12/40\n",
      "1563/1563 [==============================] - 17s 11ms/step - loss: 1.2834 - accuracy: 0.5416 - val_loss: 1.4425 - val_accuracy: 0.4896\n",
      "Epoch 13/40\n",
      "1563/1563 [==============================] - 17s 11ms/step - loss: 1.2538 - accuracy: 0.5522 - val_loss: 1.4121 - val_accuracy: 0.5034\n",
      "Epoch 14/40\n",
      "1563/1563 [==============================] - 17s 11ms/step - loss: 1.2198 - accuracy: 0.5625 - val_loss: 1.4238 - val_accuracy: 0.4934\n",
      "Epoch 15/40\n",
      "1563/1563 [==============================] - 17s 11ms/step - loss: 1.1911 - accuracy: 0.5734 - val_loss: 1.4271 - val_accuracy: 0.5036\n",
      "Epoch 16/40\n",
      "1563/1563 [==============================] - 17s 11ms/step - loss: 1.1545 - accuracy: 0.5868 - val_loss: 1.4356 - val_accuracy: 0.5009\n",
      "Epoch 17/40\n",
      "1563/1563 [==============================] - 17s 11ms/step - loss: 1.1207 - accuracy: 0.6005 - val_loss: 1.4036 - val_accuracy: 0.5193\n",
      "Epoch 18/40\n",
      "1563/1563 [==============================] - 17s 11ms/step - loss: 1.0903 - accuracy: 0.6106 - val_loss: 1.4297 - val_accuracy: 0.5191\n",
      "Epoch 19/40\n",
      "1563/1563 [==============================] - 17s 11ms/step - loss: 1.0593 - accuracy: 0.6195 - val_loss: 1.4345 - val_accuracy: 0.5117\n",
      "Epoch 20/40\n",
      "1563/1563 [==============================] - 17s 11ms/step - loss: 1.0318 - accuracy: 0.6324 - val_loss: 1.4426 - val_accuracy: 0.5140\n",
      "Epoch 21/40\n",
      "1563/1563 [==============================] - 18s 11ms/step - loss: 0.9978 - accuracy: 0.6440 - val_loss: 1.4493 - val_accuracy: 0.5082\n",
      "Epoch 22/40\n",
      "1563/1563 [==============================] - 18s 12ms/step - loss: 0.9644 - accuracy: 0.6560 - val_loss: 1.4532 - val_accuracy: 0.5138\n",
      "Epoch 23/40\n",
      "1563/1563 [==============================] - 18s 12ms/step - loss: 0.9311 - accuracy: 0.6673 - val_loss: 1.4881 - val_accuracy: 0.5072\n",
      "Epoch 24/40\n",
      "1563/1563 [==============================] - 18s 12ms/step - loss: 0.9010 - accuracy: 0.6775 - val_loss: 1.5031 - val_accuracy: 0.5047\n",
      "Epoch 25/40\n",
      "1563/1563 [==============================] - 17s 11ms/step - loss: 0.8723 - accuracy: 0.6887 - val_loss: 1.5552 - val_accuracy: 0.5080\n",
      "Epoch 26/40\n",
      "1563/1563 [==============================] - 18s 11ms/step - loss: 0.8394 - accuracy: 0.7008 - val_loss: 1.5959 - val_accuracy: 0.5007\n",
      "Epoch 27/40\n",
      "1563/1563 [==============================] - 17s 11ms/step - loss: 0.8089 - accuracy: 0.7119 - val_loss: 1.5880 - val_accuracy: 0.5036\n"
     ]
    },
    {
     "data": {
      "text/plain": [
       "<tensorflow.python.keras.callbacks.History at 0x26235f61700>"
      ]
     },
     "execution_count": 62,
     "metadata": {},
     "output_type": "execute_result"
    }
   ],
   "source": [
    "model2.fit(x_train1, y_train1, epochs = 40, validation_data = (x_test1, y_test1),\n",
    "           callbacks = [stop_early])"
   ]
  },
  {
   "cell_type": "code",
   "execution_count": 63,
   "metadata": {},
   "outputs": [],
   "source": [
    "model3 = tf.keras.Sequential([\n",
    "    tf.keras.layers.Flatten(input_shape=(64, 48)),\n",
    "    tf.keras.layers.Dense(500, activation='elu'),\n",
    "    tf.keras.layers.Dense(300, activation='elu'),\n",
    "    tf.keras.layers.Dense(300, activation='elu'),\n",
    "    tf.keras.layers.Dense(300, activation='elu'),\n",
    "    tf.keras.layers.Dense(300, activation='elu'),\n",
    "    tf.keras.layers.Dense(200, activation='elu'),\n",
    "    tf.keras.layers.Dense(200, activation='elu'),\n",
    "    tf.keras.layers.Dense(200, activation='elu'),\n",
    "    tf.keras.layers.Dense(200, activation='elu'),\n",
    "    tf.keras.layers.Dense(100, activation='elu'),\n",
    "    tf.keras.layers.Dense(100, activation='elu'),\n",
    "    tf.keras.layers.Dense(100, activation='elu'),\n",
    "    tf.keras.layers.Dense(50, activation='elu'),\n",
    "    tf.keras.layers.Dense(50, activation='elu'),\n",
    "    tf.keras.layers.Dense(10, activation='softmax')\n",
    "])"
   ]
  },
  {
   "cell_type": "code",
   "execution_count": 64,
   "metadata": {},
   "outputs": [],
   "source": [
    "model3.compile(optimizer=keras.optimizers.Adam(learning_rate=1e-4),\n",
    "                loss=keras.losses.SparseCategoricalCrossentropy(from_logits=True),\n",
    "                metrics=['accuracy'])"
   ]
  },
  {
   "cell_type": "code",
   "execution_count": 65,
   "metadata": {
    "scrolled": true
   },
   "outputs": [
    {
     "name": "stdout",
     "output_type": "stream",
     "text": [
      "Epoch 1/40\n",
      "1563/1563 [==============================] - 17s 11ms/step - loss: 1.9196 - accuracy: 0.3030 - val_loss: 1.7827 - val_accuracy: 0.3503\n",
      "Epoch 2/40\n",
      "1563/1563 [==============================] - 16s 10ms/step - loss: 1.7240 - accuracy: 0.3801 - val_loss: 1.6756 - val_accuracy: 0.4063\n",
      "Epoch 3/40\n",
      "1563/1563 [==============================] - 16s 10ms/step - loss: 1.6417 - accuracy: 0.4113 - val_loss: 1.5769 - val_accuracy: 0.4411\n",
      "Epoch 4/40\n",
      "1563/1563 [==============================] - 16s 10ms/step - loss: 1.5744 - accuracy: 0.4353 - val_loss: 1.5531 - val_accuracy: 0.4441\n",
      "Epoch 5/40\n",
      "1563/1563 [==============================] - 16s 10ms/step - loss: 1.5243 - accuracy: 0.4535 - val_loss: 1.4983 - val_accuracy: 0.4683\n",
      "Epoch 6/40\n",
      "1563/1563 [==============================] - 16s 10ms/step - loss: 1.4819 - accuracy: 0.4666 - val_loss: 1.5414 - val_accuracy: 0.4551\n",
      "Epoch 7/40\n",
      "1563/1563 [==============================] - 16s 10ms/step - loss: 1.4422 - accuracy: 0.4850 - val_loss: 1.4993 - val_accuracy: 0.4715\n",
      "Epoch 8/40\n",
      "1563/1563 [==============================] - 16s 10ms/step - loss: 1.4036 - accuracy: 0.4984 - val_loss: 1.4713 - val_accuracy: 0.4842\n",
      "Epoch 9/40\n",
      "1563/1563 [==============================] - 16s 10ms/step - loss: 1.3657 - accuracy: 0.5125 - val_loss: 1.4489 - val_accuracy: 0.4913\n",
      "Epoch 10/40\n",
      "1563/1563 [==============================] - 16s 10ms/step - loss: 1.3335 - accuracy: 0.5231 - val_loss: 1.4588 - val_accuracy: 0.4863\n",
      "Epoch 11/40\n",
      "1563/1563 [==============================] - 16s 10ms/step - loss: 1.3033 - accuracy: 0.5324 - val_loss: 1.4163 - val_accuracy: 0.5017\n",
      "Epoch 12/40\n",
      "1563/1563 [==============================] - 16s 10ms/step - loss: 1.2674 - accuracy: 0.5469 - val_loss: 1.4531 - val_accuracy: 0.4874\n",
      "Epoch 13/40\n",
      "1563/1563 [==============================] - 16s 10ms/step - loss: 1.2318 - accuracy: 0.5620 - val_loss: 1.4286 - val_accuracy: 0.4959\n",
      "Epoch 14/40\n",
      "1563/1563 [==============================] - 16s 10ms/step - loss: 1.2044 - accuracy: 0.5712 - val_loss: 1.3918 - val_accuracy: 0.5116\n",
      "Epoch 15/40\n",
      "1563/1563 [==============================] - 16s 10ms/step - loss: 1.1685 - accuracy: 0.5817 - val_loss: 1.3948 - val_accuracy: 0.5123\n",
      "Epoch 16/40\n",
      "1563/1563 [==============================] - 16s 10ms/step - loss: 1.1360 - accuracy: 0.5951 - val_loss: 1.4094 - val_accuracy: 0.5138\n",
      "Epoch 17/40\n",
      "1563/1563 [==============================] - 16s 10ms/step - loss: 1.1027 - accuracy: 0.6025 - val_loss: 1.4389 - val_accuracy: 0.5015\n",
      "Epoch 18/40\n",
      "1563/1563 [==============================] - 16s 10ms/step - loss: 1.0692 - accuracy: 0.6178 - val_loss: 1.4579 - val_accuracy: 0.4968\n",
      "Epoch 19/40\n",
      "1563/1563 [==============================] - 16s 10ms/step - loss: 1.0344 - accuracy: 0.6305 - val_loss: 1.4658 - val_accuracy: 0.4944\n",
      "Epoch 20/40\n",
      "1563/1563 [==============================] - 16s 10ms/step - loss: 1.0044 - accuracy: 0.6451 - val_loss: 1.4821 - val_accuracy: 0.5139\n",
      "Epoch 21/40\n",
      "1563/1563 [==============================] - 16s 10ms/step - loss: 0.9651 - accuracy: 0.6575 - val_loss: 1.4897 - val_accuracy: 0.5171\n",
      "Epoch 22/40\n",
      "1563/1563 [==============================] - 16s 10ms/step - loss: 0.9320 - accuracy: 0.6679 - val_loss: 1.4815 - val_accuracy: 0.5166\n",
      "Epoch 23/40\n",
      "1563/1563 [==============================] - 16s 10ms/step - loss: 0.8961 - accuracy: 0.6798 - val_loss: 1.5148 - val_accuracy: 0.5128\n",
      "Epoch 24/40\n",
      "1563/1563 [==============================] - 16s 10ms/step - loss: 0.8606 - accuracy: 0.6944 - val_loss: 1.5627 - val_accuracy: 0.5172\n"
     ]
    },
    {
     "data": {
      "text/plain": [
       "<tensorflow.python.keras.callbacks.History at 0x2624a8e31f0>"
      ]
     },
     "execution_count": 65,
     "metadata": {},
     "output_type": "execute_result"
    }
   ],
   "source": [
    "model3.fit(x_train1, y_train1, epochs = 40, validation_data = (x_test1, y_test1),\n",
    "           callbacks = [stop_early])"
   ]
  },
  {
   "cell_type": "code",
   "execution_count": 67,
   "metadata": {},
   "outputs": [],
   "source": [
    "model4 = tf.keras.Sequential([\n",
    "    tf.keras.layers.Flatten(input_shape=(64, 48)),\n",
    "    tf.keras.layers.Dense(500, activation='elu'),\n",
    "    tf.keras.layers.Dense(300, activation='elu'),\n",
    "    tf.keras.layers.Dense(300, activation='elu'),\n",
    "    tf.keras.layers.Dense(300, activation='elu'),\n",
    "    tf.keras.layers.Dense(300, activation='elu'),\n",
    "    tf.keras.layers.Dense(200, activation='elu'),\n",
    "    tf.keras.layers.Dense(200, activation='elu'),\n",
    "    tf.keras.layers.Dense(200, activation='elu'),\n",
    "    #tf.keras.layers.Dense(200, activation='elu'),\n",
    "    tf.keras.layers.Dense(100, activation='elu'),\n",
    "    tf.keras.layers.Dense(100, activation='elu'),\n",
    "    tf.keras.layers.Dense(100, activation='elu'),\n",
    "    tf.keras.layers.Dense(50, activation='elu'),\n",
    "    tf.keras.layers.Dense(50, activation='elu'),\n",
    "    tf.keras.layers.Dense(10, activation='softmax')\n",
    "])"
   ]
  },
  {
   "cell_type": "code",
   "execution_count": 68,
   "metadata": {},
   "outputs": [],
   "source": [
    "model4.compile(optimizer=keras.optimizers.Adam(learning_rate=1e-4),\n",
    "                loss=keras.losses.SparseCategoricalCrossentropy(from_logits=True),\n",
    "                metrics=['accuracy'])"
   ]
  },
  {
   "cell_type": "code",
   "execution_count": 69,
   "metadata": {
    "scrolled": true
   },
   "outputs": [
    {
     "name": "stdout",
     "output_type": "stream",
     "text": [
      "Epoch 1/40\n",
      "1563/1563 [==============================] - 18s 11ms/step - loss: 1.9413 - accuracy: 0.2970 - val_loss: 1.7978 - val_accuracy: 0.3465\n",
      "Epoch 2/40\n",
      "1563/1563 [==============================] - 16s 10ms/step - loss: 1.7318 - accuracy: 0.3738 - val_loss: 1.7645 - val_accuracy: 0.3566\n",
      "Epoch 3/40\n",
      "1563/1563 [==============================] - 16s 10ms/step - loss: 1.6460 - accuracy: 0.4063 - val_loss: 1.5776 - val_accuracy: 0.4389\n",
      "Epoch 4/40\n",
      "1563/1563 [==============================] - 17s 11ms/step - loss: 1.5733 - accuracy: 0.4334 - val_loss: 1.5436 - val_accuracy: 0.4448\n",
      "Epoch 5/40\n",
      "1563/1563 [==============================] - 17s 11ms/step - loss: 1.5251 - accuracy: 0.4523 - val_loss: 1.5183 - val_accuracy: 0.4610\n",
      "Epoch 6/40\n",
      "1563/1563 [==============================] - 17s 11ms/step - loss: 1.4740 - accuracy: 0.4713 - val_loss: 1.4979 - val_accuracy: 0.4703\n",
      "Epoch 7/40\n",
      "1563/1563 [==============================] - 18s 11ms/step - loss: 1.4406 - accuracy: 0.4850 - val_loss: 1.4800 - val_accuracy: 0.4730\n",
      "Epoch 8/40\n",
      "1563/1563 [==============================] - 18s 12ms/step - loss: 1.4034 - accuracy: 0.4945 - val_loss: 1.4727 - val_accuracy: 0.4733\n",
      "Epoch 9/40\n",
      "1563/1563 [==============================] - 18s 12ms/step - loss: 1.3695 - accuracy: 0.5082 - val_loss: 1.4514 - val_accuracy: 0.4918\n",
      "Epoch 10/40\n",
      "1563/1563 [==============================] - 18s 12ms/step - loss: 1.3315 - accuracy: 0.5214 - val_loss: 1.4210 - val_accuracy: 0.4962\n",
      "Epoch 11/40\n",
      "1563/1563 [==============================] - 18s 12ms/step - loss: 1.3025 - accuracy: 0.5325 - val_loss: 1.4529 - val_accuracy: 0.4841\n",
      "Epoch 12/40\n",
      "1563/1563 [==============================] - 19s 12ms/step - loss: 1.2656 - accuracy: 0.5448 - val_loss: 1.3918 - val_accuracy: 0.5102\n",
      "Epoch 13/40\n",
      "1563/1563 [==============================] - 18s 11ms/step - loss: 1.2352 - accuracy: 0.5570 - val_loss: 1.4187 - val_accuracy: 0.5055\n",
      "Epoch 14/40\n",
      "1563/1563 [==============================] - 16s 10ms/step - loss: 1.1987 - accuracy: 0.5694 - val_loss: 1.4258 - val_accuracy: 0.5003\n",
      "Epoch 15/40\n",
      "1563/1563 [==============================] - 16s 10ms/step - loss: 1.1708 - accuracy: 0.5800 - val_loss: 1.4261 - val_accuracy: 0.5048\n",
      "Epoch 16/40\n",
      "1563/1563 [==============================] - 17s 11ms/step - loss: 1.1350 - accuracy: 0.5939 - val_loss: 1.3882 - val_accuracy: 0.5223\n",
      "Epoch 17/40\n",
      "1563/1563 [==============================] - 18s 11ms/step - loss: 1.0974 - accuracy: 0.6065 - val_loss: 1.4024 - val_accuracy: 0.5190\n",
      "Epoch 18/40\n",
      "1563/1563 [==============================] - 17s 11ms/step - loss: 1.0699 - accuracy: 0.6147 - val_loss: 1.4053 - val_accuracy: 0.5209\n",
      "Epoch 19/40\n",
      "1563/1563 [==============================] - 16s 10ms/step - loss: 1.0300 - accuracy: 0.6304 - val_loss: 1.4428 - val_accuracy: 0.5134\n",
      "Epoch 20/40\n",
      "1563/1563 [==============================] - 16s 10ms/step - loss: 0.9950 - accuracy: 0.6424 - val_loss: 1.4757 - val_accuracy: 0.5139\n",
      "Epoch 21/40\n",
      "1563/1563 [==============================] - 17s 11ms/step - loss: 0.9627 - accuracy: 0.6535 - val_loss: 1.4534 - val_accuracy: 0.5127\n",
      "Epoch 22/40\n",
      "1563/1563 [==============================] - 17s 11ms/step - loss: 0.9291 - accuracy: 0.6649 - val_loss: 1.4803 - val_accuracy: 0.5232\n",
      "Epoch 23/40\n",
      "1563/1563 [==============================] - 16s 10ms/step - loss: 0.9019 - accuracy: 0.6767 - val_loss: 1.5529 - val_accuracy: 0.5143\n",
      "Epoch 24/40\n",
      "1563/1563 [==============================] - 16s 10ms/step - loss: 0.8615 - accuracy: 0.6901 - val_loss: 1.5522 - val_accuracy: 0.5120\n",
      "Epoch 25/40\n",
      "1563/1563 [==============================] - 16s 11ms/step - loss: 0.8332 - accuracy: 0.6991 - val_loss: 1.6219 - val_accuracy: 0.5132\n",
      "Epoch 26/40\n",
      "1563/1563 [==============================] - 17s 11ms/step - loss: 0.8074 - accuracy: 0.7133 - val_loss: 1.6063 - val_accuracy: 0.5132\n"
     ]
    },
    {
     "data": {
      "text/plain": [
       "<tensorflow.python.keras.callbacks.History at 0x2624c4fdbe0>"
      ]
     },
     "execution_count": 69,
     "metadata": {},
     "output_type": "execute_result"
    }
   ],
   "source": [
    "model4.fit(x_train1, y_train1, epochs = 40, validation_data = (x_test1, y_test1),\n",
    "           callbacks = [stop_early])"
   ]
  },
  {
   "cell_type": "code",
   "execution_count": 70,
   "metadata": {},
   "outputs": [],
   "source": [
    "def scheduler(epoch, lr):\n",
    "    if epoch < 10:\n",
    "        return lr\n",
    "    else:\n",
    "        return lr * tf.math.exp(-0.1)"
   ]
  },
  {
   "cell_type": "code",
   "execution_count": 74,
   "metadata": {},
   "outputs": [],
   "source": [
    "schedule = tf.keras.callbacks.LearningRateScheduler(scheduler)"
   ]
  },
  {
   "cell_type": "code",
   "execution_count": 75,
   "metadata": {},
   "outputs": [
    {
     "name": "stdout",
     "output_type": "stream",
     "text": [
      "Epoch 1/40\n",
      "1563/1563 [==============================] - 16s 10ms/step - loss: 0.7662 - accuracy: 0.7259 - val_loss: 1.6172 - val_accuracy: 0.5166\n",
      "Epoch 2/40\n",
      "1563/1563 [==============================] - 16s 11ms/step - loss: 0.7404 - accuracy: 0.7347 - val_loss: 1.6499 - val_accuracy: 0.5148\n",
      "Epoch 3/40\n",
      "1563/1563 [==============================] - 17s 11ms/step - loss: 0.7056 - accuracy: 0.7475 - val_loss: 1.7449 - val_accuracy: 0.5015\n",
      "Epoch 4/40\n",
      "1563/1563 [==============================] - 17s 11ms/step - loss: 0.6825 - accuracy: 0.7568 - val_loss: 1.8146 - val_accuracy: 0.5093\n",
      "Epoch 5/40\n",
      "1563/1563 [==============================] - 17s 11ms/step - loss: 0.6536 - accuracy: 0.7655 - val_loss: 1.8102 - val_accuracy: 0.5154\n",
      "Epoch 6/40\n",
      "1563/1563 [==============================] - 16s 10ms/step - loss: 0.6269 - accuracy: 0.7743 - val_loss: 1.8220 - val_accuracy: 0.5047\n",
      "Epoch 7/40\n",
      "1563/1563 [==============================] - 16s 11ms/step - loss: 0.6037 - accuracy: 0.7840 - val_loss: 1.8818 - val_accuracy: 0.5119\n",
      "Epoch 8/40\n",
      "1563/1563 [==============================] - 16s 11ms/step - loss: 0.5800 - accuracy: 0.7916 - val_loss: 1.9349 - val_accuracy: 0.5067\n",
      "Epoch 9/40\n",
      "1563/1563 [==============================] - 17s 11ms/step - loss: 0.5485 - accuracy: 0.8039 - val_loss: 1.9305 - val_accuracy: 0.5092\n",
      "Epoch 10/40\n",
      "1563/1563 [==============================] - 17s 11ms/step - loss: 0.5418 - accuracy: 0.8083 - val_loss: 2.0208 - val_accuracy: 0.5094\n",
      "Epoch 11/40\n",
      "1563/1563 [==============================] - 18s 12ms/step - loss: 0.4798 - accuracy: 0.8287 - val_loss: 2.0952 - val_accuracy: 0.5034\n"
     ]
    },
    {
     "data": {
      "text/plain": [
       "<tensorflow.python.keras.callbacks.History at 0x2624aeec1f0>"
      ]
     },
     "execution_count": 75,
     "metadata": {},
     "output_type": "execute_result"
    }
   ],
   "source": [
    "model4.fit(x_train1, y_train1, epochs = 40, validation_data = (x_test1, y_test1),\n",
    "           callbacks = [stop_early, schedule])"
   ]
  },
  {
   "cell_type": "code",
   "execution_count": 78,
   "metadata": {},
   "outputs": [],
   "source": [
    "model6 = tf.keras.Sequential([\n",
    "    tf.keras.layers.Flatten(input_shape=(64, 48)),\n",
    "    tf.keras.layers.Dense(500, activation='tanh'),\n",
    "    tf.keras.layers.Dense(300, activation='tanh'),\n",
    "    tf.keras.layers.Dense(300, activation='tanh'),\n",
    "    tf.keras.layers.Dense(300, activation='tanh'),\n",
    "    tf.keras.layers.Dense(300, activation='tanh'),\n",
    "    tf.keras.layers.Dense(200, activation='tanh'),\n",
    "    tf.keras.layers.Dense(200, activation='tanh'),\n",
    "    tf.keras.layers.Dense(200, activation='tanh'),\n",
    "    tf.keras.layers.Dense(200, activation='tanh'),\n",
    "    tf.keras.layers.Dense(100, activation='tanh'),\n",
    "    tf.keras.layers.Dense(100, activation='tanh'),\n",
    "    tf.keras.layers.Dense(100, activation='tanh'),\n",
    "    tf.keras.layers.Dense(100, activation='tanh'),\n",
    "    tf.keras.layers.Dense(50, activation='tanh'),\n",
    "    tf.keras.layers.Dense(50, activation='tanh'),\n",
    "    tf.keras.layers.Dense(50, activation='tanh'),\n",
    "    tf.keras.layers.Dense(10, activation='softmax')\n",
    "])"
   ]
  },
  {
   "cell_type": "code",
   "execution_count": 79,
   "metadata": {},
   "outputs": [],
   "source": [
    "model6.compile(optimizer=keras.optimizers.Adam(learning_rate=1e-4),\n",
    "                loss=keras.losses.SparseCategoricalCrossentropy(from_logits=True),\n",
    "                metrics=['accuracy'])"
   ]
  },
  {
   "cell_type": "code",
   "execution_count": 80,
   "metadata": {},
   "outputs": [
    {
     "name": "stdout",
     "output_type": "stream",
     "text": [
      "Epoch 1/40\n",
      "1563/1563 [==============================] - 19s 12ms/step - loss: 2.2546 - accuracy: 0.1376 - val_loss: 2.2434 - val_accuracy: 0.1291\n",
      "Epoch 2/40\n",
      "1563/1563 [==============================] - 18s 11ms/step - loss: 2.2369 - accuracy: 0.1400 - val_loss: 2.1974 - val_accuracy: 0.1528\n",
      "Epoch 3/40\n",
      "1563/1563 [==============================] - 17s 11ms/step - loss: 2.2396 - accuracy: 0.1418 - val_loss: 2.3025 - val_accuracy: 0.1001\n",
      "Epoch 4/40\n",
      "1563/1563 [==============================] - 17s 11ms/step - loss: 2.2318 - accuracy: 0.1385 - val_loss: 2.1976 - val_accuracy: 0.1576\n",
      "Epoch 5/40\n",
      "1563/1563 [==============================] - 17s 11ms/step - loss: 2.2571 - accuracy: 0.1260 - val_loss: 2.3038 - val_accuracy: 0.1000\n",
      "Epoch 6/40\n",
      "1563/1563 [==============================] - 17s 11ms/step - loss: 2.2977 - accuracy: 0.1080 - val_loss: 2.3046 - val_accuracy: 0.1000\n",
      "Epoch 7/40\n",
      "1563/1563 [==============================] - 17s 11ms/step - loss: 2.3045 - accuracy: 0.1003 - val_loss: 2.3052 - val_accuracy: 0.1000\n",
      "Epoch 8/40\n",
      "1563/1563 [==============================] - 17s 11ms/step - loss: 2.3045 - accuracy: 0.0977 - val_loss: 2.3055 - val_accuracy: 0.1000\n",
      "Epoch 9/40\n",
      "1563/1563 [==============================] - 17s 11ms/step - loss: 2.3047 - accuracy: 0.0999 - val_loss: 2.3038 - val_accuracy: 0.1000\n",
      "Epoch 10/40\n",
      "1563/1563 [==============================] - 17s 11ms/step - loss: 2.3042 - accuracy: 0.1003 - val_loss: 2.3038 - val_accuracy: 0.1000\n",
      "Epoch 11/40\n",
      "1563/1563 [==============================] - 17s 11ms/step - loss: 2.3041 - accuracy: 0.0987 - val_loss: 2.3044 - val_accuracy: 0.1000\n",
      "Epoch 12/40\n",
      "1563/1563 [==============================] - 17s 11ms/step - loss: 2.3042 - accuracy: 0.0979 - val_loss: 2.3040 - val_accuracy: 0.1000\n"
     ]
    },
    {
     "data": {
      "text/plain": [
       "<tensorflow.python.keras.callbacks.History at 0x26252e153a0>"
      ]
     },
     "execution_count": 80,
     "metadata": {},
     "output_type": "execute_result"
    }
   ],
   "source": [
    "model6.fit(x_train1, y_train1, epochs = 40, validation_data = (x_test1, y_test1),\n",
    "           callbacks = [stop_early, schedule])"
   ]
  },
  {
   "cell_type": "markdown",
   "metadata": {},
   "source": [
    "### Trying Learning Rate Scheduling"
   ]
  },
  {
   "cell_type": "code",
   "execution_count": 89,
   "metadata": {},
   "outputs": [],
   "source": [
    "model62 = tf.keras.Sequential([\n",
    "    tf.keras.layers.Flatten(input_shape=(64, 48)),\n",
    "    tf.keras.layers.Dense(500, activation='tanh'),\n",
    "    tf.keras.layers.Dense(300, activation='tanh'),\n",
    "    tf.keras.layers.Dense(300, activation='tanh'),\n",
    "    tf.keras.layers.Dense(300, activation='tanh'),\n",
    "    tf.keras.layers.Dense(300, activation='tanh'),\n",
    "    tf.keras.layers.Dense(200, activation='tanh'),\n",
    "    tf.keras.layers.Dense(200, activation='tanh'),\n",
    "    tf.keras.layers.Dense(200, activation='tanh'),\n",
    "    tf.keras.layers.Dense(200, activation='tanh'),\n",
    "    tf.keras.layers.Dense(100, activation='tanh'),\n",
    "    tf.keras.layers.Dense(100, activation='tanh'),\n",
    "    tf.keras.layers.Dense(100, activation='tanh'),\n",
    "    tf.keras.layers.Dense(100, activation='tanh'),\n",
    "    tf.keras.layers.Dense(50, activation='tanh'),\n",
    "    tf.keras.layers.Dense(50, activation='tanh'),\n",
    "    tf.keras.layers.Dense(50, activation='tanh'),\n",
    "    tf.keras.layers.Dense(10, activation='softmax')\n",
    "])"
   ]
  },
  {
   "cell_type": "code",
   "execution_count": 90,
   "metadata": {},
   "outputs": [],
   "source": [
    "lr_init = 0.0001\n",
    "epochs = 40\n",
    "decay = lr_init / epochs\n",
    "\n",
    "def time_based(epoch, lr):\n",
    "    return lr /(1 + decay*epochs)"
   ]
  },
  {
   "cell_type": "code",
   "execution_count": 91,
   "metadata": {},
   "outputs": [],
   "source": [
    "model62.compile(optimizer=keras.optimizers.Adam(learning_rate=1e-3),\n",
    "                loss=keras.losses.SparseCategoricalCrossentropy(from_logits=True),\n",
    "                metrics=['accuracy'])"
   ]
  },
  {
   "cell_type": "code",
   "execution_count": 92,
   "metadata": {},
   "outputs": [],
   "source": [
    "schedule1 = tf.keras.callbacks.LearningRateScheduler(time_based)"
   ]
  },
  {
   "cell_type": "code",
   "execution_count": 93,
   "metadata": {},
   "outputs": [
    {
     "name": "stdout",
     "output_type": "stream",
     "text": [
      "Epoch 1/40\n",
      "1563/1563 [==============================] - 16s 10ms/step - loss: 2.3045 - accuracy: 0.0994 - val_loss: 2.3037 - val_accuracy: 0.1000\n",
      "Epoch 2/40\n",
      "1563/1563 [==============================] - 16s 10ms/step - loss: 2.3044 - accuracy: 0.1009 - val_loss: 2.3050 - val_accuracy: 0.1000\n",
      "Epoch 3/40\n",
      "1563/1563 [==============================] - 16s 10ms/step - loss: 2.3042 - accuracy: 0.0995 - val_loss: 2.3037 - val_accuracy: 0.1000\n",
      "Epoch 4/40\n",
      "1563/1563 [==============================] - 16s 10ms/step - loss: 2.3042 - accuracy: 0.1006 - val_loss: 2.3050 - val_accuracy: 0.1000\n",
      "Epoch 5/40\n",
      "1563/1563 [==============================] - 16s 10ms/step - loss: 2.3042 - accuracy: 0.1007 - val_loss: 2.3040 - val_accuracy: 0.1000\n",
      "Epoch 6/40\n",
      "1563/1563 [==============================] - 16s 10ms/step - loss: 2.3042 - accuracy: 0.0995 - val_loss: 2.3037 - val_accuracy: 0.1000\n",
      "Epoch 7/40\n",
      "1563/1563 [==============================] - 16s 10ms/step - loss: 2.3040 - accuracy: 0.1011 - val_loss: 2.3042 - val_accuracy: 0.1000\n",
      "Epoch 8/40\n",
      "1563/1563 [==============================] - 16s 10ms/step - loss: 2.3040 - accuracy: 0.0999 - val_loss: 2.3082 - val_accuracy: 0.1000\n",
      "Epoch 9/40\n",
      "1563/1563 [==============================] - 16s 10ms/step - loss: 2.3042 - accuracy: 0.1015 - val_loss: 2.3045 - val_accuracy: 0.1000\n",
      "Epoch 10/40\n",
      "1563/1563 [==============================] - 16s 10ms/step - loss: 2.3040 - accuracy: 0.0985 - val_loss: 2.3036 - val_accuracy: 0.1000\n",
      "Epoch 11/40\n",
      "1563/1563 [==============================] - 16s 10ms/step - loss: 2.3042 - accuracy: 0.0991 - val_loss: 2.3039 - val_accuracy: 0.1000\n",
      "Epoch 12/40\n",
      "1563/1563 [==============================] - 16s 10ms/step - loss: 2.3043 - accuracy: 0.0984 - val_loss: 2.3033 - val_accuracy: 0.1000\n",
      "Epoch 13/40\n",
      "1563/1563 [==============================] - 16s 10ms/step - loss: 2.3040 - accuracy: 0.1007 - val_loss: 2.3035 - val_accuracy: 0.1000\n",
      "Epoch 14/40\n",
      "1563/1563 [==============================] - 16s 10ms/step - loss: 2.3039 - accuracy: 0.0997 - val_loss: 2.3036 - val_accuracy: 0.1000\n",
      "Epoch 15/40\n",
      "1563/1563 [==============================] - 16s 10ms/step - loss: 2.3039 - accuracy: 0.1020 - val_loss: 2.3034 - val_accuracy: 0.1000\n",
      "Epoch 16/40\n",
      "1563/1563 [==============================] - 16s 10ms/step - loss: 2.3039 - accuracy: 0.1013 - val_loss: 2.3046 - val_accuracy: 0.1000\n",
      "Epoch 17/40\n",
      "1563/1563 [==============================] - 16s 10ms/step - loss: 2.3041 - accuracy: 0.0990 - val_loss: 2.3036 - val_accuracy: 0.1000\n",
      "Epoch 18/40\n",
      "1563/1563 [==============================] - 16s 10ms/step - loss: 2.3039 - accuracy: 0.1022 - val_loss: 2.3034 - val_accuracy: 0.1000\n",
      "Epoch 19/40\n",
      "1563/1563 [==============================] - 16s 10ms/step - loss: 2.3039 - accuracy: 0.0996 - val_loss: 2.3039 - val_accuracy: 0.1000\n",
      "Epoch 20/40\n",
      "1563/1563 [==============================] - 16s 10ms/step - loss: 2.3039 - accuracy: 0.0972 - val_loss: 2.3047 - val_accuracy: 0.1000\n",
      "Epoch 21/40\n",
      "1563/1563 [==============================] - 16s 10ms/step - loss: 2.3038 - accuracy: 0.0993 - val_loss: 2.3029 - val_accuracy: 0.1000\n",
      "Epoch 22/40\n",
      "1563/1563 [==============================] - 16s 10ms/step - loss: 2.3038 - accuracy: 0.1002 - val_loss: 2.3035 - val_accuracy: 0.1000\n",
      "Epoch 23/40\n",
      "1563/1563 [==============================] - 16s 10ms/step - loss: 2.3037 - accuracy: 0.0986 - val_loss: 2.3038 - val_accuracy: 0.1000\n",
      "Epoch 24/40\n",
      "1563/1563 [==============================] - 16s 10ms/step - loss: 2.3039 - accuracy: 0.0989 - val_loss: 2.3052 - val_accuracy: 0.1000\n",
      "Epoch 25/40\n",
      "1563/1563 [==============================] - 16s 10ms/step - loss: 2.3039 - accuracy: 0.0980 - val_loss: 2.3035 - val_accuracy: 0.1000\n",
      "Epoch 26/40\n",
      "1563/1563 [==============================] - 16s 10ms/step - loss: 2.3038 - accuracy: 0.1009 - val_loss: 2.3030 - val_accuracy: 0.1000\n",
      "Epoch 27/40\n",
      "1563/1563 [==============================] - 16s 11ms/step - loss: 2.3038 - accuracy: 0.0987 - val_loss: 2.3033 - val_accuracy: 0.1000\n",
      "Epoch 28/40\n",
      "1563/1563 [==============================] - 16s 10ms/step - loss: 2.3039 - accuracy: 0.0980 - val_loss: 2.3035 - val_accuracy: 0.1000\n",
      "Epoch 29/40\n",
      "1563/1563 [==============================] - 16s 10ms/step - loss: 2.3036 - accuracy: 0.0992 - val_loss: 2.3034 - val_accuracy: 0.1000\n",
      "Epoch 30/40\n",
      "1563/1563 [==============================] - 16s 10ms/step - loss: 2.3035 - accuracy: 0.1028 - val_loss: 2.3041 - val_accuracy: 0.1000\n",
      "Epoch 31/40\n",
      "1563/1563 [==============================] - 16s 10ms/step - loss: 2.3037 - accuracy: 0.1003 - val_loss: 2.3031 - val_accuracy: 0.1000\n",
      "Epoch 32/40\n",
      "1563/1563 [==============================] - 16s 10ms/step - loss: 2.3037 - accuracy: 0.0982 - val_loss: 2.3034 - val_accuracy: 0.1000\n",
      "Epoch 33/40\n",
      "1563/1563 [==============================] - 16s 10ms/step - loss: 2.3037 - accuracy: 0.0994 - val_loss: 2.3029 - val_accuracy: 0.1000\n",
      "Epoch 34/40\n",
      "1563/1563 [==============================] - 16s 10ms/step - loss: 2.3036 - accuracy: 0.1009 - val_loss: 2.3032 - val_accuracy: 0.1000\n",
      "Epoch 35/40\n",
      "1563/1563 [==============================] - 16s 10ms/step - loss: 2.3036 - accuracy: 0.0998 - val_loss: 2.3034 - val_accuracy: 0.1000\n",
      "Epoch 36/40\n",
      "1563/1563 [==============================] - 16s 11ms/step - loss: 2.3037 - accuracy: 0.0972 - val_loss: 2.3037 - val_accuracy: 0.1000\n",
      "Epoch 37/40\n",
      "1563/1563 [==============================] - 16s 10ms/step - loss: 2.3036 - accuracy: 0.0989 - val_loss: 2.3038 - val_accuracy: 0.1000\n",
      "Epoch 38/40\n",
      "1563/1563 [==============================] - 17s 11ms/step - loss: 2.3036 - accuracy: 0.0985 - val_loss: 2.3034 - val_accuracy: 0.1000\n",
      "Epoch 39/40\n",
      "1563/1563 [==============================] - 1555s 995ms/step - loss: 2.3035 - accuracy: 0.0990 - val_loss: 2.3029 - val_accuracy: 0.1000\n",
      "Epoch 40/40\n",
      "1563/1563 [==============================] - 13s 9ms/step - loss: 2.3036 - accuracy: 0.1007 - val_loss: 2.3033 - val_accuracy: 0.1000\n"
     ]
    },
    {
     "data": {
      "text/plain": [
       "<tensorflow.python.keras.callbacks.History at 0x2625bb2adf0>"
      ]
     },
     "execution_count": 93,
     "metadata": {},
     "output_type": "execute_result"
    }
   ],
   "source": [
    "model61.fit(x_train1, y_train1, epochs = 40, validation_data = (x_test1, y_test1),\n",
    "           callbacks = [schedule1])"
   ]
  },
  {
   "cell_type": "code",
   "execution_count": 111,
   "metadata": {},
   "outputs": [],
   "source": [
    "model7 = tf.keras.Sequential([\n",
    "    tf.keras.layers.Flatten(input_shape=(64, 48)),\n",
    "    tf.keras.layers.Dense(500, activation='tanh'),\n",
    "    tf.keras.layers.Dense(300, activation='tanh'),\n",
    "    tf.keras.layers.Dense(300, activation='tanh'),\n",
    "    tf.keras.layers.Dense(300, activation='tanh'),\n",
    "    tf.keras.layers.Dense(300, activation='tanh'),\n",
    "    tf.keras.layers.Dense(200, activation='tanh'),\n",
    "    tf.keras.layers.Dense(200, activation='tanh'),\n",
    "    tf.keras.layers.Dense(200, activation='tanh'),\n",
    "    tf.keras.layers.Dense(200, activation='tanh'),\n",
    "    tf.keras.layers.Dense(100, activation='tanh'),\n",
    "    tf.keras.layers.Dense(100, activation='tanh'),\n",
    "    tf.keras.layers.Dense(100, activation='tanh'),\n",
    "    tf.keras.layers.Dense(100, activation='tanh'),\n",
    "    tf.keras.layers.Dense(50, activation='tanh'),\n",
    "    tf.keras.layers.Dense(50, activation='tanh'),\n",
    "    tf.keras.layers.Dense(50, activation='tanh'),\n",
    "    tf.keras.layers.Dense(10, activation='softmax')\n",
    "])"
   ]
  },
  {
   "cell_type": "code",
   "execution_count": 112,
   "metadata": {},
   "outputs": [],
   "source": [
    "model7.compile(optimizer=keras.optimizers.Adam(learning_rate=1e-4),\n",
    "                loss=keras.losses.SparseCategoricalCrossentropy(from_logits=True),\n",
    "                metrics=['accuracy'])"
   ]
  },
  {
   "cell_type": "code",
   "execution_count": 113,
   "metadata": {},
   "outputs": [
    {
     "name": "stdout",
     "output_type": "stream",
     "text": [
      "Epoch 1/40\n",
      "1563/1563 [==============================] - 17s 10ms/step - loss: 2.2683 - accuracy: 0.1331 - val_loss: 2.3063 - val_accuracy: 0.1013\n",
      "Epoch 2/40\n",
      "1563/1563 [==============================] - 16s 10ms/step - loss: 2.2996 - accuracy: 0.1095 - val_loss: 2.3042 - val_accuracy: 0.1000\n",
      "Epoch 3/40\n",
      "1563/1563 [==============================] - 16s 10ms/step - loss: 2.3043 - accuracy: 0.1010 - val_loss: 2.3048 - val_accuracy: 0.1000\n",
      "Epoch 4/40\n",
      "1563/1563 [==============================] - 16s 10ms/step - loss: 2.3051 - accuracy: 0.0989 - val_loss: 2.3041 - val_accuracy: 0.1000\n",
      "Epoch 5/40\n",
      "1563/1563 [==============================] - 16s 10ms/step - loss: 2.3049 - accuracy: 0.1015 - val_loss: 2.3038 - val_accuracy: 0.1000\n",
      "Epoch 6/40\n",
      "1563/1563 [==============================] - 16s 10ms/step - loss: 2.3042 - accuracy: 0.1002 - val_loss: 2.3045 - val_accuracy: 0.1000\n",
      "Epoch 7/40\n",
      "1563/1563 [==============================] - 16s 10ms/step - loss: 2.3045 - accuracy: 0.0999 - val_loss: 2.3042 - val_accuracy: 0.1000\n",
      "Epoch 8/40\n",
      "1563/1563 [==============================] - 16s 10ms/step - loss: 2.3045 - accuracy: 0.1002 - val_loss: 2.3030 - val_accuracy: 0.1000\n",
      "Epoch 9/40\n",
      "1563/1563 [==============================] - 16s 10ms/step - loss: 2.3033 - accuracy: 0.1042 - val_loss: 2.3040 - val_accuracy: 0.1000\n",
      "Epoch 10/40\n",
      "1563/1563 [==============================] - 16s 10ms/step - loss: 2.3048 - accuracy: 0.0969 - val_loss: 2.3032 - val_accuracy: 0.1000\n",
      "Epoch 11/40\n",
      "1563/1563 [==============================] - 16s 10ms/step - loss: 2.3046 - accuracy: 0.0979 - val_loss: 2.3050 - val_accuracy: 0.1000\n",
      "Epoch 12/40\n",
      "1563/1563 [==============================] - 16s 10ms/step - loss: 2.3040 - accuracy: 0.1026 - val_loss: 2.3038 - val_accuracy: 0.1000\n",
      "Epoch 13/40\n",
      "1563/1563 [==============================] - 16s 10ms/step - loss: 2.3042 - accuracy: 0.0994 - val_loss: 2.3041 - val_accuracy: 0.1000\n",
      "Epoch 14/40\n",
      "1563/1563 [==============================] - 16s 10ms/step - loss: 2.3042 - accuracy: 0.0991 - val_loss: 2.3034 - val_accuracy: 0.1000\n",
      "Epoch 15/40\n",
      "1563/1563 [==============================] - 16s 10ms/step - loss: 2.3043 - accuracy: 0.0998 - val_loss: 2.3040 - val_accuracy: 0.1000\n",
      "Epoch 16/40\n",
      "1563/1563 [==============================] - 16s 11ms/step - loss: 2.3040 - accuracy: 0.1006 - val_loss: 2.3046 - val_accuracy: 0.1000\n",
      "Epoch 17/40\n",
      "1563/1563 [==============================] - 16s 10ms/step - loss: 2.3040 - accuracy: 0.1006 - val_loss: 2.3033 - val_accuracy: 0.1000\n",
      "Epoch 18/40\n",
      "1563/1563 [==============================] - 16s 10ms/step - loss: 2.3038 - accuracy: 0.1002 - val_loss: 2.3038 - val_accuracy: 0.1000\n"
     ]
    },
    {
     "data": {
      "text/plain": [
       "<tensorflow.python.keras.callbacks.History at 0x2626992a9d0>"
      ]
     },
     "execution_count": 113,
     "metadata": {},
     "output_type": "execute_result"
    }
   ],
   "source": [
    "model7.fit(x_train1, y_train1, epochs = 40, validation_data = (x_test1, y_test1),\n",
    "           callbacks = [stop_early])"
   ]
  },
  {
   "cell_type": "markdown",
   "metadata": {},
   "source": [
    "Learning rate scheduling totally didn't worked here. May be I need to try some more to find a good result."
   ]
  },
  {
   "cell_type": "markdown",
   "metadata": {},
   "source": [
    "### Batch Normalization"
   ]
  },
  {
   "cell_type": "code",
   "execution_count": 99,
   "metadata": {},
   "outputs": [],
   "source": [
    "model31 = tf.keras.Sequential([\n",
    "    tf.keras.layers.Flatten(input_shape=(64, 48)),\n",
    "    keras.layers.BatchNormalization(),\n",
    "    tf.keras.layers.Dense(500, activation='elu'),\n",
    "    keras.layers.BatchNormalization(),\n",
    "    tf.keras.layers.Dense(300, activation='elu'),\n",
    "    keras.layers.BatchNormalization(),\n",
    "    tf.keras.layers.Dense(300, activation='elu'),\n",
    "    keras.layers.BatchNormalization(),\n",
    "    tf.keras.layers.Dense(300, activation='elu'),\n",
    "    keras.layers.BatchNormalization(),\n",
    "    tf.keras.layers.Dense(300, activation='elu'),\n",
    "    keras.layers.BatchNormalization(),\n",
    "    tf.keras.layers.Dense(200, activation='elu'),\n",
    "    keras.layers.BatchNormalization(),\n",
    "    tf.keras.layers.Dense(200, activation='elu'),\n",
    "    keras.layers.BatchNormalization(),\n",
    "    tf.keras.layers.Dense(200, activation='elu'),\n",
    "    keras.layers.BatchNormalization(),\n",
    "    tf.keras.layers.Dense(200, activation='elu'),\n",
    "    keras.layers.BatchNormalization(),\n",
    "    tf.keras.layers.Dense(100, activation='elu'),\n",
    "    keras.layers.BatchNormalization(),\n",
    "    tf.keras.layers.Dense(100, activation='elu'),\n",
    "    keras.layers.BatchNormalization(),\n",
    "    tf.keras.layers.Dense(100, activation='elu'),\n",
    "    keras.layers.BatchNormalization(),\n",
    "    tf.keras.layers.Dense(50, activation='elu'),\n",
    "    keras.layers.BatchNormalization(),\n",
    "    tf.keras.layers.Dense(50, activation='elu'),\n",
    "    keras.layers.BatchNormalization(),\n",
    "    tf.keras.layers.Dense(10, activation='softmax')\n",
    "])"
   ]
  },
  {
   "cell_type": "code",
   "execution_count": 100,
   "metadata": {},
   "outputs": [],
   "source": [
    "model31.compile(optimizer=keras.optimizers.Adam(learning_rate=1e-4),\n",
    "                loss=keras.losses.SparseCategoricalCrossentropy(from_logits=True),\n",
    "                metrics=['accuracy'])"
   ]
  },
  {
   "cell_type": "code",
   "execution_count": 105,
   "metadata": {
    "scrolled": true
   },
   "outputs": [
    {
     "name": "stdout",
     "output_type": "stream",
     "text": [
      "Epoch 1/40\n",
      "1563/1563 [==============================] - 29s 17ms/step - loss: 1.7913 - accuracy: 0.3690 - val_loss: 1.5639 - val_accuracy: 0.4490\n",
      "Epoch 2/40\n",
      "1563/1563 [==============================] - 27s 17ms/step - loss: 1.5784 - accuracy: 0.4414 - val_loss: 1.4586 - val_accuracy: 0.4859\n",
      "Epoch 3/40\n",
      "1563/1563 [==============================] - 27s 17ms/step - loss: 1.4866 - accuracy: 0.4729 - val_loss: 1.4110 - val_accuracy: 0.4906\n",
      "Epoch 4/40\n",
      "1563/1563 [==============================] - 27s 17ms/step - loss: 1.4176 - accuracy: 0.4992 - val_loss: 1.3758 - val_accuracy: 0.5120\n",
      "Epoch 5/40\n",
      "1563/1563 [==============================] - 26s 17ms/step - loss: 1.3623 - accuracy: 0.5177 - val_loss: 1.3579 - val_accuracy: 0.5133\n",
      "Epoch 6/40\n",
      "1563/1563 [==============================] - 26s 17ms/step - loss: 1.3071 - accuracy: 0.5403 - val_loss: 1.3334 - val_accuracy: 0.5270\n",
      "Epoch 7/40\n",
      "1563/1563 [==============================] - 26s 16ms/step - loss: 1.2602 - accuracy: 0.5540 - val_loss: 1.3266 - val_accuracy: 0.5363\n",
      "Epoch 8/40\n",
      "1563/1563 [==============================] - 26s 17ms/step - loss: 1.2169 - accuracy: 0.5695 - val_loss: 1.3038 - val_accuracy: 0.5454\n",
      "Epoch 9/40\n",
      "1563/1563 [==============================] - 26s 17ms/step - loss: 1.1744 - accuracy: 0.5892 - val_loss: 1.3220 - val_accuracy: 0.5362\n",
      "Epoch 10/40\n",
      "1563/1563 [==============================] - 26s 16ms/step - loss: 1.1346 - accuracy: 0.6018 - val_loss: 1.3306 - val_accuracy: 0.5320\n",
      "Epoch 11/40\n",
      "1563/1563 [==============================] - 26s 17ms/step - loss: 1.0959 - accuracy: 0.6129 - val_loss: 1.3220 - val_accuracy: 0.5511\n",
      "Epoch 12/40\n",
      "1563/1563 [==============================] - 26s 16ms/step - loss: 1.0635 - accuracy: 0.6286 - val_loss: 1.3207 - val_accuracy: 0.5460\n",
      "Epoch 13/40\n",
      "1563/1563 [==============================] - 27s 18ms/step - loss: 1.0256 - accuracy: 0.6405 - val_loss: 1.3343 - val_accuracy: 0.5492\n",
      "Epoch 14/40\n",
      "1563/1563 [==============================] - 27s 17ms/step - loss: 0.9955 - accuracy: 0.6513 - val_loss: 1.3168 - val_accuracy: 0.5529\n",
      "Epoch 15/40\n",
      "1563/1563 [==============================] - 28s 18ms/step - loss: 0.9617 - accuracy: 0.6589 - val_loss: 1.3222 - val_accuracy: 0.5495\n",
      "Epoch 16/40\n",
      "1563/1563 [==============================] - 27s 17ms/step - loss: 0.9334 - accuracy: 0.6721 - val_loss: 1.3371 - val_accuracy: 0.5506\n",
      "Epoch 17/40\n",
      "1563/1563 [==============================] - 28s 18ms/step - loss: 0.9032 - accuracy: 0.6824 - val_loss: 1.3498 - val_accuracy: 0.5456\n",
      "Epoch 18/40\n",
      "1563/1563 [==============================] - 30s 19ms/step - loss: 0.8755 - accuracy: 0.6918 - val_loss: 1.3603 - val_accuracy: 0.5527\n"
     ]
    },
    {
     "data": {
      "text/plain": [
       "<tensorflow.python.keras.callbacks.History at 0x26250095580>"
      ]
     },
     "execution_count": 105,
     "metadata": {},
     "output_type": "execute_result"
    }
   ],
   "source": [
    "model31.fit(x_train1, y_train1, epochs = 40, validation_data = (x_test1, y_test1),\n",
    "           callbacks = [stop_early])"
   ]
  },
  {
   "cell_type": "markdown",
   "metadata": {},
   "source": [
    "I used batch normalization on model3. I can see an improvement in accuravy rate. Model31 is definitely better than model 3"
   ]
  },
  {
   "cell_type": "code",
   "execution_count": 108,
   "metadata": {},
   "outputs": [],
   "source": [
    "model71 = tf.keras.Sequential([\n",
    "    tf.keras.layers.Flatten(input_shape=(64, 48)),\n",
    "    keras.layers.BatchNormalization(),\n",
    "    tf.keras.layers.Dense(500, activation='tanh'),\n",
    "    keras.layers.BatchNormalization(),\n",
    "    tf.keras.layers.Dense(300, activation='tanh'),\n",
    "    keras.layers.BatchNormalization(),\n",
    "    tf.keras.layers.Dense(300, activation='tanh'),\n",
    "    keras.layers.BatchNormalization(),\n",
    "    tf.keras.layers.Dense(300, activation='tanh'),\n",
    "    keras.layers.BatchNormalization(),\n",
    "    tf.keras.layers.Dense(300, activation='tanh'),\n",
    "    keras.layers.BatchNormalization(),\n",
    "    tf.keras.layers.Dense(200, activation='tanh'),\n",
    "    keras.layers.BatchNormalization(),\n",
    "    tf.keras.layers.Dense(200, activation='tanh'),\n",
    "    keras.layers.BatchNormalization(),\n",
    "    tf.keras.layers.Dense(200, activation='tanh'),\n",
    "    keras.layers.BatchNormalization(),\n",
    "    tf.keras.layers.Dense(200, activation='tanh'),\n",
    "    keras.layers.BatchNormalization(),\n",
    "    tf.keras.layers.Dense(100, activation='tanh'),\n",
    "    keras.layers.BatchNormalization(),\n",
    "    tf.keras.layers.Dense(100, activation='tanh'),\n",
    "    keras.layers.BatchNormalization(),\n",
    "    tf.keras.layers.Dense(100, activation='tanh'),\n",
    "    keras.layers.BatchNormalization(),\n",
    "    tf.keras.layers.Dense(100, activation='tanh'),\n",
    "    keras.layers.BatchNormalization(),\n",
    "    tf.keras.layers.Dense(50, activation='tanh'),\n",
    "    keras.layers.BatchNormalization(),\n",
    "    tf.keras.layers.Dense(50, activation='tanh'),\n",
    "    keras.layers.BatchNormalization(),\n",
    "    tf.keras.layers.Dense(50, activation='tanh'),\n",
    "    keras.layers.BatchNormalization(),\n",
    "    tf.keras.layers.Dense(10, activation='softmax')\n",
    "])"
   ]
  },
  {
   "cell_type": "code",
   "execution_count": 109,
   "metadata": {},
   "outputs": [],
   "source": [
    "model71.compile(optimizer=keras.optimizers.Adam(learning_rate=1e-4),\n",
    "                loss=keras.losses.SparseCategoricalCrossentropy(from_logits=True),\n",
    "                metrics=['accuracy'])"
   ]
  },
  {
   "cell_type": "code",
   "execution_count": 110,
   "metadata": {
    "scrolled": true
   },
   "outputs": [
    {
     "name": "stdout",
     "output_type": "stream",
     "text": [
      "Epoch 1/40\n",
      "1563/1563 [==============================] - 31s 18ms/step - loss: 2.0286 - accuracy: 0.2816 - val_loss: 1.8562 - val_accuracy: 0.3465\n",
      "Epoch 2/40\n",
      "1563/1563 [==============================] - 27s 17ms/step - loss: 1.8428 - accuracy: 0.3502 - val_loss: 1.7580 - val_accuracy: 0.3844\n",
      "Epoch 3/40\n",
      "1563/1563 [==============================] - 27s 18ms/step - loss: 1.7686 - accuracy: 0.3792 - val_loss: 1.7199 - val_accuracy: 0.4000\n",
      "Epoch 4/40\n",
      "1563/1563 [==============================] - 27s 18ms/step - loss: 1.7204 - accuracy: 0.3990 - val_loss: 1.6478 - val_accuracy: 0.4349\n",
      "Epoch 5/40\n",
      "1563/1563 [==============================] - 28s 18ms/step - loss: 1.6684 - accuracy: 0.4194 - val_loss: 1.6232 - val_accuracy: 0.4357\n",
      "Epoch 6/40\n",
      "1563/1563 [==============================] - 30s 19ms/step - loss: 1.6188 - accuracy: 0.4372 - val_loss: 1.5827 - val_accuracy: 0.4517\n",
      "Epoch 7/40\n",
      "1563/1563 [==============================] - 29s 19ms/step - loss: 1.5783 - accuracy: 0.4529 - val_loss: 1.5647 - val_accuracy: 0.4526\n",
      "Epoch 8/40\n",
      "1563/1563 [==============================] - 29s 18ms/step - loss: 1.5496 - accuracy: 0.4611 - val_loss: 1.5745 - val_accuracy: 0.4498\n",
      "Epoch 9/40\n",
      "1563/1563 [==============================] - 28s 18ms/step - loss: 1.5134 - accuracy: 0.4746 - val_loss: 1.5178 - val_accuracy: 0.4699\n",
      "Epoch 10/40\n",
      "1563/1563 [==============================] - 27s 18ms/step - loss: 1.4846 - accuracy: 0.4846 - val_loss: 1.5043 - val_accuracy: 0.4794\n",
      "Epoch 11/40\n",
      "1563/1563 [==============================] - 28s 18ms/step - loss: 1.4537 - accuracy: 0.4944 - val_loss: 1.4910 - val_accuracy: 0.4857\n",
      "Epoch 12/40\n",
      "1563/1563 [==============================] - 28s 18ms/step - loss: 1.4246 - accuracy: 0.5043 - val_loss: 1.4975 - val_accuracy: 0.4770\n",
      "Epoch 13/40\n",
      "1563/1563 [==============================] - 32s 20ms/step - loss: 1.4059 - accuracy: 0.5124 - val_loss: 1.4883 - val_accuracy: 0.4881\n",
      "Epoch 14/40\n",
      "1563/1563 [==============================] - 28s 18ms/step - loss: 1.3781 - accuracy: 0.5220 - val_loss: 1.4856 - val_accuracy: 0.4855\n",
      "Epoch 15/40\n",
      "1563/1563 [==============================] - 28s 18ms/step - loss: 1.3529 - accuracy: 0.5302 - val_loss: 1.4995 - val_accuracy: 0.4790\n",
      "Epoch 16/40\n",
      "1563/1563 [==============================] - 27s 17ms/step - loss: 1.3329 - accuracy: 0.5385 - val_loss: 1.4742 - val_accuracy: 0.4983\n",
      "Epoch 17/40\n",
      "1563/1563 [==============================] - 27s 17ms/step - loss: 1.3061 - accuracy: 0.5474 - val_loss: 1.4837 - val_accuracy: 0.4860\n",
      "Epoch 18/40\n",
      "1563/1563 [==============================] - 29s 18ms/step - loss: 1.2881 - accuracy: 0.5512 - val_loss: 1.4689 - val_accuracy: 0.4955\n",
      "Epoch 19/40\n",
      "1563/1563 [==============================] - 28s 18ms/step - loss: 1.2669 - accuracy: 0.5581 - val_loss: 1.4782 - val_accuracy: 0.4912\n",
      "Epoch 20/40\n",
      "1563/1563 [==============================] - 27s 17ms/step - loss: 1.2427 - accuracy: 0.5714 - val_loss: 1.4696 - val_accuracy: 0.4940\n",
      "Epoch 21/40\n",
      "1563/1563 [==============================] - 27s 17ms/step - loss: 1.2200 - accuracy: 0.5760 - val_loss: 1.4750 - val_accuracy: 0.5000\n",
      "Epoch 22/40\n",
      "1563/1563 [==============================] - 27s 17ms/step - loss: 1.2001 - accuracy: 0.5838 - val_loss: 1.4580 - val_accuracy: 0.5026\n",
      "Epoch 23/40\n",
      "1563/1563 [==============================] - 27s 18ms/step - loss: 1.1792 - accuracy: 0.5898 - val_loss: 1.4696 - val_accuracy: 0.4973\n",
      "Epoch 24/40\n",
      "1563/1563 [==============================] - 27s 17ms/step - loss: 1.1552 - accuracy: 0.5992 - val_loss: 1.4858 - val_accuracy: 0.4961\n",
      "Epoch 25/40\n",
      "1563/1563 [==============================] - 27s 17ms/step - loss: 1.1433 - accuracy: 0.6040 - val_loss: 1.4837 - val_accuracy: 0.5045\n",
      "Epoch 26/40\n",
      "1563/1563 [==============================] - 27s 17ms/step - loss: 1.1248 - accuracy: 0.6087 - val_loss: 1.4886 - val_accuracy: 0.5028\n",
      "Epoch 27/40\n",
      "1563/1563 [==============================] - 27s 17ms/step - loss: 1.1146 - accuracy: 0.6138 - val_loss: 1.4884 - val_accuracy: 0.5074\n",
      "Epoch 28/40\n",
      "1563/1563 [==============================] - 29s 18ms/step - loss: 1.0860 - accuracy: 0.6224 - val_loss: 1.4930 - val_accuracy: 0.4999\n",
      "Epoch 29/40\n",
      "1563/1563 [==============================] - 27s 17ms/step - loss: 1.0726 - accuracy: 0.6296 - val_loss: 1.4965 - val_accuracy: 0.5134\n",
      "Epoch 30/40\n",
      "1563/1563 [==============================] - 28s 18ms/step - loss: 1.0576 - accuracy: 0.6328 - val_loss: 1.4860 - val_accuracy: 0.5067\n",
      "Epoch 31/40\n",
      "1563/1563 [==============================] - 28s 18ms/step - loss: 1.0473 - accuracy: 0.6378 - val_loss: 1.5073 - val_accuracy: 0.5060\n",
      "Epoch 32/40\n",
      "1563/1563 [==============================] - 27s 17ms/step - loss: 1.0311 - accuracy: 0.6446 - val_loss: 1.4986 - val_accuracy: 0.5143\n"
     ]
    },
    {
     "data": {
      "text/plain": [
       "<tensorflow.python.keras.callbacks.History at 0x2625fa55f70>"
      ]
     },
     "execution_count": 110,
     "metadata": {},
     "output_type": "execute_result"
    }
   ],
   "source": [
    "model71.fit(x_train1, y_train1, epochs = 40, validation_data = (x_test1, y_test1),\n",
    "           callbacks = [stop_early])"
   ]
  },
  {
   "cell_type": "markdown",
   "metadata": {},
   "source": [
    "I tried the same number of layers and the same number of neurons with selu, tanh and elu activation functions. the elu gave me a bit better accuracy. "
   ]
  },
  {
   "cell_type": "code",
   "execution_count": 114,
   "metadata": {},
   "outputs": [],
   "source": [
    "x_train11 = x_train1/255.0\n",
    "x_test11 = x_test1/255.0"
   ]
  },
  {
   "cell_type": "code",
   "execution_count": 115,
   "metadata": {},
   "outputs": [],
   "source": [
    "model32 = tf.keras.Sequential([\n",
    "    tf.keras.layers.Flatten(input_shape=(64, 48)),\n",
    "    keras.layers.BatchNormalization(),\n",
    "    tf.keras.layers.Dense(500, activation='elu'),\n",
    "    keras.layers.BatchNormalization(),\n",
    "    tf.keras.layers.Dense(300, activation='elu'),\n",
    "    keras.layers.BatchNormalization(),\n",
    "    tf.keras.layers.Dense(300, activation='elu'),\n",
    "    keras.layers.BatchNormalization(),\n",
    "    tf.keras.layers.Dense(300, activation='elu'),\n",
    "    keras.layers.BatchNormalization(),\n",
    "    tf.keras.layers.Dense(300, activation='elu'),\n",
    "    keras.layers.BatchNormalization(),\n",
    "    tf.keras.layers.Dense(200, activation='elu'),\n",
    "    keras.layers.BatchNormalization(),\n",
    "    tf.keras.layers.Dense(200, activation='elu'),\n",
    "    keras.layers.BatchNormalization(),\n",
    "    tf.keras.layers.Dense(200, activation='elu'),\n",
    "    keras.layers.BatchNormalization(),\n",
    "    tf.keras.layers.Dense(200, activation='elu'),\n",
    "    keras.layers.BatchNormalization(),\n",
    "    tf.keras.layers.Dense(100, activation='elu'),\n",
    "    keras.layers.BatchNormalization(),\n",
    "    tf.keras.layers.Dense(100, activation='elu'),\n",
    "    keras.layers.BatchNormalization(),\n",
    "    tf.keras.layers.Dense(100, activation='elu'),\n",
    "    keras.layers.BatchNormalization(),\n",
    "    tf.keras.layers.Dense(50, activation='elu'),\n",
    "    keras.layers.BatchNormalization(),\n",
    "    tf.keras.layers.Dense(50, activation='elu'),\n",
    "    keras.layers.BatchNormalization(),\n",
    "    tf.keras.layers.Dense(10, activation='softmax')\n",
    "])"
   ]
  },
  {
   "cell_type": "code",
   "execution_count": 116,
   "metadata": {},
   "outputs": [],
   "source": [
    "model32.compile(optimizer=keras.optimizers.Adam(learning_rate=1e-4),\n",
    "                loss=keras.losses.SparseCategoricalCrossentropy(from_logits=True),\n",
    "                metrics=['accuracy'])"
   ]
  },
  {
   "cell_type": "code",
   "execution_count": 117,
   "metadata": {
    "scrolled": true
   },
   "outputs": [
    {
     "name": "stdout",
     "output_type": "stream",
     "text": [
      "Epoch 1/40\n",
      "1563/1563 [==============================] - 30s 18ms/step - loss: 1.8050 - accuracy: 0.3606 - val_loss: 1.5451 - val_accuracy: 0.4549\n",
      "Epoch 2/40\n",
      "1563/1563 [==============================] - 27s 17ms/step - loss: 1.5856 - accuracy: 0.4385 - val_loss: 1.4714 - val_accuracy: 0.4748\n",
      "Epoch 3/40\n",
      "1563/1563 [==============================] - 28s 18ms/step - loss: 1.4942 - accuracy: 0.4726 - val_loss: 1.3984 - val_accuracy: 0.5069\n",
      "Epoch 4/40\n",
      "1563/1563 [==============================] - 27s 17ms/step - loss: 1.4216 - accuracy: 0.5001 - val_loss: 1.3727 - val_accuracy: 0.5147\n",
      "Epoch 5/40\n",
      "1563/1563 [==============================] - 27s 17ms/step - loss: 1.3693 - accuracy: 0.5172 - val_loss: 1.3400 - val_accuracy: 0.5264\n",
      "Epoch 6/40\n",
      "1563/1563 [==============================] - 27s 17ms/step - loss: 1.3133 - accuracy: 0.5365 - val_loss: 1.3056 - val_accuracy: 0.5427\n",
      "Epoch 7/40\n",
      "1563/1563 [==============================] - 28s 18ms/step - loss: 1.2677 - accuracy: 0.5537 - val_loss: 1.3337 - val_accuracy: 0.5353\n",
      "Epoch 8/40\n",
      "1563/1563 [==============================] - 27s 17ms/step - loss: 1.2227 - accuracy: 0.5700 - val_loss: 1.3240 - val_accuracy: 0.5324\n",
      "Epoch 9/40\n",
      "1563/1563 [==============================] - 27s 18ms/step - loss: 1.1882 - accuracy: 0.5794 - val_loss: 1.2854 - val_accuracy: 0.5476\n",
      "Epoch 10/40\n",
      "1563/1563 [==============================] - 27s 17ms/step - loss: 1.1389 - accuracy: 0.5974 - val_loss: 1.2919 - val_accuracy: 0.5484\n",
      "Epoch 11/40\n",
      "1563/1563 [==============================] - 27s 17ms/step - loss: 1.1052 - accuracy: 0.6125 - val_loss: 1.3115 - val_accuracy: 0.5447\n",
      "Epoch 12/40\n",
      "1563/1563 [==============================] - 27s 18ms/step - loss: 1.0773 - accuracy: 0.6213 - val_loss: 1.2920 - val_accuracy: 0.5510\n",
      "Epoch 13/40\n",
      "1563/1563 [==============================] - 27s 17ms/step - loss: 1.0399 - accuracy: 0.6325 - val_loss: 1.3261 - val_accuracy: 0.5499\n",
      "Epoch 14/40\n",
      "1563/1563 [==============================] - 27s 17ms/step - loss: 1.0030 - accuracy: 0.6476 - val_loss: 1.3038 - val_accuracy: 0.5513\n",
      "Epoch 15/40\n",
      "1563/1563 [==============================] - 27s 17ms/step - loss: 0.9688 - accuracy: 0.6588 - val_loss: 1.3306 - val_accuracy: 0.5446\n",
      "Epoch 16/40\n",
      "1563/1563 [==============================] - 27s 17ms/step - loss: 0.9461 - accuracy: 0.6702 - val_loss: 1.3226 - val_accuracy: 0.5470\n",
      "Epoch 17/40\n",
      "1563/1563 [==============================] - 27s 18ms/step - loss: 0.9166 - accuracy: 0.6788 - val_loss: 1.3284 - val_accuracy: 0.5555\n",
      "Epoch 18/40\n",
      "1563/1563 [==============================] - 27s 17ms/step - loss: 0.8845 - accuracy: 0.6903 - val_loss: 1.3620 - val_accuracy: 0.5529\n",
      "Epoch 19/40\n",
      "1563/1563 [==============================] - 27s 17ms/step - loss: 0.8562 - accuracy: 0.6972 - val_loss: 1.3392 - val_accuracy: 0.5671\n"
     ]
    },
    {
     "data": {
      "text/plain": [
       "<tensorflow.python.keras.callbacks.History at 0x262c9dcddf0>"
      ]
     },
     "execution_count": 117,
     "metadata": {},
     "output_type": "execute_result"
    }
   ],
   "source": [
    "model32.fit(x_train11, y_train1, epochs = 40, validation_data = (x_test11, y_test1),\n",
    "           callbacks = [stop_early])"
   ]
  },
  {
   "cell_type": "markdown",
   "metadata": {},
   "source": [
    "This was my best model results so far. I got 69.72% accuracy on training set and 56.71% accuracy on the validation set. Quit a bit overfitting though.  "
   ]
  },
  {
   "cell_type": "code",
   "execution_count": null,
   "metadata": {},
   "outputs": [],
   "source": []
  }
 ],
 "metadata": {
  "kernelspec": {
   "display_name": "Python 3",
   "language": "python",
   "name": "python3"
  },
  "language_info": {
   "codemirror_mode": {
    "name": "ipython",
    "version": 3
   },
   "file_extension": ".py",
   "mimetype": "text/x-python",
   "name": "python",
   "nbconvert_exporter": "python",
   "pygments_lexer": "ipython3",
   "version": "3.8.5"
  }
 },
 "nbformat": 4,
 "nbformat_minor": 4
}
